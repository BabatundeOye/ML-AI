{
 "cells": [
  {
   "cell_type": "code",
   "execution_count": 2,
   "metadata": {},
   "outputs": [],
   "source": [
    "import warnings\n",
    "warnings.filterwarnings('ignore')\n",
    "import pandas as pd\n",
    "import numpy as np\n",
    "import matplotlib.pyplot as plt\n",
    "import matplotlib.patches as mpatches\n",
    "import seaborn as sns\n",
    "from sklearn.preprocessing import LabelEncoder, OneHotEncoder, StandardScaler\n",
    "from sklearn.model_selection import train_test_split\n",
    "from sklearn.neighbors import KNeighborsClassifier\n",
    "from sklearn.metrics import accuracy_score, confusion_matrix, classification_report\n",
    "\n"
   ]
  },
  {
   "cell_type": "code",
   "execution_count": 3,
   "metadata": {},
   "outputs": [
    {
     "data": {
      "application/vnd.microsoft.datawrangler.viewer.v0+json": {
       "columns": [
        {
         "name": "index",
         "rawType": "int64",
         "type": "integer"
        },
        {
         "name": "checking_status",
         "rawType": "category",
         "type": "unknown"
        },
        {
         "name": "duration",
         "rawType": "int64",
         "type": "integer"
        },
        {
         "name": "credit_history",
         "rawType": "category",
         "type": "unknown"
        },
        {
         "name": "purpose",
         "rawType": "category",
         "type": "unknown"
        },
        {
         "name": "credit_amount",
         "rawType": "int64",
         "type": "integer"
        },
        {
         "name": "savings_status",
         "rawType": "category",
         "type": "unknown"
        },
        {
         "name": "employment",
         "rawType": "category",
         "type": "unknown"
        },
        {
         "name": "installment_commitment",
         "rawType": "int64",
         "type": "integer"
        },
        {
         "name": "personal_status",
         "rawType": "category",
         "type": "unknown"
        },
        {
         "name": "other_parties",
         "rawType": "category",
         "type": "unknown"
        },
        {
         "name": "residence_since",
         "rawType": "int64",
         "type": "integer"
        },
        {
         "name": "property_magnitude",
         "rawType": "category",
         "type": "unknown"
        },
        {
         "name": "age",
         "rawType": "int64",
         "type": "integer"
        },
        {
         "name": "other_payment_plans",
         "rawType": "category",
         "type": "unknown"
        },
        {
         "name": "housing",
         "rawType": "category",
         "type": "unknown"
        },
        {
         "name": "existing_credits",
         "rawType": "int64",
         "type": "integer"
        },
        {
         "name": "job",
         "rawType": "category",
         "type": "unknown"
        },
        {
         "name": "num_dependents",
         "rawType": "int64",
         "type": "integer"
        },
        {
         "name": "own_telephone",
         "rawType": "category",
         "type": "unknown"
        },
        {
         "name": "foreign_worker",
         "rawType": "category",
         "type": "unknown"
        }
       ],
       "conversionMethod": "pd.DataFrame",
       "ref": "63254688-6e57-4c2c-b98c-fd24244b1d38",
       "rows": [
        [
         "0",
         "<0",
         "6",
         "critical/other existing credit",
         "radio/tv",
         "1169",
         "no known savings",
         ">=7",
         "4",
         "male single",
         "none",
         "4",
         "real estate",
         "67",
         "none",
         "own",
         "2",
         "skilled",
         "1",
         "yes",
         "yes"
        ],
        [
         "1",
         "0<=X<200",
         "48",
         "existing paid",
         "radio/tv",
         "5951",
         "<100",
         "1<=X<4",
         "2",
         "female div/dep/mar",
         "none",
         "2",
         "real estate",
         "22",
         "none",
         "own",
         "1",
         "skilled",
         "1",
         "none",
         "yes"
        ],
        [
         "2",
         "no checking",
         "12",
         "critical/other existing credit",
         "education",
         "2096",
         "<100",
         "4<=X<7",
         "2",
         "male single",
         "none",
         "3",
         "real estate",
         "49",
         "none",
         "own",
         "1",
         "unskilled resident",
         "2",
         "none",
         "yes"
        ],
        [
         "3",
         "<0",
         "42",
         "existing paid",
         "furniture/equipment",
         "7882",
         "<100",
         "4<=X<7",
         "2",
         "male single",
         "guarantor",
         "4",
         "life insurance",
         "45",
         "none",
         "for free",
         "1",
         "skilled",
         "2",
         "none",
         "yes"
        ],
        [
         "4",
         "<0",
         "24",
         "delayed previously",
         "new car",
         "4870",
         "<100",
         "1<=X<4",
         "3",
         "male single",
         "none",
         "4",
         "no known property",
         "53",
         "none",
         "for free",
         "2",
         "skilled",
         "2",
         "none",
         "yes"
        ],
        [
         "5",
         "no checking",
         "36",
         "existing paid",
         "education",
         "9055",
         "no known savings",
         "1<=X<4",
         "2",
         "male single",
         "none",
         "4",
         "no known property",
         "35",
         "none",
         "for free",
         "1",
         "unskilled resident",
         "2",
         "yes",
         "yes"
        ]
       ],
       "shape": {
        "columns": 20,
        "rows": 6
       }
      },
      "text/html": [
       "<div>\n",
       "<style scoped>\n",
       "    .dataframe tbody tr th:only-of-type {\n",
       "        vertical-align: middle;\n",
       "    }\n",
       "\n",
       "    .dataframe tbody tr th {\n",
       "        vertical-align: top;\n",
       "    }\n",
       "\n",
       "    .dataframe thead th {\n",
       "        text-align: right;\n",
       "    }\n",
       "</style>\n",
       "<table border=\"1\" class=\"dataframe\">\n",
       "  <thead>\n",
       "    <tr style=\"text-align: right;\">\n",
       "      <th></th>\n",
       "      <th>checking_status</th>\n",
       "      <th>duration</th>\n",
       "      <th>credit_history</th>\n",
       "      <th>purpose</th>\n",
       "      <th>credit_amount</th>\n",
       "      <th>savings_status</th>\n",
       "      <th>employment</th>\n",
       "      <th>installment_commitment</th>\n",
       "      <th>personal_status</th>\n",
       "      <th>other_parties</th>\n",
       "      <th>residence_since</th>\n",
       "      <th>property_magnitude</th>\n",
       "      <th>age</th>\n",
       "      <th>other_payment_plans</th>\n",
       "      <th>housing</th>\n",
       "      <th>existing_credits</th>\n",
       "      <th>job</th>\n",
       "      <th>num_dependents</th>\n",
       "      <th>own_telephone</th>\n",
       "      <th>foreign_worker</th>\n",
       "    </tr>\n",
       "  </thead>\n",
       "  <tbody>\n",
       "    <tr>\n",
       "      <th>0</th>\n",
       "      <td>&lt;0</td>\n",
       "      <td>6</td>\n",
       "      <td>critical/other existing credit</td>\n",
       "      <td>radio/tv</td>\n",
       "      <td>1169</td>\n",
       "      <td>no known savings</td>\n",
       "      <td>&gt;=7</td>\n",
       "      <td>4</td>\n",
       "      <td>male single</td>\n",
       "      <td>none</td>\n",
       "      <td>4</td>\n",
       "      <td>real estate</td>\n",
       "      <td>67</td>\n",
       "      <td>none</td>\n",
       "      <td>own</td>\n",
       "      <td>2</td>\n",
       "      <td>skilled</td>\n",
       "      <td>1</td>\n",
       "      <td>yes</td>\n",
       "      <td>yes</td>\n",
       "    </tr>\n",
       "    <tr>\n",
       "      <th>1</th>\n",
       "      <td>0&lt;=X&lt;200</td>\n",
       "      <td>48</td>\n",
       "      <td>existing paid</td>\n",
       "      <td>radio/tv</td>\n",
       "      <td>5951</td>\n",
       "      <td>&lt;100</td>\n",
       "      <td>1&lt;=X&lt;4</td>\n",
       "      <td>2</td>\n",
       "      <td>female div/dep/mar</td>\n",
       "      <td>none</td>\n",
       "      <td>2</td>\n",
       "      <td>real estate</td>\n",
       "      <td>22</td>\n",
       "      <td>none</td>\n",
       "      <td>own</td>\n",
       "      <td>1</td>\n",
       "      <td>skilled</td>\n",
       "      <td>1</td>\n",
       "      <td>none</td>\n",
       "      <td>yes</td>\n",
       "    </tr>\n",
       "    <tr>\n",
       "      <th>2</th>\n",
       "      <td>no checking</td>\n",
       "      <td>12</td>\n",
       "      <td>critical/other existing credit</td>\n",
       "      <td>education</td>\n",
       "      <td>2096</td>\n",
       "      <td>&lt;100</td>\n",
       "      <td>4&lt;=X&lt;7</td>\n",
       "      <td>2</td>\n",
       "      <td>male single</td>\n",
       "      <td>none</td>\n",
       "      <td>3</td>\n",
       "      <td>real estate</td>\n",
       "      <td>49</td>\n",
       "      <td>none</td>\n",
       "      <td>own</td>\n",
       "      <td>1</td>\n",
       "      <td>unskilled resident</td>\n",
       "      <td>2</td>\n",
       "      <td>none</td>\n",
       "      <td>yes</td>\n",
       "    </tr>\n",
       "    <tr>\n",
       "      <th>3</th>\n",
       "      <td>&lt;0</td>\n",
       "      <td>42</td>\n",
       "      <td>existing paid</td>\n",
       "      <td>furniture/equipment</td>\n",
       "      <td>7882</td>\n",
       "      <td>&lt;100</td>\n",
       "      <td>4&lt;=X&lt;7</td>\n",
       "      <td>2</td>\n",
       "      <td>male single</td>\n",
       "      <td>guarantor</td>\n",
       "      <td>4</td>\n",
       "      <td>life insurance</td>\n",
       "      <td>45</td>\n",
       "      <td>none</td>\n",
       "      <td>for free</td>\n",
       "      <td>1</td>\n",
       "      <td>skilled</td>\n",
       "      <td>2</td>\n",
       "      <td>none</td>\n",
       "      <td>yes</td>\n",
       "    </tr>\n",
       "    <tr>\n",
       "      <th>4</th>\n",
       "      <td>&lt;0</td>\n",
       "      <td>24</td>\n",
       "      <td>delayed previously</td>\n",
       "      <td>new car</td>\n",
       "      <td>4870</td>\n",
       "      <td>&lt;100</td>\n",
       "      <td>1&lt;=X&lt;4</td>\n",
       "      <td>3</td>\n",
       "      <td>male single</td>\n",
       "      <td>none</td>\n",
       "      <td>4</td>\n",
       "      <td>no known property</td>\n",
       "      <td>53</td>\n",
       "      <td>none</td>\n",
       "      <td>for free</td>\n",
       "      <td>2</td>\n",
       "      <td>skilled</td>\n",
       "      <td>2</td>\n",
       "      <td>none</td>\n",
       "      <td>yes</td>\n",
       "    </tr>\n",
       "    <tr>\n",
       "      <th>5</th>\n",
       "      <td>no checking</td>\n",
       "      <td>36</td>\n",
       "      <td>existing paid</td>\n",
       "      <td>education</td>\n",
       "      <td>9055</td>\n",
       "      <td>no known savings</td>\n",
       "      <td>1&lt;=X&lt;4</td>\n",
       "      <td>2</td>\n",
       "      <td>male single</td>\n",
       "      <td>none</td>\n",
       "      <td>4</td>\n",
       "      <td>no known property</td>\n",
       "      <td>35</td>\n",
       "      <td>none</td>\n",
       "      <td>for free</td>\n",
       "      <td>1</td>\n",
       "      <td>unskilled resident</td>\n",
       "      <td>2</td>\n",
       "      <td>yes</td>\n",
       "      <td>yes</td>\n",
       "    </tr>\n",
       "  </tbody>\n",
       "</table>\n",
       "</div>"
      ],
      "text/plain": [
       "  checking_status  duration                  credit_history  \\\n",
       "0              <0         6  critical/other existing credit   \n",
       "1        0<=X<200        48                   existing paid   \n",
       "2     no checking        12  critical/other existing credit   \n",
       "3              <0        42                   existing paid   \n",
       "4              <0        24              delayed previously   \n",
       "5     no checking        36                   existing paid   \n",
       "\n",
       "               purpose  credit_amount    savings_status employment  \\\n",
       "0             radio/tv           1169  no known savings        >=7   \n",
       "1             radio/tv           5951              <100     1<=X<4   \n",
       "2            education           2096              <100     4<=X<7   \n",
       "3  furniture/equipment           7882              <100     4<=X<7   \n",
       "4              new car           4870              <100     1<=X<4   \n",
       "5            education           9055  no known savings     1<=X<4   \n",
       "\n",
       "   installment_commitment     personal_status other_parties  residence_since  \\\n",
       "0                       4         male single          none                4   \n",
       "1                       2  female div/dep/mar          none                2   \n",
       "2                       2         male single          none                3   \n",
       "3                       2         male single     guarantor                4   \n",
       "4                       3         male single          none                4   \n",
       "5                       2         male single          none                4   \n",
       "\n",
       "  property_magnitude  age other_payment_plans   housing  existing_credits  \\\n",
       "0        real estate   67                none       own                 2   \n",
       "1        real estate   22                none       own                 1   \n",
       "2        real estate   49                none       own                 1   \n",
       "3     life insurance   45                none  for free                 1   \n",
       "4  no known property   53                none  for free                 2   \n",
       "5  no known property   35                none  for free                 1   \n",
       "\n",
       "                  job  num_dependents own_telephone foreign_worker  \n",
       "0             skilled               1           yes            yes  \n",
       "1             skilled               1          none            yes  \n",
       "2  unskilled resident               2          none            yes  \n",
       "3             skilled               2          none            yes  \n",
       "4             skilled               2          none            yes  \n",
       "5  unskilled resident               2           yes            yes  "
      ]
     },
     "execution_count": 3,
     "metadata": {},
     "output_type": "execute_result"
    }
   ],
   "source": [
    "from sklearn.datasets import fetch_openml\n",
    "credit_dataset = fetch_openml(name=\"credit-g\", as_frame=True, version =1)\n",
    "\n",
    "# Convert to Pandas DataFrame\n",
    "df = pd.DataFrame(credit_dataset.data)\n",
    "df.head(6)\n"
   ]
  },
  {
   "cell_type": "code",
   "execution_count": 4,
   "metadata": {},
   "outputs": [],
   "source": [
    "# Load the dataset, getting X (features) and y (target) separately\n",
    "#return_X_y=True gives us X (features) and y (target) separately.\n",
    "#as_frame=True ensures we get them as Pandas DataFrames,\n",
    "X, y = fetch_openml(name='credit-g', version=1, return_X_y=True, as_frame=True)"
   ]
  },
  {
   "cell_type": "code",
   "execution_count": 5,
   "metadata": {},
   "outputs": [
    {
     "data": {
      "application/vnd.microsoft.datawrangler.viewer.v0+json": {
       "columns": [
        {
         "name": "index",
         "rawType": "int64",
         "type": "integer"
        },
        {
         "name": "checking_status",
         "rawType": "category",
         "type": "unknown"
        },
        {
         "name": "duration",
         "rawType": "int64",
         "type": "integer"
        },
        {
         "name": "credit_history",
         "rawType": "category",
         "type": "unknown"
        },
        {
         "name": "purpose",
         "rawType": "category",
         "type": "unknown"
        },
        {
         "name": "credit_amount",
         "rawType": "int64",
         "type": "integer"
        },
        {
         "name": "savings_status",
         "rawType": "category",
         "type": "unknown"
        },
        {
         "name": "employment",
         "rawType": "category",
         "type": "unknown"
        },
        {
         "name": "installment_commitment",
         "rawType": "int64",
         "type": "integer"
        },
        {
         "name": "personal_status",
         "rawType": "category",
         "type": "unknown"
        },
        {
         "name": "other_parties",
         "rawType": "category",
         "type": "unknown"
        },
        {
         "name": "residence_since",
         "rawType": "int64",
         "type": "integer"
        },
        {
         "name": "property_magnitude",
         "rawType": "category",
         "type": "unknown"
        },
        {
         "name": "age",
         "rawType": "int64",
         "type": "integer"
        },
        {
         "name": "other_payment_plans",
         "rawType": "category",
         "type": "unknown"
        },
        {
         "name": "housing",
         "rawType": "category",
         "type": "unknown"
        },
        {
         "name": "existing_credits",
         "rawType": "int64",
         "type": "integer"
        },
        {
         "name": "job",
         "rawType": "category",
         "type": "unknown"
        },
        {
         "name": "num_dependents",
         "rawType": "int64",
         "type": "integer"
        },
        {
         "name": "own_telephone",
         "rawType": "category",
         "type": "unknown"
        },
        {
         "name": "foreign_worker",
         "rawType": "category",
         "type": "unknown"
        },
        {
         "name": "class",
         "rawType": "category",
         "type": "unknown"
        }
       ],
       "conversionMethod": "pd.DataFrame",
       "ref": "f49bf880-4d5c-462b-a595-3071e5a137d5",
       "rows": [
        [
         "0",
         "<0",
         "6",
         "critical/other existing credit",
         "radio/tv",
         "1169",
         "no known savings",
         ">=7",
         "4",
         "male single",
         "none",
         "4",
         "real estate",
         "67",
         "none",
         "own",
         "2",
         "skilled",
         "1",
         "yes",
         "yes",
         "good"
        ],
        [
         "1",
         "0<=X<200",
         "48",
         "existing paid",
         "radio/tv",
         "5951",
         "<100",
         "1<=X<4",
         "2",
         "female div/dep/mar",
         "none",
         "2",
         "real estate",
         "22",
         "none",
         "own",
         "1",
         "skilled",
         "1",
         "none",
         "yes",
         "bad"
        ],
        [
         "2",
         "no checking",
         "12",
         "critical/other existing credit",
         "education",
         "2096",
         "<100",
         "4<=X<7",
         "2",
         "male single",
         "none",
         "3",
         "real estate",
         "49",
         "none",
         "own",
         "1",
         "unskilled resident",
         "2",
         "none",
         "yes",
         "good"
        ],
        [
         "3",
         "<0",
         "42",
         "existing paid",
         "furniture/equipment",
         "7882",
         "<100",
         "4<=X<7",
         "2",
         "male single",
         "guarantor",
         "4",
         "life insurance",
         "45",
         "none",
         "for free",
         "1",
         "skilled",
         "2",
         "none",
         "yes",
         "good"
        ],
        [
         "4",
         "<0",
         "24",
         "delayed previously",
         "new car",
         "4870",
         "<100",
         "1<=X<4",
         "3",
         "male single",
         "none",
         "4",
         "no known property",
         "53",
         "none",
         "for free",
         "2",
         "skilled",
         "2",
         "none",
         "yes",
         "bad"
        ]
       ],
       "shape": {
        "columns": 21,
        "rows": 5
       }
      },
      "text/html": [
       "<div>\n",
       "<style scoped>\n",
       "    .dataframe tbody tr th:only-of-type {\n",
       "        vertical-align: middle;\n",
       "    }\n",
       "\n",
       "    .dataframe tbody tr th {\n",
       "        vertical-align: top;\n",
       "    }\n",
       "\n",
       "    .dataframe thead th {\n",
       "        text-align: right;\n",
       "    }\n",
       "</style>\n",
       "<table border=\"1\" class=\"dataframe\">\n",
       "  <thead>\n",
       "    <tr style=\"text-align: right;\">\n",
       "      <th></th>\n",
       "      <th>checking_status</th>\n",
       "      <th>duration</th>\n",
       "      <th>credit_history</th>\n",
       "      <th>purpose</th>\n",
       "      <th>credit_amount</th>\n",
       "      <th>savings_status</th>\n",
       "      <th>employment</th>\n",
       "      <th>installment_commitment</th>\n",
       "      <th>personal_status</th>\n",
       "      <th>other_parties</th>\n",
       "      <th>...</th>\n",
       "      <th>property_magnitude</th>\n",
       "      <th>age</th>\n",
       "      <th>other_payment_plans</th>\n",
       "      <th>housing</th>\n",
       "      <th>existing_credits</th>\n",
       "      <th>job</th>\n",
       "      <th>num_dependents</th>\n",
       "      <th>own_telephone</th>\n",
       "      <th>foreign_worker</th>\n",
       "      <th>class</th>\n",
       "    </tr>\n",
       "  </thead>\n",
       "  <tbody>\n",
       "    <tr>\n",
       "      <th>0</th>\n",
       "      <td>&lt;0</td>\n",
       "      <td>6</td>\n",
       "      <td>critical/other existing credit</td>\n",
       "      <td>radio/tv</td>\n",
       "      <td>1169</td>\n",
       "      <td>no known savings</td>\n",
       "      <td>&gt;=7</td>\n",
       "      <td>4</td>\n",
       "      <td>male single</td>\n",
       "      <td>none</td>\n",
       "      <td>...</td>\n",
       "      <td>real estate</td>\n",
       "      <td>67</td>\n",
       "      <td>none</td>\n",
       "      <td>own</td>\n",
       "      <td>2</td>\n",
       "      <td>skilled</td>\n",
       "      <td>1</td>\n",
       "      <td>yes</td>\n",
       "      <td>yes</td>\n",
       "      <td>good</td>\n",
       "    </tr>\n",
       "    <tr>\n",
       "      <th>1</th>\n",
       "      <td>0&lt;=X&lt;200</td>\n",
       "      <td>48</td>\n",
       "      <td>existing paid</td>\n",
       "      <td>radio/tv</td>\n",
       "      <td>5951</td>\n",
       "      <td>&lt;100</td>\n",
       "      <td>1&lt;=X&lt;4</td>\n",
       "      <td>2</td>\n",
       "      <td>female div/dep/mar</td>\n",
       "      <td>none</td>\n",
       "      <td>...</td>\n",
       "      <td>real estate</td>\n",
       "      <td>22</td>\n",
       "      <td>none</td>\n",
       "      <td>own</td>\n",
       "      <td>1</td>\n",
       "      <td>skilled</td>\n",
       "      <td>1</td>\n",
       "      <td>none</td>\n",
       "      <td>yes</td>\n",
       "      <td>bad</td>\n",
       "    </tr>\n",
       "    <tr>\n",
       "      <th>2</th>\n",
       "      <td>no checking</td>\n",
       "      <td>12</td>\n",
       "      <td>critical/other existing credit</td>\n",
       "      <td>education</td>\n",
       "      <td>2096</td>\n",
       "      <td>&lt;100</td>\n",
       "      <td>4&lt;=X&lt;7</td>\n",
       "      <td>2</td>\n",
       "      <td>male single</td>\n",
       "      <td>none</td>\n",
       "      <td>...</td>\n",
       "      <td>real estate</td>\n",
       "      <td>49</td>\n",
       "      <td>none</td>\n",
       "      <td>own</td>\n",
       "      <td>1</td>\n",
       "      <td>unskilled resident</td>\n",
       "      <td>2</td>\n",
       "      <td>none</td>\n",
       "      <td>yes</td>\n",
       "      <td>good</td>\n",
       "    </tr>\n",
       "    <tr>\n",
       "      <th>3</th>\n",
       "      <td>&lt;0</td>\n",
       "      <td>42</td>\n",
       "      <td>existing paid</td>\n",
       "      <td>furniture/equipment</td>\n",
       "      <td>7882</td>\n",
       "      <td>&lt;100</td>\n",
       "      <td>4&lt;=X&lt;7</td>\n",
       "      <td>2</td>\n",
       "      <td>male single</td>\n",
       "      <td>guarantor</td>\n",
       "      <td>...</td>\n",
       "      <td>life insurance</td>\n",
       "      <td>45</td>\n",
       "      <td>none</td>\n",
       "      <td>for free</td>\n",
       "      <td>1</td>\n",
       "      <td>skilled</td>\n",
       "      <td>2</td>\n",
       "      <td>none</td>\n",
       "      <td>yes</td>\n",
       "      <td>good</td>\n",
       "    </tr>\n",
       "    <tr>\n",
       "      <th>4</th>\n",
       "      <td>&lt;0</td>\n",
       "      <td>24</td>\n",
       "      <td>delayed previously</td>\n",
       "      <td>new car</td>\n",
       "      <td>4870</td>\n",
       "      <td>&lt;100</td>\n",
       "      <td>1&lt;=X&lt;4</td>\n",
       "      <td>3</td>\n",
       "      <td>male single</td>\n",
       "      <td>none</td>\n",
       "      <td>...</td>\n",
       "      <td>no known property</td>\n",
       "      <td>53</td>\n",
       "      <td>none</td>\n",
       "      <td>for free</td>\n",
       "      <td>2</td>\n",
       "      <td>skilled</td>\n",
       "      <td>2</td>\n",
       "      <td>none</td>\n",
       "      <td>yes</td>\n",
       "      <td>bad</td>\n",
       "    </tr>\n",
       "  </tbody>\n",
       "</table>\n",
       "<p>5 rows × 21 columns</p>\n",
       "</div>"
      ],
      "text/plain": [
       "  checking_status  duration                  credit_history  \\\n",
       "0              <0         6  critical/other existing credit   \n",
       "1        0<=X<200        48                   existing paid   \n",
       "2     no checking        12  critical/other existing credit   \n",
       "3              <0        42                   existing paid   \n",
       "4              <0        24              delayed previously   \n",
       "\n",
       "               purpose  credit_amount    savings_status employment  \\\n",
       "0             radio/tv           1169  no known savings        >=7   \n",
       "1             radio/tv           5951              <100     1<=X<4   \n",
       "2            education           2096              <100     4<=X<7   \n",
       "3  furniture/equipment           7882              <100     4<=X<7   \n",
       "4              new car           4870              <100     1<=X<4   \n",
       "\n",
       "   installment_commitment     personal_status other_parties  ...  \\\n",
       "0                       4         male single          none  ...   \n",
       "1                       2  female div/dep/mar          none  ...   \n",
       "2                       2         male single          none  ...   \n",
       "3                       2         male single     guarantor  ...   \n",
       "4                       3         male single          none  ...   \n",
       "\n",
       "   property_magnitude age  other_payment_plans   housing existing_credits  \\\n",
       "0         real estate  67                 none       own                2   \n",
       "1         real estate  22                 none       own                1   \n",
       "2         real estate  49                 none       own                1   \n",
       "3      life insurance  45                 none  for free                1   \n",
       "4   no known property  53                 none  for free                2   \n",
       "\n",
       "                  job num_dependents  own_telephone foreign_worker class  \n",
       "0             skilled              1            yes            yes  good  \n",
       "1             skilled              1           none            yes   bad  \n",
       "2  unskilled resident              2           none            yes  good  \n",
       "3             skilled              2           none            yes  good  \n",
       "4             skilled              2           none            yes   bad  \n",
       "\n",
       "[5 rows x 21 columns]"
      ]
     },
     "execution_count": 5,
     "metadata": {},
     "output_type": "execute_result"
    }
   ],
   "source": [
    "# Combine X and y into a single DataFrame\n",
    "df = pd.concat([X, y.rename('class')], axis=1)\n",
    "df.head(5)"
   ]
  },
  {
   "cell_type": "code",
   "execution_count": 7,
   "metadata": {},
   "outputs": [
    {
     "data": {
      "text/plain": [
       "Index(['checking_status', 'duration', 'credit_history', 'purpose',\n",
       "       'credit_amount', 'savings_status', 'employment',\n",
       "       'installment_commitment', 'personal_status', 'other_parties',\n",
       "       'residence_since', 'property_magnitude', 'age', 'other_payment_plans',\n",
       "       'housing', 'existing_credits', 'job', 'num_dependents', 'own_telephone',\n",
       "       'foreign_worker', 'class'],\n",
       "      dtype='object')"
      ]
     },
     "execution_count": 7,
     "metadata": {},
     "output_type": "execute_result"
    }
   ],
   "source": [
    "df.columns"
   ]
  },
  {
   "cell_type": "code",
   "execution_count": 8,
   "metadata": {},
   "outputs": [
    {
     "data": {
      "application/vnd.microsoft.datawrangler.viewer.v0+json": {
       "columns": [
        {
         "name": "index",
         "rawType": "object",
         "type": "string"
        },
        {
         "name": "duration",
         "rawType": "float64",
         "type": "float"
        },
        {
         "name": "credit_amount",
         "rawType": "float64",
         "type": "float"
        },
        {
         "name": "installment_commitment",
         "rawType": "float64",
         "type": "float"
        },
        {
         "name": "residence_since",
         "rawType": "float64",
         "type": "float"
        },
        {
         "name": "age",
         "rawType": "float64",
         "type": "float"
        },
        {
         "name": "existing_credits",
         "rawType": "float64",
         "type": "float"
        },
        {
         "name": "num_dependents",
         "rawType": "float64",
         "type": "float"
        }
       ],
       "conversionMethod": "pd.DataFrame",
       "ref": "c3ed1c81-28ec-4b89-b2c5-a7a55038a100",
       "rows": [
        [
         "count",
         "1000.0",
         "1000.0",
         "1000.0",
         "1000.0",
         "1000.0",
         "1000.0",
         "1000.0"
        ],
        [
         "mean",
         "20.903",
         "3271.258",
         "2.973",
         "2.845",
         "35.546",
         "1.407",
         "1.155"
        ],
        [
         "std",
         "12.058814452756375",
         "2822.7368759604406",
         "1.1187146743126786",
         "1.1037178956568536",
         "11.375468574317512",
         "0.5776544682461002",
         "0.36208577175319395"
        ],
        [
         "min",
         "4.0",
         "250.0",
         "1.0",
         "1.0",
         "19.0",
         "1.0",
         "1.0"
        ],
        [
         "25%",
         "12.0",
         "1365.5",
         "2.0",
         "2.0",
         "27.0",
         "1.0",
         "1.0"
        ],
        [
         "50%",
         "18.0",
         "2319.5",
         "3.0",
         "3.0",
         "33.0",
         "1.0",
         "1.0"
        ],
        [
         "75%",
         "24.0",
         "3972.25",
         "4.0",
         "4.0",
         "42.0",
         "2.0",
         "1.0"
        ],
        [
         "max",
         "72.0",
         "18424.0",
         "4.0",
         "4.0",
         "75.0",
         "4.0",
         "2.0"
        ]
       ],
       "shape": {
        "columns": 7,
        "rows": 8
       }
      },
      "text/html": [
       "<div>\n",
       "<style scoped>\n",
       "    .dataframe tbody tr th:only-of-type {\n",
       "        vertical-align: middle;\n",
       "    }\n",
       "\n",
       "    .dataframe tbody tr th {\n",
       "        vertical-align: top;\n",
       "    }\n",
       "\n",
       "    .dataframe thead th {\n",
       "        text-align: right;\n",
       "    }\n",
       "</style>\n",
       "<table border=\"1\" class=\"dataframe\">\n",
       "  <thead>\n",
       "    <tr style=\"text-align: right;\">\n",
       "      <th></th>\n",
       "      <th>duration</th>\n",
       "      <th>credit_amount</th>\n",
       "      <th>installment_commitment</th>\n",
       "      <th>residence_since</th>\n",
       "      <th>age</th>\n",
       "      <th>existing_credits</th>\n",
       "      <th>num_dependents</th>\n",
       "    </tr>\n",
       "  </thead>\n",
       "  <tbody>\n",
       "    <tr>\n",
       "      <th>count</th>\n",
       "      <td>1000.000000</td>\n",
       "      <td>1000.000000</td>\n",
       "      <td>1000.000000</td>\n",
       "      <td>1000.000000</td>\n",
       "      <td>1000.000000</td>\n",
       "      <td>1000.000000</td>\n",
       "      <td>1000.000000</td>\n",
       "    </tr>\n",
       "    <tr>\n",
       "      <th>mean</th>\n",
       "      <td>20.903000</td>\n",
       "      <td>3271.258000</td>\n",
       "      <td>2.973000</td>\n",
       "      <td>2.845000</td>\n",
       "      <td>35.546000</td>\n",
       "      <td>1.407000</td>\n",
       "      <td>1.155000</td>\n",
       "    </tr>\n",
       "    <tr>\n",
       "      <th>std</th>\n",
       "      <td>12.058814</td>\n",
       "      <td>2822.736876</td>\n",
       "      <td>1.118715</td>\n",
       "      <td>1.103718</td>\n",
       "      <td>11.375469</td>\n",
       "      <td>0.577654</td>\n",
       "      <td>0.362086</td>\n",
       "    </tr>\n",
       "    <tr>\n",
       "      <th>min</th>\n",
       "      <td>4.000000</td>\n",
       "      <td>250.000000</td>\n",
       "      <td>1.000000</td>\n",
       "      <td>1.000000</td>\n",
       "      <td>19.000000</td>\n",
       "      <td>1.000000</td>\n",
       "      <td>1.000000</td>\n",
       "    </tr>\n",
       "    <tr>\n",
       "      <th>25%</th>\n",
       "      <td>12.000000</td>\n",
       "      <td>1365.500000</td>\n",
       "      <td>2.000000</td>\n",
       "      <td>2.000000</td>\n",
       "      <td>27.000000</td>\n",
       "      <td>1.000000</td>\n",
       "      <td>1.000000</td>\n",
       "    </tr>\n",
       "    <tr>\n",
       "      <th>50%</th>\n",
       "      <td>18.000000</td>\n",
       "      <td>2319.500000</td>\n",
       "      <td>3.000000</td>\n",
       "      <td>3.000000</td>\n",
       "      <td>33.000000</td>\n",
       "      <td>1.000000</td>\n",
       "      <td>1.000000</td>\n",
       "    </tr>\n",
       "    <tr>\n",
       "      <th>75%</th>\n",
       "      <td>24.000000</td>\n",
       "      <td>3972.250000</td>\n",
       "      <td>4.000000</td>\n",
       "      <td>4.000000</td>\n",
       "      <td>42.000000</td>\n",
       "      <td>2.000000</td>\n",
       "      <td>1.000000</td>\n",
       "    </tr>\n",
       "    <tr>\n",
       "      <th>max</th>\n",
       "      <td>72.000000</td>\n",
       "      <td>18424.000000</td>\n",
       "      <td>4.000000</td>\n",
       "      <td>4.000000</td>\n",
       "      <td>75.000000</td>\n",
       "      <td>4.000000</td>\n",
       "      <td>2.000000</td>\n",
       "    </tr>\n",
       "  </tbody>\n",
       "</table>\n",
       "</div>"
      ],
      "text/plain": [
       "          duration  credit_amount  installment_commitment  residence_since  \\\n",
       "count  1000.000000    1000.000000             1000.000000      1000.000000   \n",
       "mean     20.903000    3271.258000                2.973000         2.845000   \n",
       "std      12.058814    2822.736876                1.118715         1.103718   \n",
       "min       4.000000     250.000000                1.000000         1.000000   \n",
       "25%      12.000000    1365.500000                2.000000         2.000000   \n",
       "50%      18.000000    2319.500000                3.000000         3.000000   \n",
       "75%      24.000000    3972.250000                4.000000         4.000000   \n",
       "max      72.000000   18424.000000                4.000000         4.000000   \n",
       "\n",
       "               age  existing_credits  num_dependents  \n",
       "count  1000.000000       1000.000000     1000.000000  \n",
       "mean     35.546000          1.407000        1.155000  \n",
       "std      11.375469          0.577654        0.362086  \n",
       "min      19.000000          1.000000        1.000000  \n",
       "25%      27.000000          1.000000        1.000000  \n",
       "50%      33.000000          1.000000        1.000000  \n",
       "75%      42.000000          2.000000        1.000000  \n",
       "max      75.000000          4.000000        2.000000  "
      ]
     },
     "execution_count": 8,
     "metadata": {},
     "output_type": "execute_result"
    }
   ],
   "source": [
    "df.describe()"
   ]
  },
  {
   "cell_type": "code",
   "execution_count": 9,
   "metadata": {},
   "outputs": [
    {
     "data": {
      "text/plain": [
       "np.int64(0)"
      ]
     },
     "execution_count": 9,
     "metadata": {},
     "output_type": "execute_result"
    }
   ],
   "source": [
    "df.isnull().sum().sum() ## Total number of missing values in the entire DataFrame"
   ]
  },
  {
   "cell_type": "code",
   "execution_count": 10,
   "metadata": {},
   "outputs": [
    {
     "data": {
      "text/plain": [
       "checking_status           0\n",
       "duration                  0\n",
       "credit_history            0\n",
       "purpose                   0\n",
       "credit_amount             0\n",
       "savings_status            0\n",
       "employment                0\n",
       "installment_commitment    0\n",
       "personal_status           0\n",
       "other_parties             0\n",
       "residence_since           0\n",
       "property_magnitude        0\n",
       "age                       0\n",
       "other_payment_plans       0\n",
       "housing                   0\n",
       "existing_credits          0\n",
       "job                       0\n",
       "num_dependents            0\n",
       "own_telephone             0\n",
       "foreign_worker            0\n",
       "class                     0\n",
       "dtype: int64"
      ]
     },
     "execution_count": 10,
     "metadata": {},
     "output_type": "execute_result"
    }
   ],
   "source": [
    "df.isna().sum() #no missing values"
   ]
  },
  {
   "cell_type": "code",
   "execution_count": 95,
   "metadata": {},
   "outputs": [],
   "source": [
    "duplicates = df.duplicated() #check for duplicates"
   ]
  },
  {
   "cell_type": "code",
   "execution_count": 11,
   "metadata": {},
   "outputs": [],
   "source": [
    "#drop unneeded columns\n",
    "#i decided not to use \"inplace = true\" and pass it to a new variable \n",
    "new_df = df.drop([\"checking_status\", \"savings_status\", \"employment\",\"purpose\", \n",
    "              \"personal_status\", \"other_parties\",\"residence_since\", \"property_magnitude\", \"other_payment_plans\", \"housing\",\n",
    "                 \"job\", \"own_telephone\", \"foreign_worker\", \"age\"], axis=1)"
   ]
  },
  {
   "cell_type": "code",
   "execution_count": 12,
   "metadata": {},
   "outputs": [
    {
     "data": {
      "application/vnd.microsoft.datawrangler.viewer.v0+json": {
       "columns": [
        {
         "name": "index",
         "rawType": "int64",
         "type": "integer"
        },
        {
         "name": "duration",
         "rawType": "int64",
         "type": "integer"
        },
        {
         "name": "credit_history",
         "rawType": "category",
         "type": "unknown"
        },
        {
         "name": "credit_amount",
         "rawType": "int64",
         "type": "integer"
        },
        {
         "name": "installment_commitment",
         "rawType": "int64",
         "type": "integer"
        },
        {
         "name": "existing_credits",
         "rawType": "int64",
         "type": "integer"
        },
        {
         "name": "num_dependents",
         "rawType": "int64",
         "type": "integer"
        },
        {
         "name": "class",
         "rawType": "category",
         "type": "unknown"
        }
       ],
       "conversionMethod": "pd.DataFrame",
       "ref": "c142783e-b49a-4142-b064-3db44745841f",
       "rows": [
        [
         "0",
         "6",
         "critical/other existing credit",
         "1169",
         "4",
         "2",
         "1",
         "good"
        ],
        [
         "1",
         "48",
         "existing paid",
         "5951",
         "2",
         "1",
         "1",
         "bad"
        ],
        [
         "2",
         "12",
         "critical/other existing credit",
         "2096",
         "2",
         "1",
         "2",
         "good"
        ],
        [
         "3",
         "42",
         "existing paid",
         "7882",
         "2",
         "1",
         "2",
         "good"
        ],
        [
         "4",
         "24",
         "delayed previously",
         "4870",
         "3",
         "2",
         "2",
         "bad"
        ]
       ],
       "shape": {
        "columns": 7,
        "rows": 5
       }
      },
      "text/html": [
       "<div>\n",
       "<style scoped>\n",
       "    .dataframe tbody tr th:only-of-type {\n",
       "        vertical-align: middle;\n",
       "    }\n",
       "\n",
       "    .dataframe tbody tr th {\n",
       "        vertical-align: top;\n",
       "    }\n",
       "\n",
       "    .dataframe thead th {\n",
       "        text-align: right;\n",
       "    }\n",
       "</style>\n",
       "<table border=\"1\" class=\"dataframe\">\n",
       "  <thead>\n",
       "    <tr style=\"text-align: right;\">\n",
       "      <th></th>\n",
       "      <th>duration</th>\n",
       "      <th>credit_history</th>\n",
       "      <th>credit_amount</th>\n",
       "      <th>installment_commitment</th>\n",
       "      <th>existing_credits</th>\n",
       "      <th>num_dependents</th>\n",
       "      <th>class</th>\n",
       "    </tr>\n",
       "  </thead>\n",
       "  <tbody>\n",
       "    <tr>\n",
       "      <th>0</th>\n",
       "      <td>6</td>\n",
       "      <td>critical/other existing credit</td>\n",
       "      <td>1169</td>\n",
       "      <td>4</td>\n",
       "      <td>2</td>\n",
       "      <td>1</td>\n",
       "      <td>good</td>\n",
       "    </tr>\n",
       "    <tr>\n",
       "      <th>1</th>\n",
       "      <td>48</td>\n",
       "      <td>existing paid</td>\n",
       "      <td>5951</td>\n",
       "      <td>2</td>\n",
       "      <td>1</td>\n",
       "      <td>1</td>\n",
       "      <td>bad</td>\n",
       "    </tr>\n",
       "    <tr>\n",
       "      <th>2</th>\n",
       "      <td>12</td>\n",
       "      <td>critical/other existing credit</td>\n",
       "      <td>2096</td>\n",
       "      <td>2</td>\n",
       "      <td>1</td>\n",
       "      <td>2</td>\n",
       "      <td>good</td>\n",
       "    </tr>\n",
       "    <tr>\n",
       "      <th>3</th>\n",
       "      <td>42</td>\n",
       "      <td>existing paid</td>\n",
       "      <td>7882</td>\n",
       "      <td>2</td>\n",
       "      <td>1</td>\n",
       "      <td>2</td>\n",
       "      <td>good</td>\n",
       "    </tr>\n",
       "    <tr>\n",
       "      <th>4</th>\n",
       "      <td>24</td>\n",
       "      <td>delayed previously</td>\n",
       "      <td>4870</td>\n",
       "      <td>3</td>\n",
       "      <td>2</td>\n",
       "      <td>2</td>\n",
       "      <td>bad</td>\n",
       "    </tr>\n",
       "  </tbody>\n",
       "</table>\n",
       "</div>"
      ],
      "text/plain": [
       "   duration                  credit_history  credit_amount  \\\n",
       "0         6  critical/other existing credit           1169   \n",
       "1        48                   existing paid           5951   \n",
       "2        12  critical/other existing credit           2096   \n",
       "3        42                   existing paid           7882   \n",
       "4        24              delayed previously           4870   \n",
       "\n",
       "   installment_commitment  existing_credits  num_dependents class  \n",
       "0                       4                 2               1  good  \n",
       "1                       2                 1               1   bad  \n",
       "2                       2                 1               2  good  \n",
       "3                       2                 1               2  good  \n",
       "4                       3                 2               2   bad  "
      ]
     },
     "execution_count": 12,
     "metadata": {},
     "output_type": "execute_result"
    }
   ],
   "source": [
    "new_df.head()"
   ]
  },
  {
   "cell_type": "code",
   "execution_count": 13,
   "metadata": {},
   "outputs": [
    {
     "data": {
      "image/png": "[encoded data removed]",
      "text/plain": [
       "<Figure size 640x480 with 1 Axes>"
      ]
     },
     "metadata": {},
     "output_type": "display_data"
    }
   ],
   "source": [
    "sns.countplot(x=\"class\", data=new_df, palette=\"coolwarm\")\n",
    "plt.title(\"Credit Class Distribution\")\n",
    "plt.show()"
   ]
  },
  {
   "cell_type": "code",
   "execution_count": 14,
   "metadata": {},
   "outputs": [
    {
     "data": {
      "image/png": "[encoded data removed]",
      "text/plain": [
       "<Figure size 1500x400 with 3 Axes>"
      ]
     },
     "metadata": {},
     "output_type": "display_data"
    }
   ],
   "source": [
    "\n",
    "fig, axs = plt.subplots(1, 3, figsize=(15, 4))  \n",
    "plt.tight_layout(pad=3) # Adjust layout for better spacing\n",
    "\n",
    "# First plot: Duration vs Credit Amount\n",
    "sns.barplot(ax=axs[0], x=\"num_dependents\", y=\"credit_amount\", hue=\"class\", data=new_df, palette=\"muted\")\n",
    "axs[0].set_title(\"num_dependents vs. credit amount\")\n",
    "axs[0].set_xlabel(\"num_dependents\")\n",
    "axs[0].set_ylabel(\"Credit Amount\")\n",
    "\n",
    "# Second plot: Installment Commitment vs Credit Amount\n",
    "sns.barplot(ax=axs[1], x=\"existing_credits\", y=\"credit_amount\", hue=\"class\", data=new_df, palette=\"muted\")\n",
    "axs[1].set_title(\"existing_credits vs. credit amount\")\n",
    "axs[1].set_xlabel(\"existing_credits\")\n",
    "axs[1].set_ylabel(\"Credit Amount\")\n",
    "\n",
    "# Third plot: Dependents vs Credit Amount\n",
    "sns.barplot(ax=axs[2], x=\"installment_commitment\", y=\"credit_amount\", hue=\"class\", data=new_df, palette=\"muted\")\n",
    "axs[2].set_title(\"installment_commitment vs. credit amount\")\n",
    "axs[2].set_xlabel(\"installment_commitment\")\n",
    "axs[2].set_ylabel(\"Credit Amount\")\n",
    "plt.show()"
   ]
  },
  {
   "cell_type": "code",
   "execution_count": 15,
   "metadata": {},
   "outputs": [
    {
     "data": {
      "image/png": "[encoded data removed]",
      "text/plain": [
       "<Figure size 1500x500 with 3 Axes>"
      ]
     },
     "metadata": {},
     "output_type": "display_data"
    }
   ],
   "source": [
    "fig, axes = plt.subplots(1, 3, figsize=(15, 5))\n",
    "\n",
    "sns.violinplot(ax=axes[0], x='num_dependents', y='credit_amount', hue='class', data=new_df)\n",
    "axes[0].set_title(\"Credit Amount vs. Num Dependents\")\n",
    "\n",
    "sns.violinplot(ax=axes[1], x='existing_credits', y='credit_amount', hue='class', data=new_df)\n",
    "axes[1].set_title(\"Credit Amount vs. Existing Credits\")\n",
    "\n",
    "sns.violinplot(ax=axes[2], x='installment_commitment', y='credit_amount', hue='class', data=new_df)\n",
    "axes[2].set_title(\"Credit Amount vs. Installment Commitment\")\n",
    "\n",
    "\n",
    "# Improve layout\n",
    "plt.tight_layout()\n",
    "plt.show()"
   ]
  },
  {
   "cell_type": "code",
   "execution_count": 16,
   "metadata": {},
   "outputs": [
    {
     "data": {
      "text/plain": [
       "Text(0.5, 1.0, 'Credit Amount vs Duration')"
      ]
     },
     "execution_count": 16,
     "metadata": {},
     "output_type": "execute_result"
    },
    {
     "data": {
      "image/png": "[encoded data removed]",
      "text/plain": [
       "<Figure size 800x300 with 1 Axes>"
      ]
     },
     "metadata": {},
     "output_type": "display_data"
    }
   ],
   "source": [
    "plt.figure(figsize=(8,3))\n",
    "sns.scatterplot(data = new_df, x=df[\"credit_amount\"], y=df[\"duration\"], hue=df[\"class\"])\n",
    "plt.title(\"Credit Amount vs Duration\")"
   ]
  },
  {
   "cell_type": "code",
   "execution_count": 17,
   "metadata": {},
   "outputs": [
    {
     "data": {
      "text/plain": [
       "<Axes: xlabel='class', ylabel='credit_amount'>"
      ]
     },
     "execution_count": 17,
     "metadata": {},
     "output_type": "execute_result"
    },
    {
     "data": {
      "image/png": "[encoded data removed]",
      "text/plain": [
       "<Figure size 1000x500 with 1 Axes>"
      ]
     },
     "metadata": {},
     "output_type": "display_data"
    }
   ],
   "source": [
    "plt.figure(figsize=(10,5))\n",
    "sns.violinplot(data = new_df, y=new_df[\"credit_amount\"], x=new_df[\"class\"],  palette='muted')"
   ]
  },
  {
   "cell_type": "code",
   "execution_count": 103,
   "metadata": {},
   "outputs": [
    {
     "data": {
      "application/vnd.microsoft.datawrangler.viewer.v0+json": {
       "columns": [
        {
         "name": "index",
         "rawType": "int64",
         "type": "integer"
        },
        {
         "name": "duration",
         "rawType": "int64",
         "type": "integer"
        },
        {
         "name": "credit_history",
         "rawType": "category",
         "type": "unknown"
        },
        {
         "name": "credit_amount",
         "rawType": "int64",
         "type": "integer"
        },
        {
         "name": "installment_commitment",
         "rawType": "int64",
         "type": "integer"
        },
        {
         "name": "existing_credits",
         "rawType": "int64",
         "type": "integer"
        },
        {
         "name": "num_dependents",
         "rawType": "int64",
         "type": "integer"
        },
        {
         "name": "class",
         "rawType": "category",
         "type": "unknown"
        }
       ],
       "conversionMethod": "pd.DataFrame",
       "ref": "76834495-4818-43ce-9119-4d86cd21db54",
       "rows": [
        [
         "0",
         "6",
         "critical/other existing credit",
         "1169",
         "4",
         "2",
         "1",
         "good"
        ],
        [
         "1",
         "48",
         "existing paid",
         "5951",
         "2",
         "1",
         "1",
         "bad"
        ],
        [
         "2",
         "12",
         "critical/other existing credit",
         "2096",
         "2",
         "1",
         "2",
         "good"
        ],
        [
         "3",
         "42",
         "existing paid",
         "7882",
         "2",
         "1",
         "2",
         "good"
        ],
        [
         "4",
         "24",
         "delayed previously",
         "4870",
         "3",
         "2",
         "2",
         "bad"
        ],
        [
         "5",
         "36",
         "existing paid",
         "9055",
         "2",
         "1",
         "2",
         "good"
        ],
        [
         "6",
         "24",
         "existing paid",
         "2835",
         "3",
         "1",
         "1",
         "good"
        ],
        [
         "7",
         "36",
         "existing paid",
         "6948",
         "2",
         "1",
         "1",
         "good"
        ],
        [
         "8",
         "12",
         "existing paid",
         "3059",
         "2",
         "1",
         "1",
         "good"
        ],
        [
         "9",
         "30",
         "critical/other existing credit",
         "5234",
         "4",
         "2",
         "1",
         "bad"
        ],
        [
         "10",
         "12",
         "existing paid",
         "1295",
         "3",
         "1",
         "1",
         "bad"
        ],
        [
         "11",
         "48",
         "existing paid",
         "4308",
         "3",
         "1",
         "1",
         "bad"
        ],
        [
         "12",
         "12",
         "existing paid",
         "1567",
         "1",
         "1",
         "1",
         "good"
        ],
        [
         "13",
         "24",
         "critical/other existing credit",
         "1199",
         "4",
         "2",
         "1",
         "bad"
        ],
        [
         "14",
         "15",
         "existing paid",
         "1403",
         "2",
         "1",
         "1",
         "good"
        ],
        [
         "15",
         "24",
         "existing paid",
         "1282",
         "4",
         "1",
         "1",
         "bad"
        ],
        [
         "16",
         "24",
         "critical/other existing credit",
         "2424",
         "4",
         "2",
         "1",
         "good"
        ],
        [
         "17",
         "30",
         "no credits/all paid",
         "8072",
         "2",
         "3",
         "1",
         "good"
        ],
        [
         "18",
         "24",
         "existing paid",
         "12579",
         "4",
         "1",
         "1",
         "bad"
        ],
        [
         "19",
         "24",
         "existing paid",
         "3430",
         "3",
         "1",
         "2",
         "good"
        ],
        [
         "20",
         "9",
         "critical/other existing credit",
         "2134",
         "4",
         "3",
         "1",
         "good"
        ],
        [
         "21",
         "6",
         "existing paid",
         "2647",
         "2",
         "1",
         "2",
         "good"
        ],
        [
         "22",
         "10",
         "critical/other existing credit",
         "2241",
         "1",
         "2",
         "2",
         "good"
        ],
        [
         "23",
         "12",
         "critical/other existing credit",
         "1804",
         "3",
         "1",
         "1",
         "good"
        ],
        [
         "24",
         "10",
         "critical/other existing credit",
         "2069",
         "2",
         "2",
         "1",
         "good"
        ],
        [
         "25",
         "6",
         "existing paid",
         "1374",
         "1",
         "1",
         "1",
         "good"
        ],
        [
         "26",
         "6",
         "no credits/all paid",
         "426",
         "4",
         "1",
         "1",
         "good"
        ],
        [
         "27",
         "12",
         "all paid",
         "409",
         "3",
         "2",
         "1",
         "good"
        ],
        [
         "28",
         "7",
         "existing paid",
         "2415",
         "3",
         "1",
         "1",
         "good"
        ],
        [
         "29",
         "60",
         "delayed previously",
         "6836",
         "3",
         "2",
         "1",
         "bad"
        ],
        [
         "30",
         "18",
         "existing paid",
         "1913",
         "3",
         "1",
         "1",
         "good"
        ],
        [
         "31",
         "24",
         "existing paid",
         "4020",
         "2",
         "1",
         "1",
         "good"
        ],
        [
         "32",
         "18",
         "existing paid",
         "5866",
         "2",
         "2",
         "1",
         "good"
        ],
        [
         "33",
         "12",
         "critical/other existing credit",
         "1264",
         "4",
         "1",
         "1",
         "good"
        ],
        [
         "34",
         "12",
         "existing paid",
         "1474",
         "4",
         "1",
         "1",
         "good"
        ],
        [
         "35",
         "45",
         "critical/other existing credit",
         "4746",
         "4",
         "2",
         "1",
         "bad"
        ],
        [
         "36",
         "48",
         "critical/other existing credit",
         "6110",
         "1",
         "1",
         "1",
         "good"
        ],
        [
         "37",
         "18",
         "existing paid",
         "2100",
         "4",
         "1",
         "1",
         "bad"
        ],
        [
         "38",
         "10",
         "existing paid",
         "1225",
         "2",
         "1",
         "1",
         "good"
        ],
        [
         "39",
         "9",
         "existing paid",
         "458",
         "4",
         "1",
         "1",
         "good"
        ],
        [
         "40",
         "30",
         "existing paid",
         "2333",
         "4",
         "1",
         "1",
         "good"
        ],
        [
         "41",
         "12",
         "existing paid",
         "1158",
         "3",
         "1",
         "1",
         "good"
        ],
        [
         "42",
         "18",
         "delayed previously",
         "6204",
         "2",
         "1",
         "2",
         "good"
        ],
        [
         "43",
         "30",
         "critical/other existing credit",
         "6187",
         "1",
         "2",
         "1",
         "good"
        ],
        [
         "44",
         "48",
         "critical/other existing credit",
         "6143",
         "4",
         "2",
         "1",
         "bad"
        ],
        [
         "45",
         "11",
         "critical/other existing credit",
         "1393",
         "4",
         "2",
         "1",
         "good"
        ],
        [
         "46",
         "36",
         "existing paid",
         "2299",
         "4",
         "1",
         "1",
         "good"
        ],
        [
         "47",
         "6",
         "existing paid",
         "1352",
         "1",
         "1",
         "1",
         "good"
        ],
        [
         "48",
         "11",
         "critical/other existing credit",
         "7228",
         "1",
         "2",
         "1",
         "good"
        ],
        [
         "49",
         "12",
         "existing paid",
         "2073",
         "4",
         "1",
         "1",
         "good"
        ]
       ],
       "shape": {
        "columns": 7,
        "rows": 1000
       }
      },
      "text/html": [
       "<div>\n",
       "<style scoped>\n",
       "    .dataframe tbody tr th:only-of-type {\n",
       "        vertical-align: middle;\n",
       "    }\n",
       "\n",
       "    .dataframe tbody tr th {\n",
       "        vertical-align: top;\n",
       "    }\n",
       "\n",
       "    .dataframe thead th {\n",
       "        text-align: right;\n",
       "    }\n",
       "</style>\n",
       "<table border=\"1\" class=\"dataframe\">\n",
       "  <thead>\n",
       "    <tr style=\"text-align: right;\">\n",
       "      <th></th>\n",
       "      <th>duration</th>\n",
       "      <th>credit_history</th>\n",
       "      <th>credit_amount</th>\n",
       "      <th>installment_commitment</th>\n",
       "      <th>existing_credits</th>\n",
       "      <th>num_dependents</th>\n",
       "      <th>class</th>\n",
       "    </tr>\n",
       "  </thead>\n",
       "  <tbody>\n",
       "    <tr>\n",
       "      <th>0</th>\n",
       "      <td>6</td>\n",
       "      <td>critical/other existing credit</td>\n",
       "      <td>1169</td>\n",
       "      <td>4</td>\n",
       "      <td>2</td>\n",
       "      <td>1</td>\n",
       "      <td>good</td>\n",
       "    </tr>\n",
       "    <tr>\n",
       "      <th>1</th>\n",
       "      <td>48</td>\n",
       "      <td>existing paid</td>\n",
       "      <td>5951</td>\n",
       "      <td>2</td>\n",
       "      <td>1</td>\n",
       "      <td>1</td>\n",
       "      <td>bad</td>\n",
       "    </tr>\n",
       "    <tr>\n",
       "      <th>2</th>\n",
       "      <td>12</td>\n",
       "      <td>critical/other existing credit</td>\n",
       "      <td>2096</td>\n",
       "      <td>2</td>\n",
       "      <td>1</td>\n",
       "      <td>2</td>\n",
       "      <td>good</td>\n",
       "    </tr>\n",
       "    <tr>\n",
       "      <th>3</th>\n",
       "      <td>42</td>\n",
       "      <td>existing paid</td>\n",
       "      <td>7882</td>\n",
       "      <td>2</td>\n",
       "      <td>1</td>\n",
       "      <td>2</td>\n",
       "      <td>good</td>\n",
       "    </tr>\n",
       "    <tr>\n",
       "      <th>4</th>\n",
       "      <td>24</td>\n",
       "      <td>delayed previously</td>\n",
       "      <td>4870</td>\n",
       "      <td>3</td>\n",
       "      <td>2</td>\n",
       "      <td>2</td>\n",
       "      <td>bad</td>\n",
       "    </tr>\n",
       "    <tr>\n",
       "      <th>...</th>\n",
       "      <td>...</td>\n",
       "      <td>...</td>\n",
       "      <td>...</td>\n",
       "      <td>...</td>\n",
       "      <td>...</td>\n",
       "      <td>...</td>\n",
       "      <td>...</td>\n",
       "    </tr>\n",
       "    <tr>\n",
       "      <th>995</th>\n",
       "      <td>12</td>\n",
       "      <td>existing paid</td>\n",
       "      <td>1736</td>\n",
       "      <td>3</td>\n",
       "      <td>1</td>\n",
       "      <td>1</td>\n",
       "      <td>good</td>\n",
       "    </tr>\n",
       "    <tr>\n",
       "      <th>996</th>\n",
       "      <td>30</td>\n",
       "      <td>existing paid</td>\n",
       "      <td>3857</td>\n",
       "      <td>4</td>\n",
       "      <td>1</td>\n",
       "      <td>1</td>\n",
       "      <td>good</td>\n",
       "    </tr>\n",
       "    <tr>\n",
       "      <th>997</th>\n",
       "      <td>12</td>\n",
       "      <td>existing paid</td>\n",
       "      <td>804</td>\n",
       "      <td>4</td>\n",
       "      <td>1</td>\n",
       "      <td>1</td>\n",
       "      <td>good</td>\n",
       "    </tr>\n",
       "    <tr>\n",
       "      <th>998</th>\n",
       "      <td>45</td>\n",
       "      <td>existing paid</td>\n",
       "      <td>1845</td>\n",
       "      <td>4</td>\n",
       "      <td>1</td>\n",
       "      <td>1</td>\n",
       "      <td>bad</td>\n",
       "    </tr>\n",
       "    <tr>\n",
       "      <th>999</th>\n",
       "      <td>45</td>\n",
       "      <td>critical/other existing credit</td>\n",
       "      <td>4576</td>\n",
       "      <td>3</td>\n",
       "      <td>1</td>\n",
       "      <td>1</td>\n",
       "      <td>good</td>\n",
       "    </tr>\n",
       "  </tbody>\n",
       "</table>\n",
       "<p>1000 rows × 7 columns</p>\n",
       "</div>"
      ],
      "text/plain": [
       "     duration                  credit_history  credit_amount  \\\n",
       "0           6  critical/other existing credit           1169   \n",
       "1          48                   existing paid           5951   \n",
       "2          12  critical/other existing credit           2096   \n",
       "3          42                   existing paid           7882   \n",
       "4          24              delayed previously           4870   \n",
       "..        ...                             ...            ...   \n",
       "995        12                   existing paid           1736   \n",
       "996        30                   existing paid           3857   \n",
       "997        12                   existing paid            804   \n",
       "998        45                   existing paid           1845   \n",
       "999        45  critical/other existing credit           4576   \n",
       "\n",
       "     installment_commitment  existing_credits  num_dependents class  \n",
       "0                         4                 2               1  good  \n",
       "1                         2                 1               1   bad  \n",
       "2                         2                 1               2  good  \n",
       "3                         2                 1               2  good  \n",
       "4                         3                 2               2   bad  \n",
       "..                      ...               ...             ...   ...  \n",
       "995                       3                 1               1  good  \n",
       "996                       4                 1               1  good  \n",
       "997                       4                 1               1  good  \n",
       "998                       4                 1               1   bad  \n",
       "999                       3                 1               1  good  \n",
       "\n",
       "[1000 rows x 7 columns]"
      ]
     },
     "execution_count": 103,
     "metadata": {},
     "output_type": "execute_result"
    }
   ],
   "source": [
    "new_df"
   ]
  },
  {
   "cell_type": "code",
   "execution_count": 104,
   "metadata": {},
   "outputs": [
    {
     "data": {
      "text/plain": [
       "credit_history\n",
       "existing paid                     530\n",
       "critical/other existing credit    293\n",
       "delayed previously                 88\n",
       "all paid                           49\n",
       "no credits/all paid                40\n",
       "Name: count, dtype: int64"
      ]
     },
     "execution_count": 104,
     "metadata": {},
     "output_type": "execute_result"
    }
   ],
   "source": [
    "credit_history_counts = new_df[\"credit_history\"].value_counts()\n",
    "credit_history_counts"
   ]
  },
  {
   "cell_type": "code",
   "execution_count": 105,
   "metadata": {},
   "outputs": [
    {
     "data": {
      "image/png": "[encoded data removed]",
      "text/plain": [
       "<Figure size 640x480 with 1 Axes>"
      ]
     },
     "metadata": {},
     "output_type": "display_data"
    }
   ],
   "source": [
    "# Define class labels\n",
    "#class_labels = {0: \"Good\", 1: \"Bad\"}\n",
    "\n",
    "# Create the countplot with hue = class\n",
    "ax = sns.countplot(x=\"credit_history\", hue=\"class\", data=new_df, palette=\"coolwarm\") #hue_order=[0, 1])\n",
    "\n",
    "# Get the handles and labels from the existing legend\n",
    "handles, labels = ax.get_legend_handles_labels()\n",
    "\n",
    "# Manually rename labels from 0/1 to \"Good\"/\"Bad\"\n",
    "#labels = [class_labels[int(label)] for label in labels]\n",
    "\n",
    "# Set the updated legend\n",
    "plt.legend(handles=handles, labels=labels, title=\"Class\", bbox_to_anchor=(1.02, 1), loc=\"upper left\")\n",
    "\n",
    "# Improve x-axis readability\n",
    "plt.xticks(rotation=60)\n",
    "plt.title(\"Credit History Distribution\")\n",
    "plt.show()"
   ]
  },
  {
   "cell_type": "code",
   "execution_count": 106,
   "metadata": {},
   "outputs": [
    {
     "data": {
      "application/vnd.microsoft.datawrangler.viewer.v0+json": {
       "columns": [
        {
         "name": "index",
         "rawType": "int64",
         "type": "integer"
        },
        {
         "name": "duration",
         "rawType": "int64",
         "type": "integer"
        },
        {
         "name": "credit_amount",
         "rawType": "int64",
         "type": "integer"
        },
        {
         "name": "installment_commitment",
         "rawType": "int64",
         "type": "integer"
        },
        {
         "name": "existing_credits",
         "rawType": "int64",
         "type": "integer"
        },
        {
         "name": "num_dependents",
         "rawType": "int64",
         "type": "integer"
        }
       ],
       "conversionMethod": "pd.DataFrame",
       "ref": "f25afacf-838d-4c40-81a0-3d1e5543e0d7",
       "rows": [
        [
         "0",
         "6",
         "1169",
         "4",
         "2",
         "1"
        ],
        [
         "1",
         "48",
         "5951",
         "2",
         "1",
         "1"
        ],
        [
         "2",
         "12",
         "2096",
         "2",
         "1",
         "2"
        ],
        [
         "3",
         "42",
         "7882",
         "2",
         "1",
         "2"
        ],
        [
         "4",
         "24",
         "4870",
         "3",
         "2",
         "2"
        ],
        [
         "5",
         "36",
         "9055",
         "2",
         "1",
         "2"
        ],
        [
         "6",
         "24",
         "2835",
         "3",
         "1",
         "1"
        ],
        [
         "7",
         "36",
         "6948",
         "2",
         "1",
         "1"
        ],
        [
         "8",
         "12",
         "3059",
         "2",
         "1",
         "1"
        ],
        [
         "9",
         "30",
         "5234",
         "4",
         "2",
         "1"
        ],
        [
         "10",
         "12",
         "1295",
         "3",
         "1",
         "1"
        ],
        [
         "11",
         "48",
         "4308",
         "3",
         "1",
         "1"
        ],
        [
         "12",
         "12",
         "1567",
         "1",
         "1",
         "1"
        ],
        [
         "13",
         "24",
         "1199",
         "4",
         "2",
         "1"
        ],
        [
         "14",
         "15",
         "1403",
         "2",
         "1",
         "1"
        ],
        [
         "15",
         "24",
         "1282",
         "4",
         "1",
         "1"
        ],
        [
         "16",
         "24",
         "2424",
         "4",
         "2",
         "1"
        ],
        [
         "17",
         "30",
         "8072",
         "2",
         "3",
         "1"
        ],
        [
         "18",
         "24",
         "12579",
         "4",
         "1",
         "1"
        ],
        [
         "19",
         "24",
         "3430",
         "3",
         "1",
         "2"
        ],
        [
         "20",
         "9",
         "2134",
         "4",
         "3",
         "1"
        ],
        [
         "21",
         "6",
         "2647",
         "2",
         "1",
         "2"
        ],
        [
         "22",
         "10",
         "2241",
         "1",
         "2",
         "2"
        ],
        [
         "23",
         "12",
         "1804",
         "3",
         "1",
         "1"
        ],
        [
         "24",
         "10",
         "2069",
         "2",
         "2",
         "1"
        ],
        [
         "25",
         "6",
         "1374",
         "1",
         "1",
         "1"
        ],
        [
         "26",
         "6",
         "426",
         "4",
         "1",
         "1"
        ],
        [
         "27",
         "12",
         "409",
         "3",
         "2",
         "1"
        ],
        [
         "28",
         "7",
         "2415",
         "3",
         "1",
         "1"
        ],
        [
         "29",
         "60",
         "6836",
         "3",
         "2",
         "1"
        ],
        [
         "30",
         "18",
         "1913",
         "3",
         "1",
         "1"
        ],
        [
         "31",
         "24",
         "4020",
         "2",
         "1",
         "1"
        ],
        [
         "32",
         "18",
         "5866",
         "2",
         "2",
         "1"
        ],
        [
         "33",
         "12",
         "1264",
         "4",
         "1",
         "1"
        ],
        [
         "34",
         "12",
         "1474",
         "4",
         "1",
         "1"
        ],
        [
         "35",
         "45",
         "4746",
         "4",
         "2",
         "1"
        ],
        [
         "36",
         "48",
         "6110",
         "1",
         "1",
         "1"
        ],
        [
         "37",
         "18",
         "2100",
         "4",
         "1",
         "1"
        ],
        [
         "38",
         "10",
         "1225",
         "2",
         "1",
         "1"
        ],
        [
         "39",
         "9",
         "458",
         "4",
         "1",
         "1"
        ],
        [
         "40",
         "30",
         "2333",
         "4",
         "1",
         "1"
        ],
        [
         "41",
         "12",
         "1158",
         "3",
         "1",
         "1"
        ],
        [
         "42",
         "18",
         "6204",
         "2",
         "1",
         "2"
        ],
        [
         "43",
         "30",
         "6187",
         "1",
         "2",
         "1"
        ],
        [
         "44",
         "48",
         "6143",
         "4",
         "2",
         "1"
        ],
        [
         "45",
         "11",
         "1393",
         "4",
         "2",
         "1"
        ],
        [
         "46",
         "36",
         "2299",
         "4",
         "1",
         "1"
        ],
        [
         "47",
         "6",
         "1352",
         "1",
         "1",
         "1"
        ],
        [
         "48",
         "11",
         "7228",
         "1",
         "2",
         "1"
        ],
        [
         "49",
         "12",
         "2073",
         "4",
         "1",
         "1"
        ]
       ],
       "shape": {
        "columns": 5,
        "rows": 1000
       }
      },
      "text/html": [
       "<div>\n",
       "<style scoped>\n",
       "    .dataframe tbody tr th:only-of-type {\n",
       "        vertical-align: middle;\n",
       "    }\n",
       "\n",
       "    .dataframe tbody tr th {\n",
       "        vertical-align: top;\n",
       "    }\n",
       "\n",
       "    .dataframe thead th {\n",
       "        text-align: right;\n",
       "    }\n",
       "</style>\n",
       "<table border=\"1\" class=\"dataframe\">\n",
       "  <thead>\n",
       "    <tr style=\"text-align: right;\">\n",
       "      <th></th>\n",
       "      <th>duration</th>\n",
       "      <th>credit_amount</th>\n",
       "      <th>installment_commitment</th>\n",
       "      <th>existing_credits</th>\n",
       "      <th>num_dependents</th>\n",
       "    </tr>\n",
       "  </thead>\n",
       "  <tbody>\n",
       "    <tr>\n",
       "      <th>0</th>\n",
       "      <td>6</td>\n",
       "      <td>1169</td>\n",
       "      <td>4</td>\n",
       "      <td>2</td>\n",
       "      <td>1</td>\n",
       "    </tr>\n",
       "    <tr>\n",
       "      <th>1</th>\n",
       "      <td>48</td>\n",
       "      <td>5951</td>\n",
       "      <td>2</td>\n",
       "      <td>1</td>\n",
       "      <td>1</td>\n",
       "    </tr>\n",
       "    <tr>\n",
       "      <th>2</th>\n",
       "      <td>12</td>\n",
       "      <td>2096</td>\n",
       "      <td>2</td>\n",
       "      <td>1</td>\n",
       "      <td>2</td>\n",
       "    </tr>\n",
       "    <tr>\n",
       "      <th>3</th>\n",
       "      <td>42</td>\n",
       "      <td>7882</td>\n",
       "      <td>2</td>\n",
       "      <td>1</td>\n",
       "      <td>2</td>\n",
       "    </tr>\n",
       "    <tr>\n",
       "      <th>4</th>\n",
       "      <td>24</td>\n",
       "      <td>4870</td>\n",
       "      <td>3</td>\n",
       "      <td>2</td>\n",
       "      <td>2</td>\n",
       "    </tr>\n",
       "    <tr>\n",
       "      <th>...</th>\n",
       "      <td>...</td>\n",
       "      <td>...</td>\n",
       "      <td>...</td>\n",
       "      <td>...</td>\n",
       "      <td>...</td>\n",
       "    </tr>\n",
       "    <tr>\n",
       "      <th>995</th>\n",
       "      <td>12</td>\n",
       "      <td>1736</td>\n",
       "      <td>3</td>\n",
       "      <td>1</td>\n",
       "      <td>1</td>\n",
       "    </tr>\n",
       "    <tr>\n",
       "      <th>996</th>\n",
       "      <td>30</td>\n",
       "      <td>3857</td>\n",
       "      <td>4</td>\n",
       "      <td>1</td>\n",
       "      <td>1</td>\n",
       "    </tr>\n",
       "    <tr>\n",
       "      <th>997</th>\n",
       "      <td>12</td>\n",
       "      <td>804</td>\n",
       "      <td>4</td>\n",
       "      <td>1</td>\n",
       "      <td>1</td>\n",
       "    </tr>\n",
       "    <tr>\n",
       "      <th>998</th>\n",
       "      <td>45</td>\n",
       "      <td>1845</td>\n",
       "      <td>4</td>\n",
       "      <td>1</td>\n",
       "      <td>1</td>\n",
       "    </tr>\n",
       "    <tr>\n",
       "      <th>999</th>\n",
       "      <td>45</td>\n",
       "      <td>4576</td>\n",
       "      <td>3</td>\n",
       "      <td>1</td>\n",
       "      <td>1</td>\n",
       "    </tr>\n",
       "  </tbody>\n",
       "</table>\n",
       "<p>1000 rows × 5 columns</p>\n",
       "</div>"
      ],
      "text/plain": [
       "     duration  credit_amount  installment_commitment  existing_credits  \\\n",
       "0           6           1169                       4                 2   \n",
       "1          48           5951                       2                 1   \n",
       "2          12           2096                       2                 1   \n",
       "3          42           7882                       2                 1   \n",
       "4          24           4870                       3                 2   \n",
       "..        ...            ...                     ...               ...   \n",
       "995        12           1736                       3                 1   \n",
       "996        30           3857                       4                 1   \n",
       "997        12            804                       4                 1   \n",
       "998        45           1845                       4                 1   \n",
       "999        45           4576                       3                 1   \n",
       "\n",
       "     num_dependents  \n",
       "0                 1  \n",
       "1                 1  \n",
       "2                 2  \n",
       "3                 2  \n",
       "4                 2  \n",
       "..              ...  \n",
       "995               1  \n",
       "996               1  \n",
       "997               1  \n",
       "998               1  \n",
       "999               1  \n",
       "\n",
       "[1000 rows x 5 columns]"
      ]
     },
     "execution_count": 106,
     "metadata": {},
     "output_type": "execute_result"
    }
   ],
   "source": [
    "new_df_1 = new_df.drop([\"credit_history\", \"class\" ], axis=1)\n",
    "new_df_1"
   ]
  },
  {
   "cell_type": "code",
   "execution_count": 107,
   "metadata": {},
   "outputs": [
    {
     "data": {
      "text/plain": [
       "<Axes: >"
      ]
     },
     "execution_count": 107,
     "metadata": {},
     "output_type": "execute_result"
    },
    {
     "data": {
      "image/png": "[encoded data removed]",
      "text/plain": [
       "<Figure size 640x480 with 2 Axes>"
      ]
     },
     "metadata": {},
     "output_type": "display_data"
    }
   ],
   "source": [
    "sns.heatmap(new_df_1.corr(), fmt= \".2f\", annot = True, cmap = \"coolwarm\")"
   ]
  },
  {
   "cell_type": "code",
   "execution_count": 108,
   "metadata": {},
   "outputs": [],
   "source": [
    "enc = LabelEncoder()\n",
    "new_df.loc[:,'class'] = enc.fit_transform(new_df['class'])\n"
   ]
  },
  {
   "cell_type": "code",
   "execution_count": 109,
   "metadata": {},
   "outputs": [
    {
     "data": {
      "application/vnd.microsoft.datawrangler.viewer.v0+json": {
       "columns": [
        {
         "name": "index",
         "rawType": "int64",
         "type": "integer"
        },
        {
         "name": "duration",
         "rawType": "int64",
         "type": "integer"
        },
        {
         "name": "credit_history",
         "rawType": "category",
         "type": "unknown"
        },
        {
         "name": "credit_amount",
         "rawType": "int64",
         "type": "integer"
        },
        {
         "name": "installment_commitment",
         "rawType": "int64",
         "type": "integer"
        },
        {
         "name": "existing_credits",
         "rawType": "int64",
         "type": "integer"
        },
        {
         "name": "num_dependents",
         "rawType": "int64",
         "type": "integer"
        },
        {
         "name": "class",
         "rawType": "int64",
         "type": "integer"
        }
       ],
       "conversionMethod": "pd.DataFrame",
       "ref": "fc763e21-6a67-4fdb-8ffe-a4207d21ad40",
       "rows": [
        [
         "0",
         "6",
         "critical/other existing credit",
         "1169",
         "4",
         "2",
         "1",
         "1"
        ],
        [
         "1",
         "48",
         "existing paid",
         "5951",
         "2",
         "1",
         "1",
         "0"
        ],
        [
         "2",
         "12",
         "critical/other existing credit",
         "2096",
         "2",
         "1",
         "2",
         "1"
        ],
        [
         "3",
         "42",
         "existing paid",
         "7882",
         "2",
         "1",
         "2",
         "1"
        ],
        [
         "4",
         "24",
         "delayed previously",
         "4870",
         "3",
         "2",
         "2",
         "0"
        ],
        [
         "5",
         "36",
         "existing paid",
         "9055",
         "2",
         "1",
         "2",
         "1"
        ],
        [
         "6",
         "24",
         "existing paid",
         "2835",
         "3",
         "1",
         "1",
         "1"
        ],
        [
         "7",
         "36",
         "existing paid",
         "6948",
         "2",
         "1",
         "1",
         "1"
        ],
        [
         "8",
         "12",
         "existing paid",
         "3059",
         "2",
         "1",
         "1",
         "1"
        ],
        [
         "9",
         "30",
         "critical/other existing credit",
         "5234",
         "4",
         "2",
         "1",
         "0"
        ],
        [
         "10",
         "12",
         "existing paid",
         "1295",
         "3",
         "1",
         "1",
         "0"
        ],
        [
         "11",
         "48",
         "existing paid",
         "4308",
         "3",
         "1",
         "1",
         "0"
        ],
        [
         "12",
         "12",
         "existing paid",
         "1567",
         "1",
         "1",
         "1",
         "1"
        ],
        [
         "13",
         "24",
         "critical/other existing credit",
         "1199",
         "4",
         "2",
         "1",
         "0"
        ],
        [
         "14",
         "15",
         "existing paid",
         "1403",
         "2",
         "1",
         "1",
         "1"
        ],
        [
         "15",
         "24",
         "existing paid",
         "1282",
         "4",
         "1",
         "1",
         "0"
        ],
        [
         "16",
         "24",
         "critical/other existing credit",
         "2424",
         "4",
         "2",
         "1",
         "1"
        ],
        [
         "17",
         "30",
         "no credits/all paid",
         "8072",
         "2",
         "3",
         "1",
         "1"
        ],
        [
         "18",
         "24",
         "existing paid",
         "12579",
         "4",
         "1",
         "1",
         "0"
        ],
        [
         "19",
         "24",
         "existing paid",
         "3430",
         "3",
         "1",
         "2",
         "1"
        ],
        [
         "20",
         "9",
         "critical/other existing credit",
         "2134",
         "4",
         "3",
         "1",
         "1"
        ],
        [
         "21",
         "6",
         "existing paid",
         "2647",
         "2",
         "1",
         "2",
         "1"
        ],
        [
         "22",
         "10",
         "critical/other existing credit",
         "2241",
         "1",
         "2",
         "2",
         "1"
        ],
        [
         "23",
         "12",
         "critical/other existing credit",
         "1804",
         "3",
         "1",
         "1",
         "1"
        ],
        [
         "24",
         "10",
         "critical/other existing credit",
         "2069",
         "2",
         "2",
         "1",
         "1"
        ],
        [
         "25",
         "6",
         "existing paid",
         "1374",
         "1",
         "1",
         "1",
         "1"
        ],
        [
         "26",
         "6",
         "no credits/all paid",
         "426",
         "4",
         "1",
         "1",
         "1"
        ],
        [
         "27",
         "12",
         "all paid",
         "409",
         "3",
         "2",
         "1",
         "1"
        ],
        [
         "28",
         "7",
         "existing paid",
         "2415",
         "3",
         "1",
         "1",
         "1"
        ],
        [
         "29",
         "60",
         "delayed previously",
         "6836",
         "3",
         "2",
         "1",
         "0"
        ],
        [
         "30",
         "18",
         "existing paid",
         "1913",
         "3",
         "1",
         "1",
         "1"
        ],
        [
         "31",
         "24",
         "existing paid",
         "4020",
         "2",
         "1",
         "1",
         "1"
        ],
        [
         "32",
         "18",
         "existing paid",
         "5866",
         "2",
         "2",
         "1",
         "1"
        ],
        [
         "33",
         "12",
         "critical/other existing credit",
         "1264",
         "4",
         "1",
         "1",
         "1"
        ],
        [
         "34",
         "12",
         "existing paid",
         "1474",
         "4",
         "1",
         "1",
         "1"
        ],
        [
         "35",
         "45",
         "critical/other existing credit",
         "4746",
         "4",
         "2",
         "1",
         "0"
        ],
        [
         "36",
         "48",
         "critical/other existing credit",
         "6110",
         "1",
         "1",
         "1",
         "1"
        ],
        [
         "37",
         "18",
         "existing paid",
         "2100",
         "4",
         "1",
         "1",
         "0"
        ],
        [
         "38",
         "10",
         "existing paid",
         "1225",
         "2",
         "1",
         "1",
         "1"
        ],
        [
         "39",
         "9",
         "existing paid",
         "458",
         "4",
         "1",
         "1",
         "1"
        ],
        [
         "40",
         "30",
         "existing paid",
         "2333",
         "4",
         "1",
         "1",
         "1"
        ],
        [
         "41",
         "12",
         "existing paid",
         "1158",
         "3",
         "1",
         "1",
         "1"
        ],
        [
         "42",
         "18",
         "delayed previously",
         "6204",
         "2",
         "1",
         "2",
         "1"
        ],
        [
         "43",
         "30",
         "critical/other existing credit",
         "6187",
         "1",
         "2",
         "1",
         "1"
        ],
        [
         "44",
         "48",
         "critical/other existing credit",
         "6143",
         "4",
         "2",
         "1",
         "0"
        ],
        [
         "45",
         "11",
         "critical/other existing credit",
         "1393",
         "4",
         "2",
         "1",
         "1"
        ],
        [
         "46",
         "36",
         "existing paid",
         "2299",
         "4",
         "1",
         "1",
         "1"
        ],
        [
         "47",
         "6",
         "existing paid",
         "1352",
         "1",
         "1",
         "1",
         "1"
        ],
        [
         "48",
         "11",
         "critical/other existing credit",
         "7228",
         "1",
         "2",
         "1",
         "1"
        ],
        [
         "49",
         "12",
         "existing paid",
         "2073",
         "4",
         "1",
         "1",
         "1"
        ]
       ],
       "shape": {
        "columns": 7,
        "rows": 1000
       }
      },
      "text/html": [
       "<div>\n",
       "<style scoped>\n",
       "    .dataframe tbody tr th:only-of-type {\n",
       "        vertical-align: middle;\n",
       "    }\n",
       "\n",
       "    .dataframe tbody tr th {\n",
       "        vertical-align: top;\n",
       "    }\n",
       "\n",
       "    .dataframe thead th {\n",
       "        text-align: right;\n",
       "    }\n",
       "</style>\n",
       "<table border=\"1\" class=\"dataframe\">\n",
       "  <thead>\n",
       "    <tr style=\"text-align: right;\">\n",
       "      <th></th>\n",
       "      <th>duration</th>\n",
       "      <th>credit_history</th>\n",
       "      <th>credit_amount</th>\n",
       "      <th>installment_commitment</th>\n",
       "      <th>existing_credits</th>\n",
       "      <th>num_dependents</th>\n",
       "      <th>class</th>\n",
       "    </tr>\n",
       "  </thead>\n",
       "  <tbody>\n",
       "    <tr>\n",
       "      <th>0</th>\n",
       "      <td>6</td>\n",
       "      <td>critical/other existing credit</td>\n",
       "      <td>1169</td>\n",
       "      <td>4</td>\n",
       "      <td>2</td>\n",
       "      <td>1</td>\n",
       "      <td>1</td>\n",
       "    </tr>\n",
       "    <tr>\n",
       "      <th>1</th>\n",
       "      <td>48</td>\n",
       "      <td>existing paid</td>\n",
       "      <td>5951</td>\n",
       "      <td>2</td>\n",
       "      <td>1</td>\n",
       "      <td>1</td>\n",
       "      <td>0</td>\n",
       "    </tr>\n",
       "    <tr>\n",
       "      <th>2</th>\n",
       "      <td>12</td>\n",
       "      <td>critical/other existing credit</td>\n",
       "      <td>2096</td>\n",
       "      <td>2</td>\n",
       "      <td>1</td>\n",
       "      <td>2</td>\n",
       "      <td>1</td>\n",
       "    </tr>\n",
       "    <tr>\n",
       "      <th>3</th>\n",
       "      <td>42</td>\n",
       "      <td>existing paid</td>\n",
       "      <td>7882</td>\n",
       "      <td>2</td>\n",
       "      <td>1</td>\n",
       "      <td>2</td>\n",
       "      <td>1</td>\n",
       "    </tr>\n",
       "    <tr>\n",
       "      <th>4</th>\n",
       "      <td>24</td>\n",
       "      <td>delayed previously</td>\n",
       "      <td>4870</td>\n",
       "      <td>3</td>\n",
       "      <td>2</td>\n",
       "      <td>2</td>\n",
       "      <td>0</td>\n",
       "    </tr>\n",
       "    <tr>\n",
       "      <th>...</th>\n",
       "      <td>...</td>\n",
       "      <td>...</td>\n",
       "      <td>...</td>\n",
       "      <td>...</td>\n",
       "      <td>...</td>\n",
       "      <td>...</td>\n",
       "      <td>...</td>\n",
       "    </tr>\n",
       "    <tr>\n",
       "      <th>995</th>\n",
       "      <td>12</td>\n",
       "      <td>existing paid</td>\n",
       "      <td>1736</td>\n",
       "      <td>3</td>\n",
       "      <td>1</td>\n",
       "      <td>1</td>\n",
       "      <td>1</td>\n",
       "    </tr>\n",
       "    <tr>\n",
       "      <th>996</th>\n",
       "      <td>30</td>\n",
       "      <td>existing paid</td>\n",
       "      <td>3857</td>\n",
       "      <td>4</td>\n",
       "      <td>1</td>\n",
       "      <td>1</td>\n",
       "      <td>1</td>\n",
       "    </tr>\n",
       "    <tr>\n",
       "      <th>997</th>\n",
       "      <td>12</td>\n",
       "      <td>existing paid</td>\n",
       "      <td>804</td>\n",
       "      <td>4</td>\n",
       "      <td>1</td>\n",
       "      <td>1</td>\n",
       "      <td>1</td>\n",
       "    </tr>\n",
       "    <tr>\n",
       "      <th>998</th>\n",
       "      <td>45</td>\n",
       "      <td>existing paid</td>\n",
       "      <td>1845</td>\n",
       "      <td>4</td>\n",
       "      <td>1</td>\n",
       "      <td>1</td>\n",
       "      <td>0</td>\n",
       "    </tr>\n",
       "    <tr>\n",
       "      <th>999</th>\n",
       "      <td>45</td>\n",
       "      <td>critical/other existing credit</td>\n",
       "      <td>4576</td>\n",
       "      <td>3</td>\n",
       "      <td>1</td>\n",
       "      <td>1</td>\n",
       "      <td>1</td>\n",
       "    </tr>\n",
       "  </tbody>\n",
       "</table>\n",
       "<p>1000 rows × 7 columns</p>\n",
       "</div>"
      ],
      "text/plain": [
       "     duration                  credit_history  credit_amount  \\\n",
       "0           6  critical/other existing credit           1169   \n",
       "1          48                   existing paid           5951   \n",
       "2          12  critical/other existing credit           2096   \n",
       "3          42                   existing paid           7882   \n",
       "4          24              delayed previously           4870   \n",
       "..        ...                             ...            ...   \n",
       "995        12                   existing paid           1736   \n",
       "996        30                   existing paid           3857   \n",
       "997        12                   existing paid            804   \n",
       "998        45                   existing paid           1845   \n",
       "999        45  critical/other existing credit           4576   \n",
       "\n",
       "     installment_commitment  existing_credits  num_dependents  class  \n",
       "0                         4                 2               1      1  \n",
       "1                         2                 1               1      0  \n",
       "2                         2                 1               2      1  \n",
       "3                         2                 1               2      1  \n",
       "4                         3                 2               2      0  \n",
       "..                      ...               ...             ...    ...  \n",
       "995                       3                 1               1      1  \n",
       "996                       4                 1               1      1  \n",
       "997                       4                 1               1      1  \n",
       "998                       4                 1               1      0  \n",
       "999                       3                 1               1      1  \n",
       "\n",
       "[1000 rows x 7 columns]"
      ]
     },
     "execution_count": 109,
     "metadata": {},
     "output_type": "execute_result"
    }
   ],
   "source": [
    "new_df #label column encoded"
   ]
  },
  {
   "cell_type": "code",
   "execution_count": 19,
   "metadata": {},
   "outputs": [
    {
     "name": "stdout",
     "output_type": "stream",
     "text": [
      " all paid  critical/other existing credit  delayed previously  existing paid  no credits/all paid\n",
      "        0                               1                   0              0                    0\n",
      "        0                               0                   0              1                    0\n",
      "        0                               1                   0              0                    0\n",
      "        0                               0                   0              1                    0\n",
      "        0                               0                   1              0                    0\n",
      "        0                               0                   0              1                    0\n",
      "        0                               0                   0              1                    0\n",
      "        0                               0                   0              1                    0\n",
      "        0                               0                   0              1                    0\n",
      "        0                               1                   0              0                    0\n"
     ]
    }
   ],
   "source": [
    "#applying one hot encoding to credit_history column\n",
    "encoded_credit_history = pd.get_dummies(new_df['credit_history'], dtype = int)\n",
    "\n",
    "print(encoded_credit_history.head(10).to_string(index=False)) #prints all in one line \n",
    "\n",
    "\n"
   ]
  },
  {
   "cell_type": "code",
   "execution_count": 20,
   "metadata": {},
   "outputs": [
    {
     "name": "stdout",
     "output_type": "stream",
     "text": [
      " duration                 credit_history  credit_amount  installment_commitment  existing_credits  num_dependents class  all paid  critical/other existing credit  delayed previously  existing paid  no credits/all paid\n",
      "        6 critical/other existing credit           1169                       4                 2               1  good         0                               1                   0              0                    0\n",
      "       48                  existing paid           5951                       2                 1               1   bad         0                               0                   0              1                    0\n",
      "       12 critical/other existing credit           2096                       2                 1               2  good         0                               1                   0              0                    0\n",
      "       42                  existing paid           7882                       2                 1               2  good         0                               0                   0              1                    0\n",
      "       24             delayed previously           4870                       3                 2               2   bad         0                               0                   1              0                    0\n",
      "       36                  existing paid           9055                       2                 1               2  good         0                               0                   0              1                    0\n",
      "       24                  existing paid           2835                       3                 1               1  good         0                               0                   0              1                    0\n",
      "       36                  existing paid           6948                       2                 1               1  good         0                               0                   0              1                    0\n",
      "       12                  existing paid           3059                       2                 1               1  good         0                               0                   0              1                    0\n",
      "       30 critical/other existing credit           5234                       4                 2               1   bad         0                               1                   0              0                    0\n"
     ]
    }
   ],
   "source": [
    "encoded_df = pd.concat([new_df, encoded_credit_history], axis=1)\n",
    "print(encoded_df.head(10).to_string(index=False))"
   ]
  },
  {
   "cell_type": "code",
   "execution_count": 21,
   "metadata": {},
   "outputs": [],
   "source": [
    "new_encoded_df = encoded_df.drop(\"credit_history\", axis=1, inplace=False)"
   ]
  },
  {
   "cell_type": "code",
   "execution_count": 22,
   "metadata": {},
   "outputs": [
    {
     "data": {
      "application/vnd.microsoft.datawrangler.viewer.v0+json": {
       "columns": [
        {
         "name": "index",
         "rawType": "int64",
         "type": "integer"
        },
        {
         "name": "duration",
         "rawType": "int64",
         "type": "integer"
        },
        {
         "name": "credit_amount",
         "rawType": "int64",
         "type": "integer"
        },
        {
         "name": "installment_commitment",
         "rawType": "int64",
         "type": "integer"
        },
        {
         "name": "existing_credits",
         "rawType": "int64",
         "type": "integer"
        },
        {
         "name": "num_dependents",
         "rawType": "int64",
         "type": "integer"
        },
        {
         "name": "class",
         "rawType": "category",
         "type": "unknown"
        },
        {
         "name": "all paid",
         "rawType": "int64",
         "type": "integer"
        },
        {
         "name": "critical/other existing credit",
         "rawType": "int64",
         "type": "integer"
        },
        {
         "name": "delayed previously",
         "rawType": "int64",
         "type": "integer"
        },
        {
         "name": "existing paid",
         "rawType": "int64",
         "type": "integer"
        },
        {
         "name": "no credits/all paid",
         "rawType": "int64",
         "type": "integer"
        }
       ],
       "conversionMethod": "pd.DataFrame",
       "ref": "0b4538f5-754e-4977-8b48-09762ea89641",
       "rows": [
        [
         "0",
         "6",
         "1169",
         "4",
         "2",
         "1",
         "good",
         "0",
         "1",
         "0",
         "0",
         "0"
        ],
        [
         "1",
         "48",
         "5951",
         "2",
         "1",
         "1",
         "bad",
         "0",
         "0",
         "0",
         "1",
         "0"
        ],
        [
         "2",
         "12",
         "2096",
         "2",
         "1",
         "2",
         "good",
         "0",
         "1",
         "0",
         "0",
         "0"
        ],
        [
         "3",
         "42",
         "7882",
         "2",
         "1",
         "2",
         "good",
         "0",
         "0",
         "0",
         "1",
         "0"
        ],
        [
         "4",
         "24",
         "4870",
         "3",
         "2",
         "2",
         "bad",
         "0",
         "0",
         "1",
         "0",
         "0"
        ],
        [
         "5",
         "36",
         "9055",
         "2",
         "1",
         "2",
         "good",
         "0",
         "0",
         "0",
         "1",
         "0"
        ],
        [
         "6",
         "24",
         "2835",
         "3",
         "1",
         "1",
         "good",
         "0",
         "0",
         "0",
         "1",
         "0"
        ],
        [
         "7",
         "36",
         "6948",
         "2",
         "1",
         "1",
         "good",
         "0",
         "0",
         "0",
         "1",
         "0"
        ],
        [
         "8",
         "12",
         "3059",
         "2",
         "1",
         "1",
         "good",
         "0",
         "0",
         "0",
         "1",
         "0"
        ],
        [
         "9",
         "30",
         "5234",
         "4",
         "2",
         "1",
         "bad",
         "0",
         "1",
         "0",
         "0",
         "0"
        ],
        [
         "10",
         "12",
         "1295",
         "3",
         "1",
         "1",
         "bad",
         "0",
         "0",
         "0",
         "1",
         "0"
        ],
        [
         "11",
         "48",
         "4308",
         "3",
         "1",
         "1",
         "bad",
         "0",
         "0",
         "0",
         "1",
         "0"
        ],
        [
         "12",
         "12",
         "1567",
         "1",
         "1",
         "1",
         "good",
         "0",
         "0",
         "0",
         "1",
         "0"
        ],
        [
         "13",
         "24",
         "1199",
         "4",
         "2",
         "1",
         "bad",
         "0",
         "1",
         "0",
         "0",
         "0"
        ],
        [
         "14",
         "15",
         "1403",
         "2",
         "1",
         "1",
         "good",
         "0",
         "0",
         "0",
         "1",
         "0"
        ],
        [
         "15",
         "24",
         "1282",
         "4",
         "1",
         "1",
         "bad",
         "0",
         "0",
         "0",
         "1",
         "0"
        ],
        [
         "16",
         "24",
         "2424",
         "4",
         "2",
         "1",
         "good",
         "0",
         "1",
         "0",
         "0",
         "0"
        ],
        [
         "17",
         "30",
         "8072",
         "2",
         "3",
         "1",
         "good",
         "0",
         "0",
         "0",
         "0",
         "1"
        ],
        [
         "18",
         "24",
         "12579",
         "4",
         "1",
         "1",
         "bad",
         "0",
         "0",
         "0",
         "1",
         "0"
        ],
        [
         "19",
         "24",
         "3430",
         "3",
         "1",
         "2",
         "good",
         "0",
         "0",
         "0",
         "1",
         "0"
        ],
        [
         "20",
         "9",
         "2134",
         "4",
         "3",
         "1",
         "good",
         "0",
         "1",
         "0",
         "0",
         "0"
        ],
        [
         "21",
         "6",
         "2647",
         "2",
         "1",
         "2",
         "good",
         "0",
         "0",
         "0",
         "1",
         "0"
        ],
        [
         "22",
         "10",
         "2241",
         "1",
         "2",
         "2",
         "good",
         "0",
         "1",
         "0",
         "0",
         "0"
        ],
        [
         "23",
         "12",
         "1804",
         "3",
         "1",
         "1",
         "good",
         "0",
         "1",
         "0",
         "0",
         "0"
        ],
        [
         "24",
         "10",
         "2069",
         "2",
         "2",
         "1",
         "good",
         "0",
         "1",
         "0",
         "0",
         "0"
        ],
        [
         "25",
         "6",
         "1374",
         "1",
         "1",
         "1",
         "good",
         "0",
         "0",
         "0",
         "1",
         "0"
        ],
        [
         "26",
         "6",
         "426",
         "4",
         "1",
         "1",
         "good",
         "0",
         "0",
         "0",
         "0",
         "1"
        ],
        [
         "27",
         "12",
         "409",
         "3",
         "2",
         "1",
         "good",
         "1",
         "0",
         "0",
         "0",
         "0"
        ],
        [
         "28",
         "7",
         "2415",
         "3",
         "1",
         "1",
         "good",
         "0",
         "0",
         "0",
         "1",
         "0"
        ],
        [
         "29",
         "60",
         "6836",
         "3",
         "2",
         "1",
         "bad",
         "0",
         "0",
         "1",
         "0",
         "0"
        ],
        [
         "30",
         "18",
         "1913",
         "3",
         "1",
         "1",
         "good",
         "0",
         "0",
         "0",
         "1",
         "0"
        ],
        [
         "31",
         "24",
         "4020",
         "2",
         "1",
         "1",
         "good",
         "0",
         "0",
         "0",
         "1",
         "0"
        ],
        [
         "32",
         "18",
         "5866",
         "2",
         "2",
         "1",
         "good",
         "0",
         "0",
         "0",
         "1",
         "0"
        ],
        [
         "33",
         "12",
         "1264",
         "4",
         "1",
         "1",
         "good",
         "0",
         "1",
         "0",
         "0",
         "0"
        ],
        [
         "34",
         "12",
         "1474",
         "4",
         "1",
         "1",
         "good",
         "0",
         "0",
         "0",
         "1",
         "0"
        ],
        [
         "35",
         "45",
         "4746",
         "4",
         "2",
         "1",
         "bad",
         "0",
         "1",
         "0",
         "0",
         "0"
        ],
        [
         "36",
         "48",
         "6110",
         "1",
         "1",
         "1",
         "good",
         "0",
         "1",
         "0",
         "0",
         "0"
        ],
        [
         "37",
         "18",
         "2100",
         "4",
         "1",
         "1",
         "bad",
         "0",
         "0",
         "0",
         "1",
         "0"
        ],
        [
         "38",
         "10",
         "1225",
         "2",
         "1",
         "1",
         "good",
         "0",
         "0",
         "0",
         "1",
         "0"
        ],
        [
         "39",
         "9",
         "458",
         "4",
         "1",
         "1",
         "good",
         "0",
         "0",
         "0",
         "1",
         "0"
        ],
        [
         "40",
         "30",
         "2333",
         "4",
         "1",
         "1",
         "good",
         "0",
         "0",
         "0",
         "1",
         "0"
        ],
        [
         "41",
         "12",
         "1158",
         "3",
         "1",
         "1",
         "good",
         "0",
         "0",
         "0",
         "1",
         "0"
        ],
        [
         "42",
         "18",
         "6204",
         "2",
         "1",
         "2",
         "good",
         "0",
         "0",
         "1",
         "0",
         "0"
        ],
        [
         "43",
         "30",
         "6187",
         "1",
         "2",
         "1",
         "good",
         "0",
         "1",
         "0",
         "0",
         "0"
        ],
        [
         "44",
         "48",
         "6143",
         "4",
         "2",
         "1",
         "bad",
         "0",
         "1",
         "0",
         "0",
         "0"
        ],
        [
         "45",
         "11",
         "1393",
         "4",
         "2",
         "1",
         "good",
         "0",
         "1",
         "0",
         "0",
         "0"
        ],
        [
         "46",
         "36",
         "2299",
         "4",
         "1",
         "1",
         "good",
         "0",
         "0",
         "0",
         "1",
         "0"
        ],
        [
         "47",
         "6",
         "1352",
         "1",
         "1",
         "1",
         "good",
         "0",
         "0",
         "0",
         "1",
         "0"
        ],
        [
         "48",
         "11",
         "7228",
         "1",
         "2",
         "1",
         "good",
         "0",
         "1",
         "0",
         "0",
         "0"
        ],
        [
         "49",
         "12",
         "2073",
         "4",
         "1",
         "1",
         "good",
         "0",
         "0",
         "0",
         "1",
         "0"
        ]
       ],
       "shape": {
        "columns": 11,
        "rows": 1000
       }
      },
      "text/html": [
       "<div>\n",
       "<style scoped>\n",
       "    .dataframe tbody tr th:only-of-type {\n",
       "        vertical-align: middle;\n",
       "    }\n",
       "\n",
       "    .dataframe tbody tr th {\n",
       "        vertical-align: top;\n",
       "    }\n",
       "\n",
       "    .dataframe thead th {\n",
       "        text-align: right;\n",
       "    }\n",
       "</style>\n",
       "<table border=\"1\" class=\"dataframe\">\n",
       "  <thead>\n",
       "    <tr style=\"text-align: right;\">\n",
       "      <th></th>\n",
       "      <th>duration</th>\n",
       "      <th>credit_amount</th>\n",
       "      <th>installment_commitment</th>\n",
       "      <th>existing_credits</th>\n",
       "      <th>num_dependents</th>\n",
       "      <th>class</th>\n",
       "      <th>all paid</th>\n",
       "      <th>critical/other existing credit</th>\n",
       "      <th>delayed previously</th>\n",
       "      <th>existing paid</th>\n",
       "      <th>no credits/all paid</th>\n",
       "    </tr>\n",
       "  </thead>\n",
       "  <tbody>\n",
       "    <tr>\n",
       "      <th>0</th>\n",
       "      <td>6</td>\n",
       "      <td>1169</td>\n",
       "      <td>4</td>\n",
       "      <td>2</td>\n",
       "      <td>1</td>\n",
       "      <td>good</td>\n",
       "      <td>0</td>\n",
       "      <td>1</td>\n",
       "      <td>0</td>\n",
       "      <td>0</td>\n",
       "      <td>0</td>\n",
       "    </tr>\n",
       "    <tr>\n",
       "      <th>1</th>\n",
       "      <td>48</td>\n",
       "      <td>5951</td>\n",
       "      <td>2</td>\n",
       "      <td>1</td>\n",
       "      <td>1</td>\n",
       "      <td>bad</td>\n",
       "      <td>0</td>\n",
       "      <td>0</td>\n",
       "      <td>0</td>\n",
       "      <td>1</td>\n",
       "      <td>0</td>\n",
       "    </tr>\n",
       "    <tr>\n",
       "      <th>2</th>\n",
       "      <td>12</td>\n",
       "      <td>2096</td>\n",
       "      <td>2</td>\n",
       "      <td>1</td>\n",
       "      <td>2</td>\n",
       "      <td>good</td>\n",
       "      <td>0</td>\n",
       "      <td>1</td>\n",
       "      <td>0</td>\n",
       "      <td>0</td>\n",
       "      <td>0</td>\n",
       "    </tr>\n",
       "    <tr>\n",
       "      <th>3</th>\n",
       "      <td>42</td>\n",
       "      <td>7882</td>\n",
       "      <td>2</td>\n",
       "      <td>1</td>\n",
       "      <td>2</td>\n",
       "      <td>good</td>\n",
       "      <td>0</td>\n",
       "      <td>0</td>\n",
       "      <td>0</td>\n",
       "      <td>1</td>\n",
       "      <td>0</td>\n",
       "    </tr>\n",
       "    <tr>\n",
       "      <th>4</th>\n",
       "      <td>24</td>\n",
       "      <td>4870</td>\n",
       "      <td>3</td>\n",
       "      <td>2</td>\n",
       "      <td>2</td>\n",
       "      <td>bad</td>\n",
       "      <td>0</td>\n",
       "      <td>0</td>\n",
       "      <td>1</td>\n",
       "      <td>0</td>\n",
       "      <td>0</td>\n",
       "    </tr>\n",
       "    <tr>\n",
       "      <th>...</th>\n",
       "      <td>...</td>\n",
       "      <td>...</td>\n",
       "      <td>...</td>\n",
       "      <td>...</td>\n",
       "      <td>...</td>\n",
       "      <td>...</td>\n",
       "      <td>...</td>\n",
       "      <td>...</td>\n",
       "      <td>...</td>\n",
       "      <td>...</td>\n",
       "      <td>...</td>\n",
       "    </tr>\n",
       "    <tr>\n",
       "      <th>995</th>\n",
       "      <td>12</td>\n",
       "      <td>1736</td>\n",
       "      <td>3</td>\n",
       "      <td>1</td>\n",
       "      <td>1</td>\n",
       "      <td>good</td>\n",
       "      <td>0</td>\n",
       "      <td>0</td>\n",
       "      <td>0</td>\n",
       "      <td>1</td>\n",
       "      <td>0</td>\n",
       "    </tr>\n",
       "    <tr>\n",
       "      <th>996</th>\n",
       "      <td>30</td>\n",
       "      <td>3857</td>\n",
       "      <td>4</td>\n",
       "      <td>1</td>\n",
       "      <td>1</td>\n",
       "      <td>good</td>\n",
       "      <td>0</td>\n",
       "      <td>0</td>\n",
       "      <td>0</td>\n",
       "      <td>1</td>\n",
       "      <td>0</td>\n",
       "    </tr>\n",
       "    <tr>\n",
       "      <th>997</th>\n",
       "      <td>12</td>\n",
       "      <td>804</td>\n",
       "      <td>4</td>\n",
       "      <td>1</td>\n",
       "      <td>1</td>\n",
       "      <td>good</td>\n",
       "      <td>0</td>\n",
       "      <td>0</td>\n",
       "      <td>0</td>\n",
       "      <td>1</td>\n",
       "      <td>0</td>\n",
       "    </tr>\n",
       "    <tr>\n",
       "      <th>998</th>\n",
       "      <td>45</td>\n",
       "      <td>1845</td>\n",
       "      <td>4</td>\n",
       "      <td>1</td>\n",
       "      <td>1</td>\n",
       "      <td>bad</td>\n",
       "      <td>0</td>\n",
       "      <td>0</td>\n",
       "      <td>0</td>\n",
       "      <td>1</td>\n",
       "      <td>0</td>\n",
       "    </tr>\n",
       "    <tr>\n",
       "      <th>999</th>\n",
       "      <td>45</td>\n",
       "      <td>4576</td>\n",
       "      <td>3</td>\n",
       "      <td>1</td>\n",
       "      <td>1</td>\n",
       "      <td>good</td>\n",
       "      <td>0</td>\n",
       "      <td>1</td>\n",
       "      <td>0</td>\n",
       "      <td>0</td>\n",
       "      <td>0</td>\n",
       "    </tr>\n",
       "  </tbody>\n",
       "</table>\n",
       "<p>1000 rows × 11 columns</p>\n",
       "</div>"
      ],
      "text/plain": [
       "     duration  credit_amount  installment_commitment  existing_credits  \\\n",
       "0           6           1169                       4                 2   \n",
       "1          48           5951                       2                 1   \n",
       "2          12           2096                       2                 1   \n",
       "3          42           7882                       2                 1   \n",
       "4          24           4870                       3                 2   \n",
       "..        ...            ...                     ...               ...   \n",
       "995        12           1736                       3                 1   \n",
       "996        30           3857                       4                 1   \n",
       "997        12            804                       4                 1   \n",
       "998        45           1845                       4                 1   \n",
       "999        45           4576                       3                 1   \n",
       "\n",
       "     num_dependents class  all paid  critical/other existing credit  \\\n",
       "0                 1  good         0                               1   \n",
       "1                 1   bad         0                               0   \n",
       "2                 2  good         0                               1   \n",
       "3                 2  good         0                               0   \n",
       "4                 2   bad         0                               0   \n",
       "..              ...   ...       ...                             ...   \n",
       "995               1  good         0                               0   \n",
       "996               1  good         0                               0   \n",
       "997               1  good         0                               0   \n",
       "998               1   bad         0                               0   \n",
       "999               1  good         0                               1   \n",
       "\n",
       "     delayed previously  existing paid  no credits/all paid  \n",
       "0                     0              0                    0  \n",
       "1                     0              1                    0  \n",
       "2                     0              0                    0  \n",
       "3                     0              1                    0  \n",
       "4                     1              0                    0  \n",
       "..                  ...            ...                  ...  \n",
       "995                   0              1                    0  \n",
       "996                   0              1                    0  \n",
       "997                   0              1                    0  \n",
       "998                   0              1                    0  \n",
       "999                   0              0                    0  \n",
       "\n",
       "[1000 rows x 11 columns]"
      ]
     },
     "execution_count": 22,
     "metadata": {},
     "output_type": "execute_result"
    }
   ],
   "source": [
    "new_encoded_df #dataframe ready to be scaled"
   ]
  },
  {
   "cell_type": "code",
   "execution_count": 24,
   "metadata": {},
   "outputs": [],
   "source": [
    "#split into X and y\n",
    "X = new_encoded_df.drop(\"class\", axis=1).values #features\n",
    "y = new_encoded_df[\"class\"].values #target\n"
   ]
  },
  {
   "cell_type": "code",
   "execution_count": 25,
   "metadata": {},
   "outputs": [],
   "source": [
    "#scale the data\n",
    "scaler = StandardScaler()\n",
    "X_scaled = scaler.fit_transform(X)"
   ]
  },
  {
   "cell_type": "code",
   "execution_count": 26,
   "metadata": {},
   "outputs": [],
   "source": [
    "#split data into 80% training, 10% testing and 10% validation\n",
    "\n",
    "X_train, X_temp, y_train, y_temp = train_test_split(X_scaled, y, test_size=0.2, random_state=42,\n",
    "                                                     shuffle = True)"
   ]
  },
  {
   "cell_type": "code",
   "execution_count": 27,
   "metadata": {},
   "outputs": [],
   "source": [
    "#Further split X_temp and y_temp into 50% training and 50% validation\n",
    "X_val, X_test, y_val, y_test = train_test_split(X_temp, y_temp, test_size=0.5, random_state=42,\n",
    "                                                     shuffle = True)"
   ]
  },
  {
   "cell_type": "code",
   "execution_count": 118,
   "metadata": {},
   "outputs": [
    {
     "name": "stdout",
     "output_type": "stream",
     "text": [
      "(800, 10)\n",
      "(100, 10)\n",
      "(100, 10)\n"
     ]
    }
   ],
   "source": [
    "for dataset in [X_train, X_val, X_test]: #\n",
    "    print(dataset.shape)\n",
    "   "
   ]
  },
  {
   "cell_type": "code",
   "execution_count": 119,
   "metadata": {},
   "outputs": [
    {
     "name": "stdout",
     "output_type": "stream",
     "text": [
      "(800,)\n",
      "(100,)\n",
      "(100,)\n"
     ]
    }
   ],
   "source": [
    "for dataset in [y_train, y_val, y_test]:\n",
    "    print(dataset.shape)"
   ]
  },
  {
   "cell_type": "code",
   "execution_count": 28,
   "metadata": {},
   "outputs": [
    {
     "data": {
      "text/html": [
       "<style>#sk-container-id-1 {\n",
       "  /* Definition of color scheme common for light and dark mode */\n",
       "  --sklearn-color-text: #000;\n",
       "  --sklearn-color-text-muted: #666;\n",
       "  --sklearn-color-line: gray;\n",
       "  /* Definition of color scheme for unfitted estimators */\n",
       "  --sklearn-color-unfitted-level-0: #fff5e6;\n",
       "  --sklearn-color-unfitted-level-1: #f6e4d2;\n",
       "  --sklearn-color-unfitted-level-2: #ffe0b3;\n",
       "  --sklearn-color-unfitted-level-3: chocolate;\n",
       "  /* Definition of color scheme for fitted estimators */\n",
       "  --sklearn-color-fitted-level-0: #f0f8ff;\n",
       "  --sklearn-color-fitted-level-1: #d4ebff;\n",
       "  --sklearn-color-fitted-level-2: #b3dbfd;\n",
       "  --sklearn-color-fitted-level-3: cornflowerblue;\n",
       "\n",
       "  /* Specific color for light theme */\n",
       "  --sklearn-color-text-on-default-background: var(--sg-text-color, var(--theme-code-foreground, var(--jp-content-font-color1, black)));\n",
       "  --sklearn-color-background: var(--sg-background-color, var(--theme-background, var(--jp-layout-color0, white)));\n",
       "  --sklearn-color-border-box: var(--sg-text-color, var(--theme-code-foreground, var(--jp-content-font-color1, black)));\n",
       "  --sklearn-color-icon: #696969;\n",
       "\n",
       "  @media (prefers-color-scheme: dark) {\n",
       "    /* Redefinition of color scheme for dark theme */\n",
       "    --sklearn-color-text-on-default-background: var(--sg-text-color, var(--theme-code-foreground, var(--jp-content-font-color1, white)));\n",
       "    --sklearn-color-background: var(--sg-background-color, var(--theme-background, var(--jp-layout-color0, #111)));\n",
       "    --sklearn-color-border-box: var(--sg-text-color, var(--theme-code-foreground, var(--jp-content-font-color1, white)));\n",
       "    --sklearn-color-icon: #878787;\n",
       "  }\n",
       "}\n",
       "\n",
       "#sk-container-id-1 {\n",
       "  color: var(--sklearn-color-text);\n",
       "}\n",
       "\n",
       "#sk-container-id-1 pre {\n",
       "  padding: 0;\n",
       "}\n",
       "\n",
       "#sk-container-id-1 input.sk-hidden--visually {\n",
       "  border: 0;\n",
       "  clip: rect(1px 1px 1px 1px);\n",
       "  clip: rect(1px, 1px, 1px, 1px);\n",
       "  height: 1px;\n",
       "  margin: -1px;\n",
       "  overflow: hidden;\n",
       "  padding: 0;\n",
       "  position: absolute;\n",
       "  width: 1px;\n",
       "}\n",
       "\n",
       "#sk-container-id-1 div.sk-dashed-wrapped {\n",
       "  border: 1px dashed var(--sklearn-color-line);\n",
       "  margin: 0 0.4em 0.5em 0.4em;\n",
       "  box-sizing: border-box;\n",
       "  padding-bottom: 0.4em;\n",
       "  background-color: var(--sklearn-color-background);\n",
       "}\n",
       "\n",
       "#sk-container-id-1 div.sk-container {\n",
       "  /* jupyter's `normalize.less` sets `[hidden] { display: none; }`\n",
       "     but bootstrap.min.css set `[hidden] { display: none !important; }`\n",
       "     so we also need the `!important` here to be able to override the\n",
       "     default hidden behavior on the sphinx rendered scikit-learn.org.\n",
       "     See: https://github.com/scikit-learn/scikit-learn/issues/21755 */\n",
       "  display: inline-block !important;\n",
       "  position: relative;\n",
       "}\n",
       "\n",
       "#sk-container-id-1 div.sk-text-repr-fallback {\n",
       "  display: none;\n",
       "}\n",
       "\n",
       "div.sk-parallel-item,\n",
       "div.sk-serial,\n",
       "div.sk-item {\n",
       "  /* draw centered vertical line to link estimators */\n",
       "  background-image: linear-gradient(var(--sklearn-color-text-on-default-background), var(--sklearn-color-text-on-default-background));\n",
       "  background-size: 2px 100%;\n",
       "  background-repeat: no-repeat;\n",
       "  background-position: center center;\n",
       "}\n",
       "\n",
       "/* Parallel-specific style estimator block */\n",
       "\n",
       "#sk-container-id-1 div.sk-parallel-item::after {\n",
       "  content: \"\";\n",
       "  width: 100%;\n",
       "  border-bottom: 2px solid var(--sklearn-color-text-on-default-background);\n",
       "  flex-grow: 1;\n",
       "}\n",
       "\n",
       "#sk-container-id-1 div.sk-parallel {\n",
       "  display: flex;\n",
       "  align-items: stretch;\n",
       "  justify-content: center;\n",
       "  background-color: var(--sklearn-color-background);\n",
       "  position: relative;\n",
       "}\n",
       "\n",
       "#sk-container-id-1 div.sk-parallel-item {\n",
       "  display: flex;\n",
       "  flex-direction: column;\n",
       "}\n",
       "\n",
       "#sk-container-id-1 div.sk-parallel-item:first-child::after {\n",
       "  align-self: flex-end;\n",
       "  width: 50%;\n",
       "}\n",
       "\n",
       "#sk-container-id-1 div.sk-parallel-item:last-child::after {\n",
       "  align-self: flex-start;\n",
       "  width: 50%;\n",
       "}\n",
       "\n",
       "#sk-container-id-1 div.sk-parallel-item:only-child::after {\n",
       "  width: 0;\n",
       "}\n",
       "\n",
       "/* Serial-specific style estimator block */\n",
       "\n",
       "#sk-container-id-1 div.sk-serial {\n",
       "  display: flex;\n",
       "  flex-direction: column;\n",
       "  align-items: center;\n",
       "  background-color: var(--sklearn-color-background);\n",
       "  padding-right: 1em;\n",
       "  padding-left: 1em;\n",
       "}\n",
       "\n",
       "\n",
       "/* Toggleable style: style used for estimator/Pipeline/ColumnTransformer box that is\n",
       "clickable and can be expanded/collapsed.\n",
       "- Pipeline and ColumnTransformer use this feature and define the default style\n",
       "- Estimators will overwrite some part of the style using the `sk-estimator` class\n",
       "*/\n",
       "\n",
       "/* Pipeline and ColumnTransformer style (default) */\n",
       "\n",
       "#sk-container-id-1 div.sk-toggleable {\n",
       "  /* Default theme specific background. It is overwritten whether we have a\n",
       "  specific estimator or a Pipeline/ColumnTransformer */\n",
       "  background-color: var(--sklearn-color-background);\n",
       "}\n",
       "\n",
       "/* Toggleable label */\n",
       "#sk-container-id-1 label.sk-toggleable__label {\n",
       "  cursor: pointer;\n",
       "  display: flex;\n",
       "  width: 100%;\n",
       "  margin-bottom: 0;\n",
       "  padding: 0.5em;\n",
       "  box-sizing: border-box;\n",
       "  text-align: center;\n",
       "  align-items: start;\n",
       "  justify-content: space-between;\n",
       "  gap: 0.5em;\n",
       "}\n",
       "\n",
       "#sk-container-id-1 label.sk-toggleable__label .caption {\n",
       "  font-size: 0.6rem;\n",
       "  font-weight: lighter;\n",
       "  color: var(--sklearn-color-text-muted);\n",
       "}\n",
       "\n",
       "#sk-container-id-1 label.sk-toggleable__label-arrow:before {\n",
       "  /* Arrow on the left of the label */\n",
       "  content: \"▸\";\n",
       "  float: left;\n",
       "  margin-right: 0.25em;\n",
       "  color: var(--sklearn-color-icon);\n",
       "}\n",
       "\n",
       "#sk-container-id-1 label.sk-toggleable__label-arrow:hover:before {\n",
       "  color: var(--sklearn-color-text);\n",
       "}\n",
       "\n",
       "/* Toggleable content - dropdown */\n",
       "\n",
       "#sk-container-id-1 div.sk-toggleable__content {\n",
       "  max-height: 0;\n",
       "  max-width: 0;\n",
       "  overflow: hidden;\n",
       "  text-align: left;\n",
       "  /* unfitted */\n",
       "  background-color: var(--sklearn-color-unfitted-level-0);\n",
       "}\n",
       "\n",
       "#sk-container-id-1 div.sk-toggleable__content.fitted {\n",
       "  /* fitted */\n",
       "  background-color: var(--sklearn-color-fitted-level-0);\n",
       "}\n",
       "\n",
       "#sk-container-id-1 div.sk-toggleable__content pre {\n",
       "  margin: 0.2em;\n",
       "  border-radius: 0.25em;\n",
       "  color: var(--sklearn-color-text);\n",
       "  /* unfitted */\n",
       "  background-color: var(--sklearn-color-unfitted-level-0);\n",
       "}\n",
       "\n",
       "#sk-container-id-1 div.sk-toggleable__content.fitted pre {\n",
       "  /* unfitted */\n",
       "  background-color: var(--sklearn-color-fitted-level-0);\n",
       "}\n",
       "\n",
       "#sk-container-id-1 input.sk-toggleable__control:checked~div.sk-toggleable__content {\n",
       "  /* Expand drop-down */\n",
       "  max-height: 200px;\n",
       "  max-width: 100%;\n",
       "  overflow: auto;\n",
       "}\n",
       "\n",
       "#sk-container-id-1 input.sk-toggleable__control:checked~label.sk-toggleable__label-arrow:before {\n",
       "  content: \"▾\";\n",
       "}\n",
       "\n",
       "/* Pipeline/ColumnTransformer-specific style */\n",
       "\n",
       "#sk-container-id-1 div.sk-label input.sk-toggleable__control:checked~label.sk-toggleable__label {\n",
       "  color: var(--sklearn-color-text);\n",
       "  background-color: var(--sklearn-color-unfitted-level-2);\n",
       "}\n",
       "\n",
       "#sk-container-id-1 div.sk-label.fitted input.sk-toggleable__control:checked~label.sk-toggleable__label {\n",
       "  background-color: var(--sklearn-color-fitted-level-2);\n",
       "}\n",
       "\n",
       "/* Estimator-specific style */\n",
       "\n",
       "/* Colorize estimator box */\n",
       "#sk-container-id-1 div.sk-estimator input.sk-toggleable__control:checked~label.sk-toggleable__label {\n",
       "  /* unfitted */\n",
       "  background-color: var(--sklearn-color-unfitted-level-2);\n",
       "}\n",
       "\n",
       "#sk-container-id-1 div.sk-estimator.fitted input.sk-toggleable__control:checked~label.sk-toggleable__label {\n",
       "  /* fitted */\n",
       "  background-color: var(--sklearn-color-fitted-level-2);\n",
       "}\n",
       "\n",
       "#sk-container-id-1 div.sk-label label.sk-toggleable__label,\n",
       "#sk-container-id-1 div.sk-label label {\n",
       "  /* The background is the default theme color */\n",
       "  color: var(--sklearn-color-text-on-default-background);\n",
       "}\n",
       "\n",
       "/* On hover, darken the color of the background */\n",
       "#sk-container-id-1 div.sk-label:hover label.sk-toggleable__label {\n",
       "  color: var(--sklearn-color-text);\n",
       "  background-color: var(--sklearn-color-unfitted-level-2);\n",
       "}\n",
       "\n",
       "/* Label box, darken color on hover, fitted */\n",
       "#sk-container-id-1 div.sk-label.fitted:hover label.sk-toggleable__label.fitted {\n",
       "  color: var(--sklearn-color-text);\n",
       "  background-color: var(--sklearn-color-fitted-level-2);\n",
       "}\n",
       "\n",
       "/* Estimator label */\n",
       "\n",
       "#sk-container-id-1 div.sk-label label {\n",
       "  font-family: monospace;\n",
       "  font-weight: bold;\n",
       "  display: inline-block;\n",
       "  line-height: 1.2em;\n",
       "}\n",
       "\n",
       "#sk-container-id-1 div.sk-label-container {\n",
       "  text-align: center;\n",
       "}\n",
       "\n",
       "/* Estimator-specific */\n",
       "#sk-container-id-1 div.sk-estimator {\n",
       "  font-family: monospace;\n",
       "  border: 1px dotted var(--sklearn-color-border-box);\n",
       "  border-radius: 0.25em;\n",
       "  box-sizing: border-box;\n",
       "  margin-bottom: 0.5em;\n",
       "  /* unfitted */\n",
       "  background-color: var(--sklearn-color-unfitted-level-0);\n",
       "}\n",
       "\n",
       "#sk-container-id-1 div.sk-estimator.fitted {\n",
       "  /* fitted */\n",
       "  background-color: var(--sklearn-color-fitted-level-0);\n",
       "}\n",
       "\n",
       "/* on hover */\n",
       "#sk-container-id-1 div.sk-estimator:hover {\n",
       "  /* unfitted */\n",
       "  background-color: var(--sklearn-color-unfitted-level-2);\n",
       "}\n",
       "\n",
       "#sk-container-id-1 div.sk-estimator.fitted:hover {\n",
       "  /* fitted */\n",
       "  background-color: var(--sklearn-color-fitted-level-2);\n",
       "}\n",
       "\n",
       "/* Specification for estimator info (e.g. \"i\" and \"?\") */\n",
       "\n",
       "/* Common style for \"i\" and \"?\" */\n",
       "\n",
       ".sk-estimator-doc-link,\n",
       "a:link.sk-estimator-doc-link,\n",
       "a:visited.sk-estimator-doc-link {\n",
       "  float: right;\n",
       "  font-size: smaller;\n",
       "  line-height: 1em;\n",
       "  font-family: monospace;\n",
       "  background-color: var(--sklearn-color-background);\n",
       "  border-radius: 1em;\n",
       "  height: 1em;\n",
       "  width: 1em;\n",
       "  text-decoration: none !important;\n",
       "  margin-left: 0.5em;\n",
       "  text-align: center;\n",
       "  /* unfitted */\n",
       "  border: var(--sklearn-color-unfitted-level-1) 1pt solid;\n",
       "  color: var(--sklearn-color-unfitted-level-1);\n",
       "}\n",
       "\n",
       ".sk-estimator-doc-link.fitted,\n",
       "a:link.sk-estimator-doc-link.fitted,\n",
       "a:visited.sk-estimator-doc-link.fitted {\n",
       "  /* fitted */\n",
       "  border: var(--sklearn-color-fitted-level-1) 1pt solid;\n",
       "  color: var(--sklearn-color-fitted-level-1);\n",
       "}\n",
       "\n",
       "/* On hover */\n",
       "div.sk-estimator:hover .sk-estimator-doc-link:hover,\n",
       ".sk-estimator-doc-link:hover,\n",
       "div.sk-label-container:hover .sk-estimator-doc-link:hover,\n",
       ".sk-estimator-doc-link:hover {\n",
       "  /* unfitted */\n",
       "  background-color: var(--sklearn-color-unfitted-level-3);\n",
       "  color: var(--sklearn-color-background);\n",
       "  text-decoration: none;\n",
       "}\n",
       "\n",
       "div.sk-estimator.fitted:hover .sk-estimator-doc-link.fitted:hover,\n",
       ".sk-estimator-doc-link.fitted:hover,\n",
       "div.sk-label-container:hover .sk-estimator-doc-link.fitted:hover,\n",
       ".sk-estimator-doc-link.fitted:hover {\n",
       "  /* fitted */\n",
       "  background-color: var(--sklearn-color-fitted-level-3);\n",
       "  color: var(--sklearn-color-background);\n",
       "  text-decoration: none;\n",
       "}\n",
       "\n",
       "/* Span, style for the box shown on hovering the info icon */\n",
       ".sk-estimator-doc-link span {\n",
       "  display: none;\n",
       "  z-index: 9999;\n",
       "  position: relative;\n",
       "  font-weight: normal;\n",
       "  right: .2ex;\n",
       "  padding: .5ex;\n",
       "  margin: .5ex;\n",
       "  width: min-content;\n",
       "  min-width: 20ex;\n",
       "  max-width: 50ex;\n",
       "  color: var(--sklearn-color-text);\n",
       "  box-shadow: 2pt 2pt 4pt #999;\n",
       "  /* unfitted */\n",
       "  background: var(--sklearn-color-unfitted-level-0);\n",
       "  border: .5pt solid var(--sklearn-color-unfitted-level-3);\n",
       "}\n",
       "\n",
       ".sk-estimator-doc-link.fitted span {\n",
       "  /* fitted */\n",
       "  background: var(--sklearn-color-fitted-level-0);\n",
       "  border: var(--sklearn-color-fitted-level-3);\n",
       "}\n",
       "\n",
       ".sk-estimator-doc-link:hover span {\n",
       "  display: block;\n",
       "}\n",
       "\n",
       "/* \"?\"-specific style due to the `<a>` HTML tag */\n",
       "\n",
       "#sk-container-id-1 a.estimator_doc_link {\n",
       "  float: right;\n",
       "  font-size: 1rem;\n",
       "  line-height: 1em;\n",
       "  font-family: monospace;\n",
       "  background-color: var(--sklearn-color-background);\n",
       "  border-radius: 1rem;\n",
       "  height: 1rem;\n",
       "  width: 1rem;\n",
       "  text-decoration: none;\n",
       "  /* unfitted */\n",
       "  color: var(--sklearn-color-unfitted-level-1);\n",
       "  border: var(--sklearn-color-unfitted-level-1) 1pt solid;\n",
       "}\n",
       "\n",
       "#sk-container-id-1 a.estimator_doc_link.fitted {\n",
       "  /* fitted */\n",
       "  border: var(--sklearn-color-fitted-level-1) 1pt solid;\n",
       "  color: var(--sklearn-color-fitted-level-1);\n",
       "}\n",
       "\n",
       "/* On hover */\n",
       "#sk-container-id-1 a.estimator_doc_link:hover {\n",
       "  /* unfitted */\n",
       "  background-color: var(--sklearn-color-unfitted-level-3);\n",
       "  color: var(--sklearn-color-background);\n",
       "  text-decoration: none;\n",
       "}\n",
       "\n",
       "#sk-container-id-1 a.estimator_doc_link.fitted:hover {\n",
       "  /* fitted */\n",
       "  background-color: var(--sklearn-color-fitted-level-3);\n",
       "}\n",
       "</style><div id=\"sk-container-id-1\" class=\"sk-top-container\"><div class=\"sk-text-repr-fallback\"><pre>KNeighborsClassifier()</pre><b>In a Jupyter environment, please rerun this cell to show the HTML representation or trust the notebook. <br />On GitHub, the HTML representation is unable to render, please try loading this page with nbviewer.org.</b></div><div class=\"sk-container\" hidden><div class=\"sk-item\"><div class=\"sk-estimator fitted sk-toggleable\"><input class=\"sk-toggleable__control sk-hidden--visually\" id=\"sk-estimator-id-1\" type=\"checkbox\" checked><label for=\"sk-estimator-id-1\" class=\"sk-toggleable__label fitted sk-toggleable__label-arrow\"><div><div>KNeighborsClassifier</div></div><div><a class=\"sk-estimator-doc-link fitted\" rel=\"noreferrer\" target=\"_blank\" href=\"https://scikit-learn.org/1.6/modules/generated/sklearn.neighbors.KNeighborsClassifier.html\">?<span>Documentation for KNeighborsClassifier</span></a><span class=\"sk-estimator-doc-link fitted\">i<span>Fitted</span></span></div></label><div class=\"sk-toggleable__content fitted\"><pre>KNeighborsClassifier()</pre></div> </div></div></div></div>"
      ],
      "text/plain": [
       "KNeighborsClassifier()"
      ]
     },
     "execution_count": 28,
     "metadata": {},
     "output_type": "execute_result"
    }
   ],
   "source": [
    "#Train the model\n",
    "KNN = KNeighborsClassifier(n_neighbors = 5)\n",
    "KNN.fit(X_train, y_train)\n"
   ]
  },
  {
   "cell_type": "code",
   "execution_count": 37,
   "metadata": {},
   "outputs": [
    {
     "name": "stdout",
     "output_type": "stream",
     "text": [
      "classification_report:\n",
      "               precision    recall  f1-score   support\n",
      "\n",
      "         bad       0.60      0.48      0.54        31\n",
      "        good       0.79      0.86      0.82        69\n",
      "\n",
      "    accuracy                           0.74       100\n",
      "   macro avg       0.69      0.67      0.68       100\n",
      "weighted avg       0.73      0.74      0.73       100\n",
      "\n",
      "confusion_matrix:\n",
      " [[15 16]\n",
      " [10 59]]\n",
      "Validation accuracy:\n",
      " 0.74\n"
     ]
    }
   ],
   "source": [
    "#Evaluate the model on validation data\n",
    "\n",
    "y_val_pred = KNN.predict(X_val)\n",
    "val_accuracy = accuracy_score(y_val, y_val_pred)\n",
    "print(\"classification_report:\\n\", classification_report(y_val, y_val_pred))\n",
    "print(\"confusion_matrix:\\n\", confusion_matrix(y_val, y_val_pred))\n",
    "print(f\"Validation accuracy:\\n {val_accuracy:.2f}\")"
   ]
  },
  {
   "cell_type": "code",
   "execution_count": 41,
   "metadata": {},
   "outputs": [
    {
     "name": "stdout",
     "output_type": "stream",
     "text": [
      "classification_report:\n",
      "               precision    recall  f1-score   support\n",
      "\n",
      "         bad       0.45      0.36      0.40        28\n",
      "        good       0.77      0.83      0.80        72\n",
      "\n",
      "    accuracy                           0.70       100\n",
      "   macro avg       0.61      0.60      0.60       100\n",
      "weighted avg       0.68      0.70      0.69       100\n",
      "\n",
      "Test accuracy: 0.70\n"
     ]
    }
   ],
   "source": [
    "#Evaluate the model on test data\n",
    "y_test_pred = KNN.predict(X_test)\n",
    "test_accuracy = accuracy_score(y_test, y_test_pred)\n",
    "print(\"classification_report:\\n\", classification_report(y_test, y_test_pred))\n",
    "print(f\"Test accuracy: {test_accuracy:.2f}\")"
   ]
  },
  {
   "cell_type": "code",
   "execution_count": 40,
   "metadata": {},
   "outputs": [
    {
     "name": "stdout",
     "output_type": "stream",
     "text": [
      "[[10 18]\n",
      " [12 60]]\n"
     ]
    }
   ],
   "source": [
    "#confusion matrix\n",
    "\n",
    "confusion_matrix = confusion_matrix(y_test, y_test_pred)\n",
    "print(confusion_matrix)"
   ]
  },
  {
   "cell_type": "code",
   "execution_count": 124,
   "metadata": {},
   "outputs": [
    {
     "data": {
      "image/png": "[encoded data removed]",
      "text/plain": [
       "<Figure size 600x400 with 2 Axes>"
      ]
     },
     "metadata": {},
     "output_type": "display_data"
    }
   ],
   "source": [
    "# Plot confusion matrix as a heatmap\n",
    "plt.figure(figsize=(6, 4))\n",
    "sns.heatmap(confusion_matrix, annot=True, fmt='d', cmap='Blues', \n",
    "            xticklabels=['Good', 'Bad'], yticklabels=['Good', 'Bad'])\n",
    "plt.title('Confusion Matrix', fontsize=18, fontweight='bold')\n",
    "plt.xlabel('Predicted Class', fontsize=14, fontweight='bold')\n",
    "plt.ylabel('True Class', fontsize=14, fontweight='bold')\n",
    "plt.show()"
   ]
  },
  {
   "cell_type": "code",
   "execution_count": 42,
   "metadata": {},
   "outputs": [
    {
     "name": "stdout",
     "output_type": "stream",
     "text": [
      "              precision    recall  f1-score   support\n",
      "\n",
      "         bad       0.45      0.36      0.40        28\n",
      "        good       0.77      0.83      0.80        72\n",
      "\n",
      "    accuracy                           0.70       100\n",
      "   macro avg       0.61      0.60      0.60       100\n",
      "weighted avg       0.68      0.70      0.69       100\n",
      "\n"
     ]
    }
   ],
   "source": [
    "#confusion report\n",
    "\n",
    "print(classification_report(y_test, y_test_pred))"
   ]
  },
  {
   "cell_type": "code",
   "execution_count": 130,
   "metadata": {},
   "outputs": [],
   "source": [
    "tn, fp, fn, tp = confusion_matrix(y_test, y_test_pred).ravel()"
   ]
  },
  {
   "cell_type": "code",
   "execution_count": 131,
   "metadata": {},
   "outputs": [
    {
     "name": "stdout",
     "output_type": "stream",
     "text": [
      "True Positives: 58\n",
      "True Negatives: 8\n"
     ]
    }
   ],
   "source": [
    "print(\"True Positives:\",tp)\n",
    "print(\"True Negatives:\", tn)"
   ]
  },
  {
   "cell_type": "markdown",
   "metadata": {},
   "source": [
    "True Negative (Top-Left Quadrant)\n",
    "False Positive (Top-Right Quadrant)\n",
    "False Negative (Bottom-Left Quadrant)\n",
    "True Positive (Bottom-Right Quadrant)\n",
    "\n",
    "True Positive (TP): The model correctly predicted a positive outcome (the actual outcome was positive).\n",
    "True Negative (TN): The model correctly predicted a negative outcome (the actual outcome was negative).\n",
    "False Positive (FP): The model incorrectly predicted a positive outcome (the actual outcome was negative). Also known as a Type I error.\n",
    "False Negative (FN): The model incorrectly predicted a negative outcome (the actual outcome was positive). Also known as a Type II error."
   ]
  },
  {
   "cell_type": "code",
   "execution_count": 43,
   "metadata": {},
   "outputs": [],
   "source": [
    "#optimize KNN model\n",
    "err_rate = []\n",
    "accuracy = []\n",
    "\n",
    "for i in range(1, 100):\n",
    "    knn = KNeighborsClassifier(n_neighbors = i)\n",
    "    knn.fit(X_train, y_train)\n",
    "    pred_i = knn.predict(X_val)\n",
    "\n",
    "    \n",
    "    err_rate.append(np.mean(pred_i != y_val))\n",
    "    accuracy.append(np.mean(pred_i == y_val))"
   ]
  },
  {
   "cell_type": "code",
   "execution_count": null,
   "metadata": {},
   "outputs": [],
   "source": [
    "err_rate"
   ]
  },
  {
   "cell_type": "code",
   "execution_count": 45,
   "metadata": {},
   "outputs": [
    {
     "data": {
      "text/plain": [
       "array([0.39, 0.44, 0.3 , 0.31, 0.26, 0.26, 0.26, 0.25, 0.26, 0.28, 0.26,\n",
       "       0.29, 0.27, 0.27, 0.27, 0.26, 0.23, 0.25, 0.25, 0.26, 0.26, 0.26,\n",
       "       0.25, 0.25, 0.24, 0.24, 0.24, 0.24, 0.24, 0.24, 0.24, 0.24, 0.24,\n",
       "       0.24, 0.24, 0.24, 0.24, 0.24, 0.25, 0.25, 0.26, 0.24, 0.26, 0.25,\n",
       "       0.25, 0.25, 0.24, 0.24, 0.28, 0.27, 0.29, 0.29, 0.28, 0.28, 0.28,\n",
       "       0.28, 0.28, 0.28, 0.3 , 0.29, 0.3 , 0.29, 0.29, 0.29, 0.31, 0.3 ,\n",
       "       0.31, 0.3 , 0.31, 0.31, 0.31, 0.31, 0.31, 0.31, 0.31, 0.31, 0.31,\n",
       "       0.31, 0.31, 0.31, 0.31, 0.31, 0.31, 0.31, 0.31, 0.31, 0.31, 0.31,\n",
       "       0.31, 0.3 , 0.32, 0.31, 0.31, 0.3 , 0.3 , 0.3 , 0.31, 0.3 , 0.31])"
      ]
     },
     "execution_count": 45,
     "metadata": {},
     "output_type": "execute_result"
    }
   ],
   "source": [
    "np.array(err_rate)"
   ]
  },
  {
   "cell_type": "code",
   "execution_count": 44,
   "metadata": {},
   "outputs": [
    {
     "name": "stdout",
     "output_type": "stream",
     "text": [
      "0.23\n"
     ]
    }
   ],
   "source": [
    "min_err = min(err_rate)\n",
    "print(min_err)\n"
   ]
  },
  {
   "cell_type": "code",
   "execution_count": 46,
   "metadata": {},
   "outputs": [
    {
     "data": {
      "text/plain": [
       "99"
      ]
     },
     "execution_count": 46,
     "metadata": {},
     "output_type": "execute_result"
    }
   ],
   "source": [
    "len(err_rate)"
   ]
  },
  {
   "cell_type": "code",
   "execution_count": 47,
   "metadata": {},
   "outputs": [
    {
     "data": {
      "image/png": "[encoded data removed]",
      "text/plain": [
       "<Figure size 1000x400 with 1 Axes>"
      ]
     },
     "metadata": {},
     "output_type": "display_data"
    }
   ],
   "source": [
    "plt.figure(figsize = (10,4))\n",
    "\n",
    "plt.plot(range(1, 100), err_rate, color='red', linestyle='dashed', \n",
    "         markerfacecolor='blue', markersize=10)\n",
    "plt.ylim(0, 1.0)\n",
    "plt.title(\"Error Rate vs: K value\")\n",
    "plt.xlabel(\"Number of Neighbors\")\n",
    "plt.ylabel(\"Error Rate\")\n",
    "\n",
    "plt.show()"
   ]
  },
  {
   "cell_type": "code",
   "execution_count": 52,
   "metadata": {},
   "outputs": [
    {
     "name": "stdout",
     "output_type": "stream",
     "text": [
      "16\n"
     ]
    }
   ],
   "source": [
    "best_knn = err_rate.index(min_err)\n",
    "print(best_knn)"
   ]
  },
  {
   "cell_type": "code",
   "execution_count": 53,
   "metadata": {},
   "outputs": [
    {
     "data": {
      "text/plain": [
       "0.72"
      ]
     },
     "execution_count": 53,
     "metadata": {},
     "output_type": "execute_result"
    }
   ],
   "source": [
    "#best knn model\n",
    "knn = KNeighborsClassifier(n_neighbors =best_knn)\n",
    "best_knn_model=knn.fit(X_train, y_train)\n",
    "best_prediction = best_knn_model.predict(X_test)\n",
    "\n",
    "best_knn_model.score(X_test, y_test)\n",
    "\n",
    "\n"
   ]
  }
 ],
 "metadata": {
  "kernelspec": {
   "display_name": "Python 3",
   "language": "python",
   "name": "python3"
  },
  "language_info": {
   "codemirror_mode": {
    "name": "ipython",
    "version": 3
   },
   "file_extension": ".py",
   "mimetype": "text/x-python",
   "name": "python",
   "nbconvert_exporter": "python",
   "pygments_lexer": "ipython3",
   "version": "3.13.1"
  }
 },
 "nbformat": 4,
 "nbformat_minor": 2
}
