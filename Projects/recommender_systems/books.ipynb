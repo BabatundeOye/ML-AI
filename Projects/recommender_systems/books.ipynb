{
 "cells": [
  {
   "cell_type": "markdown",
   "id": "1ff84c21",
   "metadata": {},
   "source": [
    "## Recommender System"
   ]
  },
  {
   "cell_type": "code",
   "execution_count": 213,
   "id": "61f2055b",
   "metadata": {},
   "outputs": [],
   "source": [
    "import warnings\n",
    "warnings.filterwarnings('ignore')\n",
    "import os \n",
    "import pandas as pd\n",
    "import numpy as np\n",
    "from sklearn.feature_extraction.text import TfidfVectorizer\n",
    "from sklearn.metrics.pairwise import cosine_similarity"
   ]
  },
  {
   "cell_type": "code",
   "execution_count": 214,
   "id": "9b2e1f6b",
   "metadata": {},
   "outputs": [
    {
     "data": {
      "application/vnd.microsoft.datawrangler.viewer.v0+json": {
       "columns": [
        {
         "name": "index",
         "rawType": "int64",
         "type": "integer"
        },
        {
         "name": "bookID",
         "rawType": "int64",
         "type": "integer"
        },
        {
         "name": "title",
         "rawType": "object",
         "type": "string"
        },
        {
         "name": "authors",
         "rawType": "object",
         "type": "string"
        },
        {
         "name": "average_rating",
         "rawType": "float64",
         "type": "float"
        },
        {
         "name": "isbn",
         "rawType": "object",
         "type": "string"
        },
        {
         "name": "isbn13",
         "rawType": "int64",
         "type": "integer"
        },
        {
         "name": "language_code",
         "rawType": "object",
         "type": "string"
        },
        {
         "name": "  num_pages",
         "rawType": "int64",
         "type": "integer"
        },
        {
         "name": "ratings_count",
         "rawType": "int64",
         "type": "integer"
        },
        {
         "name": "text_reviews_count",
         "rawType": "int64",
         "type": "integer"
        },
        {
         "name": "publication_date",
         "rawType": "object",
         "type": "string"
        },
        {
         "name": "publisher",
         "rawType": "object",
         "type": "string"
        }
       ],
       "ref": "ca577e52-0f24-4e9d-a26e-66c0cefe0eb6",
       "rows": [
        [
         "0",
         "1",
         "Harry Potter and the Half-Blood Prince (Harry Potter  #6)",
         "J.K. Rowling/Mary GrandPré",
         "4.57",
         "0439785960",
         "9780439785969",
         "eng",
         "652",
         "2095690",
         "27591",
         "9/16/2006",
         "Scholastic Inc."
        ],
        [
         "1",
         "2",
         "Harry Potter and the Order of the Phoenix (Harry Potter  #5)",
         "J.K. Rowling/Mary GrandPré",
         "4.49",
         "0439358078",
         "9780439358071",
         "eng",
         "870",
         "2153167",
         "29221",
         "9/1/2004",
         "Scholastic Inc."
        ],
        [
         "2",
         "4",
         "Harry Potter and the Chamber of Secrets (Harry Potter  #2)",
         "J.K. Rowling",
         "4.42",
         "0439554896",
         "9780439554893",
         "eng",
         "352",
         "6333",
         "244",
         "11/1/2003",
         "Scholastic"
        ]
       ],
       "shape": {
        "columns": 12,
        "rows": 3
       }
      },
      "text/html": [
       "<div>\n",
       "<style scoped>\n",
       "    .dataframe tbody tr th:only-of-type {\n",
       "        vertical-align: middle;\n",
       "    }\n",
       "\n",
       "    .dataframe tbody tr th {\n",
       "        vertical-align: top;\n",
       "    }\n",
       "\n",
       "    .dataframe thead th {\n",
       "        text-align: right;\n",
       "    }\n",
       "</style>\n",
       "<table border=\"1\" class=\"dataframe\">\n",
       "  <thead>\n",
       "    <tr style=\"text-align: right;\">\n",
       "      <th></th>\n",
       "      <th>bookID</th>\n",
       "      <th>title</th>\n",
       "      <th>authors</th>\n",
       "      <th>average_rating</th>\n",
       "      <th>isbn</th>\n",
       "      <th>isbn13</th>\n",
       "      <th>language_code</th>\n",
       "      <th>num_pages</th>\n",
       "      <th>ratings_count</th>\n",
       "      <th>text_reviews_count</th>\n",
       "      <th>publication_date</th>\n",
       "      <th>publisher</th>\n",
       "    </tr>\n",
       "  </thead>\n",
       "  <tbody>\n",
       "    <tr>\n",
       "      <th>0</th>\n",
       "      <td>1</td>\n",
       "      <td>Harry Potter and the Half-Blood Prince (Harry ...</td>\n",
       "      <td>J.K. Rowling/Mary GrandPré</td>\n",
       "      <td>4.57</td>\n",
       "      <td>0439785960</td>\n",
       "      <td>9780439785969</td>\n",
       "      <td>eng</td>\n",
       "      <td>652</td>\n",
       "      <td>2095690</td>\n",
       "      <td>27591</td>\n",
       "      <td>9/16/2006</td>\n",
       "      <td>Scholastic Inc.</td>\n",
       "    </tr>\n",
       "    <tr>\n",
       "      <th>1</th>\n",
       "      <td>2</td>\n",
       "      <td>Harry Potter and the Order of the Phoenix (Har...</td>\n",
       "      <td>J.K. Rowling/Mary GrandPré</td>\n",
       "      <td>4.49</td>\n",
       "      <td>0439358078</td>\n",
       "      <td>9780439358071</td>\n",
       "      <td>eng</td>\n",
       "      <td>870</td>\n",
       "      <td>2153167</td>\n",
       "      <td>29221</td>\n",
       "      <td>9/1/2004</td>\n",
       "      <td>Scholastic Inc.</td>\n",
       "    </tr>\n",
       "    <tr>\n",
       "      <th>2</th>\n",
       "      <td>4</td>\n",
       "      <td>Harry Potter and the Chamber of Secrets (Harry...</td>\n",
       "      <td>J.K. Rowling</td>\n",
       "      <td>4.42</td>\n",
       "      <td>0439554896</td>\n",
       "      <td>9780439554893</td>\n",
       "      <td>eng</td>\n",
       "      <td>352</td>\n",
       "      <td>6333</td>\n",
       "      <td>244</td>\n",
       "      <td>11/1/2003</td>\n",
       "      <td>Scholastic</td>\n",
       "    </tr>\n",
       "  </tbody>\n",
       "</table>\n",
       "</div>"
      ],
      "text/plain": [
       "   bookID                                              title                     authors  average_rating        isbn         isbn13 language_code    num_pages  ratings_count  text_reviews_count publication_date        publisher\n",
       "0       1  Harry Potter and the Half-Blood Prince (Harry ...  J.K. Rowling/Mary GrandPré            4.57  0439785960  9780439785969           eng          652        2095690               27591        9/16/2006  Scholastic Inc.\n",
       "1       2  Harry Potter and the Order of the Phoenix (Har...  J.K. Rowling/Mary GrandPré            4.49  0439358078  9780439358071           eng          870        2153167               29221         9/1/2004  Scholastic Inc.\n",
       "2       4  Harry Potter and the Chamber of Secrets (Harry...                J.K. Rowling            4.42  0439554896  9780439554893           eng          352           6333                 244        11/1/2003       Scholastic"
      ]
     },
     "execution_count": 214,
     "metadata": {},
     "output_type": "execute_result"
    }
   ],
   "source": [
    "file= 'books.csv'\n",
    "# Load the dataset\n",
    "df = pd.read_csv(file, on_bad_lines='skip')\n",
    "df.head(3)"
   ]
  },
  {
   "cell_type": "code",
   "execution_count": 215,
   "id": "2ef84f3f",
   "metadata": {},
   "outputs": [
    {
     "data": {
      "application/vnd.microsoft.datawrangler.viewer.v0+json": {
       "columns": [
        {
         "name": "index",
         "rawType": "object",
         "type": "string"
        },
        {
         "name": "bookID",
         "rawType": "float64",
         "type": "float"
        },
        {
         "name": "average_rating",
         "rawType": "float64",
         "type": "float"
        },
        {
         "name": "isbn13",
         "rawType": "float64",
         "type": "float"
        },
        {
         "name": "  num_pages",
         "rawType": "float64",
         "type": "float"
        },
        {
         "name": "ratings_count",
         "rawType": "float64",
         "type": "float"
        },
        {
         "name": "text_reviews_count",
         "rawType": "float64",
         "type": "float"
        }
       ],
       "ref": "e768b125-6060-4b7c-b0a7-2b9cb717656a",
       "rows": [
        [
         "count",
         "11123.0",
         "11123.0",
         "11123.0",
         "11123.0",
         "11123.0",
         "11123.0"
        ],
        [
         "mean",
         "21310.856963049537",
         "3.9340753393868564",
         "9759880247639.154",
         "336.4055560550211",
         "17942.848062573048",
         "542.048098534568"
        ],
        [
         "std",
         "13094.727252344415",
         "0.3504853116512785",
         "442975846058.3528",
         "241.15262644400372",
         "112499.15347087417",
         "2576.6195894341045"
        ],
        [
         "min",
         "1.0",
         "0.0",
         "8987059752.0",
         "0.0",
         "0.0",
         "0.0"
        ],
        [
         "25%",
         "10277.5",
         "3.77",
         "9780345453803.5",
         "192.0",
         "104.0",
         "9.0"
        ],
        [
         "50%",
         "20287.0",
         "3.96",
         "9780582461536.0",
         "299.0",
         "745.0",
         "47.0"
        ],
        [
         "75%",
         "32104.5",
         "4.14",
         "9780872208045.5",
         "416.0",
         "5000.5",
         "238.0"
        ],
        [
         "max",
         "45641.0",
         "5.0",
         "9790007672386.0",
         "6576.0",
         "4597666.0",
         "94265.0"
        ]
       ],
       "shape": {
        "columns": 6,
        "rows": 8
       }
      },
      "text/html": [
       "<div>\n",
       "<style scoped>\n",
       "    .dataframe tbody tr th:only-of-type {\n",
       "        vertical-align: middle;\n",
       "    }\n",
       "\n",
       "    .dataframe tbody tr th {\n",
       "        vertical-align: top;\n",
       "    }\n",
       "\n",
       "    .dataframe thead th {\n",
       "        text-align: right;\n",
       "    }\n",
       "</style>\n",
       "<table border=\"1\" class=\"dataframe\">\n",
       "  <thead>\n",
       "    <tr style=\"text-align: right;\">\n",
       "      <th></th>\n",
       "      <th>bookID</th>\n",
       "      <th>average_rating</th>\n",
       "      <th>isbn13</th>\n",
       "      <th>num_pages</th>\n",
       "      <th>ratings_count</th>\n",
       "      <th>text_reviews_count</th>\n",
       "    </tr>\n",
       "  </thead>\n",
       "  <tbody>\n",
       "    <tr>\n",
       "      <th>count</th>\n",
       "      <td>11123.00</td>\n",
       "      <td>11123.00</td>\n",
       "      <td>11123.00</td>\n",
       "      <td>11123.00</td>\n",
       "      <td>11123.00</td>\n",
       "      <td>11123.00</td>\n",
       "    </tr>\n",
       "    <tr>\n",
       "      <th>mean</th>\n",
       "      <td>21310.86</td>\n",
       "      <td>3.93</td>\n",
       "      <td>9759880247639.15</td>\n",
       "      <td>336.41</td>\n",
       "      <td>17942.85</td>\n",
       "      <td>542.05</td>\n",
       "    </tr>\n",
       "    <tr>\n",
       "      <th>std</th>\n",
       "      <td>13094.73</td>\n",
       "      <td>0.35</td>\n",
       "      <td>442975846058.35</td>\n",
       "      <td>241.15</td>\n",
       "      <td>112499.15</td>\n",
       "      <td>2576.62</td>\n",
       "    </tr>\n",
       "    <tr>\n",
       "      <th>min</th>\n",
       "      <td>1.00</td>\n",
       "      <td>0.00</td>\n",
       "      <td>8987059752.00</td>\n",
       "      <td>0.00</td>\n",
       "      <td>0.00</td>\n",
       "      <td>0.00</td>\n",
       "    </tr>\n",
       "    <tr>\n",
       "      <th>25%</th>\n",
       "      <td>10277.50</td>\n",
       "      <td>3.77</td>\n",
       "      <td>9780345453803.50</td>\n",
       "      <td>192.00</td>\n",
       "      <td>104.00</td>\n",
       "      <td>9.00</td>\n",
       "    </tr>\n",
       "    <tr>\n",
       "      <th>50%</th>\n",
       "      <td>20287.00</td>\n",
       "      <td>3.96</td>\n",
       "      <td>9780582461536.00</td>\n",
       "      <td>299.00</td>\n",
       "      <td>745.00</td>\n",
       "      <td>47.00</td>\n",
       "    </tr>\n",
       "    <tr>\n",
       "      <th>75%</th>\n",
       "      <td>32104.50</td>\n",
       "      <td>4.14</td>\n",
       "      <td>9780872208045.50</td>\n",
       "      <td>416.00</td>\n",
       "      <td>5000.50</td>\n",
       "      <td>238.00</td>\n",
       "    </tr>\n",
       "    <tr>\n",
       "      <th>max</th>\n",
       "      <td>45641.00</td>\n",
       "      <td>5.00</td>\n",
       "      <td>9790007672386.00</td>\n",
       "      <td>6576.00</td>\n",
       "      <td>4597666.00</td>\n",
       "      <td>94265.00</td>\n",
       "    </tr>\n",
       "  </tbody>\n",
       "</table>\n",
       "</div>"
      ],
      "text/plain": [
       "        bookID  average_rating           isbn13    num_pages  ratings_count  text_reviews_count\n",
       "count 11123.00        11123.00         11123.00     11123.00       11123.00            11123.00\n",
       "mean  21310.86            3.93 9759880247639.15       336.41       17942.85              542.05\n",
       "std   13094.73            0.35  442975846058.35       241.15      112499.15             2576.62\n",
       "min       1.00            0.00    8987059752.00         0.00           0.00                0.00\n",
       "25%   10277.50            3.77 9780345453803.50       192.00         104.00                9.00\n",
       "50%   20287.00            3.96 9780582461536.00       299.00         745.00               47.00\n",
       "75%   32104.50            4.14 9780872208045.50       416.00        5000.50              238.00\n",
       "max   45641.00            5.00 9790007672386.00      6576.00     4597666.00            94265.00"
      ]
     },
     "execution_count": 215,
     "metadata": {},
     "output_type": "execute_result"
    }
   ],
   "source": [
    "df.describe()"
   ]
  },
  {
   "cell_type": "markdown",
   "id": "a9bb879d",
   "metadata": {},
   "source": [
    "####  Popularity-based Recommender - Create a function named Popularity Recommender and use it to recommend books based on popularity"
   ]
  },
  {
   "cell_type": "code",
   "execution_count": 216,
   "id": "abb23011",
   "metadata": {},
   "outputs": [
    {
     "name": "stdout",
     "output_type": "stream",
     "text": [
      "                                                   title                      authors  average_rating  ratings_count  score\n",
      "6587                      The Complete Calvin and Hobbes               Bill Watterson            4.82          32213   4.82\n",
      "4      Harry Potter Boxed Set  Books 1-5 (Harry Potte...   J.K. Rowling/Mary GrandPré            4.78          41428   4.78\n",
      "6589       It's a Magical World (Calvin and Hobbes  #11)               Bill Watterson            4.76          23875   4.76\n",
      "6           Harry Potter Collection (Harry Potter  #1-6)                 J.K. Rowling            4.73          28242   4.73\n",
      "6590   Homicidal Psycho Jungle Cat (Calvin and Hobbes...               Bill Watterson            4.72          15365   4.72\n",
      "6593   Calvin and Hobbes: Sunday Pages 1985-1995: An ...               Bill Watterson            4.71           3613   4.71\n",
      "1848                                         Early Color  Saul Leiter/Martin Harrison            4.73            144   4.71\n",
      "5614                                    Study Bible: NIV                    Anonymous            4.70           4166   4.70\n",
      "6497      The Complete Aubrey/Maturin Novels (5 Volumes)              Patrick O'Brian            4.70           1338   4.70\n",
      "10937  The Price of the Ticket: Collected Nonfiction ...                James Baldwin            4.70            404   4.69\n"
     ]
    }
   ],
   "source": [
    "def popularity_recommender(df, percentile = 0.9, top_n = 10):\n",
    "    C = df['average_rating'].mean() # mean rating across all books\n",
    "    m = df['average_rating'].quantile(percentile) # minimum number of votes to be considered\n",
    "    qualified = df[df['ratings_count'] >= m].copy() # filter the qualifying books\n",
    " \n",
    "    #compute weighted rating\n",
    "    def weighted_rating(x, m=m, C=C):\n",
    "        v = x['ratings_count']\n",
    "        R = x['average_rating']\n",
    "        return (v/(v+m) * R) + (m/(m+v) * C)\n",
    " \n",
    "    qualified['score'] = qualified.apply(weighted_rating, axis=1) \n",
    "    qualified = qualified.sort_values('score', ascending=False) # sort books\n",
    "    return qualified[['title','authors','average_rating','ratings_count','score']].head(top_n)\n",
    "\n",
    "recommended_top_books = popularity_recommender(df, percentile=0.9, top_n=10)\n",
    "print(recommended_top_books)"
   ]
  },
  {
   "cell_type": "markdown",
   "id": "d2a4929e",
   "metadata": {},
   "source": [
    "####  Content-based Recommender -Create a function named Content-based Recommender and use it to recommend books based on content.\n"
   ]
  },
  {
   "cell_type": "code",
   "execution_count": 217,
   "id": "8f9a94a4",
   "metadata": {},
   "outputs": [],
   "source": [
    "#Instantiate a new Vectorizer object \n",
    "tfidf = TfidfVectorizer(stop_words='english') #stop_words='english' removes common words that do not contribute to the meaning of the text\n",
    "\n",
    "#Replace NaN with an empty string and transform the titles of books in our dataset into the matrix\n",
    "df['authors'] = df['authors'].fillna('')\n",
    "tfidf_matrix = tfidf.fit_transform(df['authors'])"
   ]
  },
  {
   "cell_type": "code",
   "execution_count": 218,
   "id": "4aa0613f",
   "metadata": {},
   "outputs": [
    {
     "data": {
      "text/plain": [
       "(11123, 8448)"
      ]
     },
     "execution_count": 218,
     "metadata": {},
     "output_type": "execute_result"
    }
   ],
   "source": [
    "tfidf_matrix.shape "
   ]
  },
  {
   "cell_type": "code",
   "execution_count": 219,
   "id": "0fba98f4",
   "metadata": {},
   "outputs": [],
   "source": [
    "cosine_sim = cosine_similarity(tfidf_matrix, tfidf_matrix)"
   ]
  },
  {
   "cell_type": "code",
   "execution_count": 220,
   "id": "3b18213f",
   "metadata": {},
   "outputs": [],
   "source": [
    "# Re-create the indices of our list of books by removing any duplicates if required\n",
    "indices = pd.Series(df.index, index=df['title']).drop_duplicates()"
   ]
  },
  {
   "cell_type": "code",
   "execution_count": 221,
   "id": "5bde16b6",
   "metadata": {},
   "outputs": [
    {
     "data": {
      "text/plain": [
       "38650"
      ]
     },
     "execution_count": 221,
     "metadata": {},
     "output_type": "execute_result"
    }
   ],
   "source": [
    "tfidf_matrix.size"
   ]
  },
  {
   "cell_type": "code",
   "execution_count": 222,
   "id": "f1bf2f4f",
   "metadata": {},
   "outputs": [],
   "source": [
    "def ContentBasedRecommender(title, indices, distance_matrix):\n",
    "\n",
    "    if title not in indices:\n",
    "        raise ValueError(f\"Title '{title}' not found in the dataset, please check the title and try again.\")\n",
    "    \n",
    "    \n",
    "    id_ = indices[title] #Fetch the index of the movie we will enter\n",
    "    \n",
    "    distances = list(enumerate(distance_matrix[id_])) \n",
    "    \n",
    "    #sort by the distance function, which is in column[1]\n",
    "    distances = sorted(distances, key=lambda x: x[1], reverse = True) \n",
    "    \n",
    "    distances = distances[1:6] # Get the 5 best scores , not including itself\n",
    "    print(distances)\n",
    "    \n",
    "    # get the indices of the top 5\n",
    "    recommendations = [distance[0] for distance in distances] \n",
    "    \n",
    "    # return those recommendation names by pulling title from the given 5 indices\n",
    "    return df['title'].iloc[recommendations] "
   ]
  },
  {
   "cell_type": "code",
   "execution_count": 223,
   "id": "6bc6926e",
   "metadata": {},
   "outputs": [
    {
     "name": "stdout",
     "output_type": "stream",
     "text": [
      "[(924, np.float64(0.6365698852036981)), (925, np.float64(0.6365698852036981)), (5352, np.float64(0.6365698852036981)), (5353, np.float64(0.6365698852036981)), (926, np.float64(0.6202036099361221))]\n"
     ]
    },
    {
     "data": {
      "application/vnd.microsoft.datawrangler.viewer.v0+json": {
       "columns": [
        {
         "name": "index",
         "rawType": "int64",
         "type": "integer"
        },
        {
         "name": "title",
         "rawType": "object",
         "type": "string"
        }
       ],
       "ref": "941e2b48-df26-45c9-ba68-6d93071aa0f3",
       "rows": [
        [
         "924",
         "Alcoholics Anonymous"
        ],
        [
         "925",
         "Alcoholics Anonymous"
        ],
        [
         "5352",
         "The Epic of Gilgamesh"
        ],
        [
         "5353",
         "The Epic of Gilgamesh"
        ],
        [
         "926",
         "The Twelve Steps & Twelve Traditions of Overeaters Anonymous"
        ]
       ],
       "shape": {
        "columns": 1,
        "rows": 5
       }
      },
      "text/plain": [
       "924                                  Alcoholics Anonymous\n",
       "925                                  Alcoholics Anonymous\n",
       "5352                                The Epic of Gilgamesh\n",
       "5353                                The Epic of Gilgamesh\n",
       "926     The Twelve Steps & Twelve Traditions of Overea...\n",
       "Name: title, dtype: object"
      ]
     },
     "execution_count": 223,
     "metadata": {},
     "output_type": "execute_result"
    }
   ],
   "source": [
    "ContentBasedRecommender('Study Bible: NIV', indices, cosine_sim)"
   ]
  },
  {
   "cell_type": "code",
   "execution_count": 224,
   "id": "bd658a5f",
   "metadata": {},
   "outputs": [
    {
     "name": "stdout",
     "output_type": "stream",
     "text": [
      "[(46, np.float64(1.0000000000000002)), (47, np.float64(1.0000000000000002)), (48, np.float64(1.0000000000000002)), (49, np.float64(1.0000000000000002)), (50, np.float64(1.0000000000000002))]\n"
     ]
    },
    {
     "data": {
      "application/vnd.microsoft.datawrangler.viewer.v0+json": {
       "columns": [
        {
         "name": "index",
         "rawType": "int64",
         "type": "integer"
        },
        {
         "name": "title",
         "rawType": "object",
         "type": "string"
        }
       ],
       "ref": "3963733d-6ae4-4232-8140-60e37e32b467",
       "rows": [
        [
         "46",
         "Heirs of General Practice"
        ],
        [
         "47",
         "The Control of Nature"
        ],
        [
         "48",
         "Annals of the Former World"
        ],
        [
         "49",
         "Coming Into the Country"
        ],
        [
         "50",
         "La Place de la Concorde Suisse"
        ]
       ],
       "shape": {
        "columns": 1,
        "rows": 5
       }
      },
      "text/plain": [
       "46         Heirs of General Practice\n",
       "47             The Control of Nature\n",
       "48        Annals of the Former World\n",
       "49           Coming Into the Country\n",
       "50    La Place de la Concorde Suisse\n",
       "Name: title, dtype: object"
      ]
     },
     "execution_count": 224,
     "metadata": {},
     "output_type": "execute_result"
    }
   ],
   "source": [
    "ContentBasedRecommender('Rising from the Plains', indices, cosine_sim)"
   ]
  }
 ],
 "metadata": {
  "kernelspec": {
   "display_name": "Python 3",
   "language": "python",
   "name": "python3"
  },
  "language_info": {
   "codemirror_mode": {
    "name": "ipython",
    "version": 3
   },
   "file_extension": ".py",
   "mimetype": "text/x-python",
   "name": "python",
   "nbconvert_exporter": "python",
   "pygments_lexer": "ipython3",
   "version": "3.10.0"
  }
 },
 "nbformat": 4,
 "nbformat_minor": 5
}
