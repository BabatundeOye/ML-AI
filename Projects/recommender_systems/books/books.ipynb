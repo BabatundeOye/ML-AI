{
 "cells": [
  {
   "cell_type": "code",
   "execution_count": null,
   "id": "736841bb",
   "metadata": {},
   "outputs": [],
   "source": [
    "#recommend books based on poularity and content-based"
   ]
  },
  {
   "cell_type": "code",
   "execution_count": 8,
   "id": "61f2055b",
   "metadata": {},
   "outputs": [],
   "source": [
    "import warnings\n",
    "warnings.filterwarnings('ignore')\n",
    "import os \n",
    "import pandas as pd\n",
    "import numpy as np"
   ]
  },
  {
   "cell_type": "code",
   "execution_count": 9,
   "id": "9b2e1f6b",
   "metadata": {},
   "outputs": [],
   "source": [
    "file= 'books.csv'\n",
    "# Load the dataset\n",
    "df = pd.read_csv(file, on_bad_lines='skip')"
   ]
  },
  {
   "cell_type": "code",
   "execution_count": 10,
   "id": "2ef84f3f",
   "metadata": {},
   "outputs": [
    {
     "data": {
      "application/vnd.microsoft.datawrangler.viewer.v0+json": {
       "columns": [
        {
         "name": "index",
         "rawType": "object",
         "type": "string"
        },
        {
         "name": "bookID",
         "rawType": "float64",
         "type": "float"
        },
        {
         "name": "average_rating",
         "rawType": "float64",
         "type": "float"
        },
        {
         "name": "isbn13",
         "rawType": "float64",
         "type": "float"
        },
        {
         "name": "  num_pages",
         "rawType": "float64",
         "type": "float"
        },
        {
         "name": "ratings_count",
         "rawType": "float64",
         "type": "float"
        },
        {
         "name": "text_reviews_count",
         "rawType": "float64",
         "type": "float"
        }
       ],
       "conversionMethod": "pd.DataFrame",
       "ref": "d74cae92-6c41-4265-abef-9d9c9248ac9f",
       "rows": [
        [
         "count",
         "11123.0",
         "11123.0",
         "11123.0",
         "11123.0",
         "11123.0",
         "11123.0"
        ],
        [
         "mean",
         "21310.856963049537",
         "3.9340753393868564",
         "9759880247639.154",
         "336.4055560550211",
         "17942.848062573048",
         "542.048098534568"
        ],
        [
         "std",
         "13094.727252344415",
         "0.3504853116512785",
         "442975846058.3528",
         "241.15262644400372",
         "112499.15347087417",
         "2576.6195894341045"
        ],
        [
         "min",
         "1.0",
         "0.0",
         "8987059752.0",
         "0.0",
         "0.0",
         "0.0"
        ],
        [
         "25%",
         "10277.5",
         "3.77",
         "9780345453803.5",
         "192.0",
         "104.0",
         "9.0"
        ],
        [
         "50%",
         "20287.0",
         "3.96",
         "9780582461536.0",
         "299.0",
         "745.0",
         "47.0"
        ],
        [
         "75%",
         "32104.5",
         "4.14",
         "9780872208045.5",
         "416.0",
         "5000.5",
         "238.0"
        ],
        [
         "max",
         "45641.0",
         "5.0",
         "9790007672386.0",
         "6576.0",
         "4597666.0",
         "94265.0"
        ]
       ],
       "shape": {
        "columns": 6,
        "rows": 8
       }
      },
      "text/html": [
       "<div>\n",
       "<style scoped>\n",
       "    .dataframe tbody tr th:only-of-type {\n",
       "        vertical-align: middle;\n",
       "    }\n",
       "\n",
       "    .dataframe tbody tr th {\n",
       "        vertical-align: top;\n",
       "    }\n",
       "\n",
       "    .dataframe thead th {\n",
       "        text-align: right;\n",
       "    }\n",
       "</style>\n",
       "<table border=\"1\" class=\"dataframe\">\n",
       "  <thead>\n",
       "    <tr style=\"text-align: right;\">\n",
       "      <th></th>\n",
       "      <th>bookID</th>\n",
       "      <th>average_rating</th>\n",
       "      <th>isbn13</th>\n",
       "      <th>num_pages</th>\n",
       "      <th>ratings_count</th>\n",
       "      <th>text_reviews_count</th>\n",
       "    </tr>\n",
       "  </thead>\n",
       "  <tbody>\n",
       "    <tr>\n",
       "      <th>count</th>\n",
       "      <td>11123.000000</td>\n",
       "      <td>11123.000000</td>\n",
       "      <td>1.112300e+04</td>\n",
       "      <td>11123.000000</td>\n",
       "      <td>1.112300e+04</td>\n",
       "      <td>11123.000000</td>\n",
       "    </tr>\n",
       "    <tr>\n",
       "      <th>mean</th>\n",
       "      <td>21310.856963</td>\n",
       "      <td>3.934075</td>\n",
       "      <td>9.759880e+12</td>\n",
       "      <td>336.405556</td>\n",
       "      <td>1.794285e+04</td>\n",
       "      <td>542.048099</td>\n",
       "    </tr>\n",
       "    <tr>\n",
       "      <th>std</th>\n",
       "      <td>13094.727252</td>\n",
       "      <td>0.350485</td>\n",
       "      <td>4.429758e+11</td>\n",
       "      <td>241.152626</td>\n",
       "      <td>1.124992e+05</td>\n",
       "      <td>2576.619589</td>\n",
       "    </tr>\n",
       "    <tr>\n",
       "      <th>min</th>\n",
       "      <td>1.000000</td>\n",
       "      <td>0.000000</td>\n",
       "      <td>8.987060e+09</td>\n",
       "      <td>0.000000</td>\n",
       "      <td>0.000000e+00</td>\n",
       "      <td>0.000000</td>\n",
       "    </tr>\n",
       "    <tr>\n",
       "      <th>25%</th>\n",
       "      <td>10277.500000</td>\n",
       "      <td>3.770000</td>\n",
       "      <td>9.780345e+12</td>\n",
       "      <td>192.000000</td>\n",
       "      <td>1.040000e+02</td>\n",
       "      <td>9.000000</td>\n",
       "    </tr>\n",
       "    <tr>\n",
       "      <th>50%</th>\n",
       "      <td>20287.000000</td>\n",
       "      <td>3.960000</td>\n",
       "      <td>9.780582e+12</td>\n",
       "      <td>299.000000</td>\n",
       "      <td>7.450000e+02</td>\n",
       "      <td>47.000000</td>\n",
       "    </tr>\n",
       "    <tr>\n",
       "      <th>75%</th>\n",
       "      <td>32104.500000</td>\n",
       "      <td>4.140000</td>\n",
       "      <td>9.780872e+12</td>\n",
       "      <td>416.000000</td>\n",
       "      <td>5.000500e+03</td>\n",
       "      <td>238.000000</td>\n",
       "    </tr>\n",
       "    <tr>\n",
       "      <th>max</th>\n",
       "      <td>45641.000000</td>\n",
       "      <td>5.000000</td>\n",
       "      <td>9.790008e+12</td>\n",
       "      <td>6576.000000</td>\n",
       "      <td>4.597666e+06</td>\n",
       "      <td>94265.000000</td>\n",
       "    </tr>\n",
       "  </tbody>\n",
       "</table>\n",
       "</div>"
      ],
      "text/plain": [
       "             bookID  average_rating        isbn13     num_pages  \\\n",
       "count  11123.000000    11123.000000  1.112300e+04  11123.000000   \n",
       "mean   21310.856963        3.934075  9.759880e+12    336.405556   \n",
       "std    13094.727252        0.350485  4.429758e+11    241.152626   \n",
       "min        1.000000        0.000000  8.987060e+09      0.000000   \n",
       "25%    10277.500000        3.770000  9.780345e+12    192.000000   \n",
       "50%    20287.000000        3.960000  9.780582e+12    299.000000   \n",
       "75%    32104.500000        4.140000  9.780872e+12    416.000000   \n",
       "max    45641.000000        5.000000  9.790008e+12   6576.000000   \n",
       "\n",
       "       ratings_count  text_reviews_count  \n",
       "count   1.112300e+04        11123.000000  \n",
       "mean    1.794285e+04          542.048099  \n",
       "std     1.124992e+05         2576.619589  \n",
       "min     0.000000e+00            0.000000  \n",
       "25%     1.040000e+02            9.000000  \n",
       "50%     7.450000e+02           47.000000  \n",
       "75%     5.000500e+03          238.000000  \n",
       "max     4.597666e+06        94265.000000  "
      ]
     },
     "execution_count": 10,
     "metadata": {},
     "output_type": "execute_result"
    }
   ],
   "source": [
    "df.describe()"
   ]
  },
  {
   "cell_type": "code",
   "execution_count": null,
   "id": "bb45d25b",
   "metadata": {},
   "outputs": [],
   "source": [
    "def popularity_recommender(df, min_percentile=0.9, top_n=10):\n",
    "    \"\"\"\n",
    "    Returns top N books recommended based on popularity using a weighted IMDb-style rating.\n",
    "\n",
    "    Parameters:\n",
    "    - df: DataFrame containing 'title', 'average_rating', and 'ratings_count'\n",
    "    - min_percentile: minimum ratings threshold percentile to consider\n",
    "    - top_n: number of books to recommend\n",
    "    \"\"\"\n",
    "\n",
    "    # Filter only books with sufficient number of votes\n",
    "    C = df['average_rating'].mean()\n",
    "    m = df['ratings_count'].quantile(min_percentile)\n",
    "\n",
    "    qualified = df[df['ratings_count'] >= m].copy()\n",
    "\n",
    "    # Calculate the weighted rating\n",
    "    def weighted_rating(x, m=m, C=C):\n",
    "        v = x['ratings_count']\n",
    "        R = x['average_rating']\n",
    "        return (v / (v + m)) * R + (m / (v + m)) * C\n",
    "\n",
    "    qualified['score'] = qualified.apply(weighted_rating, axis=1)\n",
    "\n",
    "    # Sort and return top N\n",
    "    return qualified.sort_values('score', ascending=False)[['title', 'average_rating', 'ratings_count', 'score']].head(top_n)\n"
   ]
  },
  {
   "cell_type": "code",
   "execution_count": 11,
   "id": "abb23011",
   "metadata": {},
   "outputs": [
    {
     "name": "stdout",
     "output_type": "stream",
     "text": [
      "                                                   title  \\\n",
      "6587                      The Complete Calvin and Hobbes   \n",
      "4      Harry Potter Boxed Set  Books 1-5 (Harry Potte...   \n",
      "6589       It's a Magical World (Calvin and Hobbes  #11)   \n",
      "6           Harry Potter Collection (Harry Potter  #1-6)   \n",
      "6590   Homicidal Psycho Jungle Cat (Calvin and Hobbes...   \n",
      "6593   Calvin and Hobbes: Sunday Pages 1985-1995: An ...   \n",
      "1848                                         Early Color   \n",
      "5614                                    Study Bible: NIV   \n",
      "6497      The Complete Aubrey/Maturin Novels (5 Volumes)   \n",
      "10937  The Price of the Ticket: Collected Nonfiction ...   \n",
      "\n",
      "                           authors  average_rating  ratings_count     score  \n",
      "6587                Bill Watterson            4.82          32213  4.819882  \n",
      "4       J.K. Rowling/Mary GrandPré            4.78          41428  4.779912  \n",
      "6589                Bill Watterson            4.76          23875  4.759852  \n",
      "6                     J.K. Rowling            4.73          28242  4.729879  \n",
      "6590                Bill Watterson            4.72          15365  4.719781  \n",
      "6593                Bill Watterson            4.71           3613  4.709080  \n",
      "1848   Saul Leiter/Martin Harrison            4.73            144  4.706974  \n",
      "5614                     Anonymous            4.70           4166  4.699212  \n",
      "6497               Patrick O'Brian            4.70           1338  4.697552  \n",
      "10937                James Baldwin            4.70            404  4.691952  \n"
     ]
    }
   ],
   "source": [
    "def popularity_recommender(df, percentile = 0.9, top_n = 10):\n",
    "    C = df['average_rating'].mean()\n",
    "    m = df['average_rating'].quantile(percentile)\n",
    " \n",
    "    #filter the qualifying books\n",
    "    qualified = df[df['ratings_count'] >= m].copy()\n",
    " \n",
    "    #compute weighted rating\n",
    "    def weighted_rating(x, m=m, C=C):\n",
    "        v = x['ratings_count']\n",
    "        R = x['average_rating']\n",
    "        return (v/(v+m) * R) + (m/(m+v) * C)\n",
    " \n",
    "    qualified['score'] = qualified.apply(weighted_rating, axis=1)\n",
    "    qualified = qualified.sort_values('score', ascending=False)\n",
    " \n",
    "    return qualified[['title','authors','average_rating','ratings_count','score']].head(top_n)\n",
    " \n",
    "top_books = popularity_recommender(df, percentile = 0.9, top_n = 10)\n",
    "print(top_books)"
   ]
  }
 ],
 "metadata": {
  "kernelspec": {
   "display_name": "Python 3",
   "language": "python",
   "name": "python3"
  },
  "language_info": {
   "codemirror_mode": {
    "name": "ipython",
    "version": 3
   },
   "file_extension": ".py",
   "mimetype": "text/x-python",
   "name": "python",
   "nbconvert_exporter": "python",
   "pygments_lexer": "ipython3",
   "version": "3.13.1"
  }
 },
 "nbformat": 4,
 "nbformat_minor": 5
}
