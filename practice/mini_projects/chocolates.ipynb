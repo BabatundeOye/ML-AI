{
 "cells": [
  {
   "cell_type": "code",
   "execution_count": 25,
   "metadata": {},
   "outputs": [],
   "source": [
    "import pandas as pd\n",
    "import matplotlib.pyplot as plt\n",
    "import seaborn as sns"
   ]
  },
  {
   "cell_type": "code",
   "execution_count": null,
   "metadata": {},
   "outputs": [],
   "source": [
    "file = \"\"\n",
    "\n",
    "#download = https://www.kaggle.com/datasets/rtatman/chocolate-bar-ratings\n",
    "df = pd.read_csv(file)\n"
   ]
  },
  {
   "cell_type": "code",
   "execution_count": 27,
   "metadata": {},
   "outputs": [
    {
     "data": {
      "application/vnd.microsoft.datawrangler.viewer.v0+json": {
       "columns": [
        {
         "name": "index",
         "rawType": "int64",
         "type": "integer"
        },
        {
         "name": "Company \n(Maker-if known)",
         "rawType": "object",
         "type": "string"
        },
        {
         "name": "Specific Bean Origin\nor Bar Name",
         "rawType": "object",
         "type": "string"
        },
        {
         "name": "REF",
         "rawType": "int64",
         "type": "integer"
        },
        {
         "name": "Review\nDate",
         "rawType": "int64",
         "type": "integer"
        },
        {
         "name": "Cocoa\nPercent",
         "rawType": "object",
         "type": "string"
        },
        {
         "name": "Company\nLocation",
         "rawType": "object",
         "type": "string"
        },
        {
         "name": "Rating",
         "rawType": "float64",
         "type": "float"
        },
        {
         "name": "Bean\nType",
         "rawType": "object",
         "type": "unknown"
        },
        {
         "name": "Broad Bean\nOrigin",
         "rawType": "object",
         "type": "unknown"
        }
       ],
       "conversionMethod": "pd.DataFrame",
       "ref": "17eed266-37c2-4566-bd1b-69662ffaf203",
       "rows": [
        [
         "0",
         "A. Morin",
         "Agua Grande",
         "1876",
         "2016",
         "63%",
         "France",
         "3.75",
         " ",
         "Sao Tome"
        ],
        [
         "1",
         "A. Morin",
         "Kpime",
         "1676",
         "2015",
         "70%",
         "France",
         "2.75",
         " ",
         "Togo"
        ],
        [
         "2",
         "A. Morin",
         "Atsane",
         "1676",
         "2015",
         "70%",
         "France",
         "3.0",
         " ",
         "Togo"
        ],
        [
         "3",
         "A. Morin",
         "Akata",
         "1680",
         "2015",
         "70%",
         "France",
         "3.5",
         " ",
         "Togo"
        ],
        [
         "4",
         "A. Morin",
         "Quilla",
         "1704",
         "2015",
         "70%",
         "France",
         "3.5",
         " ",
         "Peru"
        ],
        [
         "5",
         "A. Morin",
         "Carenero",
         "1315",
         "2014",
         "70%",
         "France",
         "2.75",
         "Criollo",
         "Venezuela"
        ],
        [
         "6",
         "A. Morin",
         "Cuba",
         "1315",
         "2014",
         "70%",
         "France",
         "3.5",
         " ",
         "Cuba"
        ],
        [
         "7",
         "A. Morin",
         "Sur del Lago",
         "1315",
         "2014",
         "70%",
         "France",
         "3.5",
         "Criollo",
         "Venezuela"
        ],
        [
         "8",
         "A. Morin",
         "Puerto Cabello",
         "1319",
         "2014",
         "70%",
         "France",
         "3.75",
         "Criollo",
         "Venezuela"
        ],
        [
         "9",
         "A. Morin",
         "Pablino",
         "1319",
         "2014",
         "70%",
         "France",
         "4.0",
         " ",
         "Peru"
        ],
        [
         "10",
         "A. Morin",
         "Panama",
         "1011",
         "2013",
         "70%",
         "France",
         "2.75",
         " ",
         "Panama"
        ],
        [
         "11",
         "A. Morin",
         "Madagascar",
         "1011",
         "2013",
         "70%",
         "France",
         "3.0",
         "Criollo",
         "Madagascar"
        ],
        [
         "12",
         "A. Morin",
         "Brazil",
         "1011",
         "2013",
         "70%",
         "France",
         "3.25",
         " ",
         "Brazil"
        ],
        [
         "13",
         "A. Morin",
         "Equateur",
         "1011",
         "2013",
         "70%",
         "France",
         "3.75",
         " ",
         "Ecuador"
        ],
        [
         "14",
         "A. Morin",
         "Colombie",
         "1015",
         "2013",
         "70%",
         "France",
         "2.75",
         " ",
         "Colombia"
        ],
        [
         "15",
         "A. Morin",
         "Birmanie",
         "1015",
         "2013",
         "70%",
         "France",
         "3.0",
         " ",
         "Burma"
        ],
        [
         "16",
         "A. Morin",
         "Papua New Guinea",
         "1015",
         "2013",
         "70%",
         "France",
         "3.25",
         " ",
         "Papua New Guinea"
        ],
        [
         "17",
         "A. Morin",
         "Chuao",
         "1015",
         "2013",
         "70%",
         "France",
         "4.0",
         "Trinitario",
         "Venezuela"
        ],
        [
         "18",
         "A. Morin",
         "Piura",
         "1019",
         "2013",
         "70%",
         "France",
         "3.25",
         " ",
         "Peru"
        ],
        [
         "19",
         "A. Morin",
         "Chanchamayo Province",
         "1019",
         "2013",
         "70%",
         "France",
         "3.5",
         " ",
         "Peru"
        ],
        [
         "20",
         "A. Morin",
         "Chanchamayo Province",
         "1019",
         "2013",
         "63%",
         "France",
         "4.0",
         " ",
         "Peru"
        ],
        [
         "21",
         "A. Morin",
         "Bolivia",
         "797",
         "2012",
         "70%",
         "France",
         "3.5",
         " ",
         "Bolivia"
        ],
        [
         "22",
         "A. Morin",
         "Peru",
         "797",
         "2012",
         "63%",
         "France",
         "3.75",
         " ",
         "Peru"
        ],
        [
         "23",
         "Acalli",
         "Chulucanas, El Platanal",
         "1462",
         "2015",
         "70%",
         "U.S.A.",
         "3.75",
         " ",
         "Peru"
        ],
        [
         "24",
         "Acalli",
         "Tumbes, Norandino",
         "1470",
         "2015",
         "70%",
         "U.S.A.",
         "3.75",
         "Criollo",
         "Peru"
        ],
        [
         "25",
         "Adi",
         "Vanua Levu",
         "705",
         "2011",
         "60%",
         "Fiji",
         "2.75",
         "Trinitario",
         "Fiji"
        ],
        [
         "26",
         "Adi",
         "Vanua Levu, Toto-A",
         "705",
         "2011",
         "80%",
         "Fiji",
         "3.25",
         "Trinitario",
         "Fiji"
        ],
        [
         "27",
         "Adi",
         "Vanua Levu",
         "705",
         "2011",
         "88%",
         "Fiji",
         "3.5",
         "Trinitario",
         "Fiji"
        ],
        [
         "28",
         "Adi",
         "Vanua Levu, Ami-Ami-CA",
         "705",
         "2011",
         "72%",
         "Fiji",
         "3.5",
         "Trinitario",
         "Fiji"
        ],
        [
         "29",
         "Aequare (Gianduja)",
         "Los Rios, Quevedo, Arriba",
         "370",
         "2009",
         "55%",
         "Ecuador",
         "2.75",
         "Forastero (Arriba)",
         "Ecuador"
        ],
        [
         "30",
         "Aequare (Gianduja)",
         "Los Rios, Quevedo, Arriba",
         "370",
         "2009",
         "70%",
         "Ecuador",
         "3.0",
         "Forastero (Arriba)",
         "Ecuador"
        ],
        [
         "31",
         "Ah Cacao",
         "Tabasco",
         "316",
         "2009",
         "70%",
         "Mexico",
         "3.0",
         "Criollo",
         "Mexico"
        ],
        [
         "32",
         "Akesson's (Pralus)",
         "Bali (west), Sukrama Family, Melaya area",
         "636",
         "2011",
         "75%",
         "Switzerland",
         "3.75",
         "Trinitario",
         "Indonesia"
        ],
        [
         "33",
         "Akesson's (Pralus)",
         "Madagascar, Ambolikapiky P.",
         "502",
         "2010",
         "75%",
         "Switzerland",
         "2.75",
         "Criollo",
         "Madagascar"
        ],
        [
         "34",
         "Akesson's (Pralus)",
         "Monte Alegre, D. Badero",
         "508",
         "2010",
         "75%",
         "Switzerland",
         "2.75",
         "Forastero",
         "Brazil"
        ],
        [
         "35",
         "Alain Ducasse",
         "Trinite",
         "1215",
         "2014",
         "65%",
         "France",
         "2.75",
         "Trinitario",
         "Trinidad"
        ],
        [
         "36",
         "Alain Ducasse",
         "Vietnam",
         "1215",
         "2014",
         "75%",
         "France",
         "2.75",
         "Trinitario",
         "Vietnam"
        ],
        [
         "37",
         "Alain Ducasse",
         "Madagascar",
         "1215",
         "2014",
         "75%",
         "France",
         "3.0",
         "Trinitario",
         "Madagascar"
        ],
        [
         "38",
         "Alain Ducasse",
         "Chuao",
         "1061",
         "2013",
         "75%",
         "France",
         "2.5",
         "Trinitario",
         "Venezuela"
        ],
        [
         "39",
         "Alain Ducasse",
         "Piura, Perou",
         "1173",
         "2013",
         "75%",
         "France",
         "2.5",
         " ",
         "Peru"
        ],
        [
         "40",
         "Alexandre",
         "Winak Coop, Napo",
         "1944",
         "2017",
         "70%",
         "Netherlands",
         "3.5",
         "Forastero (Nacional)",
         "Ecuador"
        ],
        [
         "41",
         "Alexandre",
         "La Dalia, Matagalpa",
         "1944",
         "2017",
         "70%",
         "Netherlands",
         "3.5",
         "Criollo, Trinitario",
         "Nicaragua"
        ],
        [
         "42",
         "Alexandre",
         "Tien Giang",
         "1944",
         "2017",
         "70%",
         "Netherlands",
         "3.5",
         "Trinitario",
         "Vietnam"
        ],
        [
         "43",
         "Alexandre",
         "Makwale Village, Kyela",
         "1944",
         "2017",
         "70%",
         "Netherlands",
         "3.5",
         "Forastero",
         "Tanzania"
        ],
        [
         "44",
         "Altus aka Cao Artisan",
         "Momotombo",
         "1728",
         "2016",
         "60%",
         "U.S.A.",
         "2.75",
         " ",
         "Nicaragua"
        ],
        [
         "45",
         "Altus aka Cao Artisan",
         "Acopagro",
         "1728",
         "2016",
         "60%",
         "U.S.A.",
         "3.0",
         " ",
         "Peru"
        ],
        [
         "46",
         "Altus aka Cao Artisan",
         "CIAAB Coop",
         "1732",
         "2016",
         "60%",
         "U.S.A.",
         "2.5",
         " ",
         "Bolivia"
        ],
        [
         "47",
         "Altus aka Cao Artisan",
         "Villa Andina",
         "1732",
         "2016",
         "60%",
         "U.S.A.",
         "2.5",
         " ",
         "Peru"
        ],
        [
         "48",
         "Altus aka Cao Artisan",
         "Gruppo Salinas",
         "1732",
         "2016",
         "60%",
         "U.S.A.",
         "2.75",
         " ",
         "Ecuador"
        ],
        [
         "49",
         "Altus aka Cao Artisan",
         "Sur del Lago",
         "1125",
         "2013",
         "60%",
         "U.S.A.",
         "2.5",
         " ",
         "Venezuela"
        ]
       ],
       "shape": {
        "columns": 9,
        "rows": 1795
       }
      },
      "text/html": [
       "<div>\n",
       "<style scoped>\n",
       "    .dataframe tbody tr th:only-of-type {\n",
       "        vertical-align: middle;\n",
       "    }\n",
       "\n",
       "    .dataframe tbody tr th {\n",
       "        vertical-align: top;\n",
       "    }\n",
       "\n",
       "    .dataframe thead th {\n",
       "        text-align: right;\n",
       "    }\n",
       "</style>\n",
       "<table border=\"1\" class=\"dataframe\">\n",
       "  <thead>\n",
       "    <tr style=\"text-align: right;\">\n",
       "      <th></th>\n",
       "      <th>Company \\n(Maker-if known)</th>\n",
       "      <th>Specific Bean Origin\\nor Bar Name</th>\n",
       "      <th>REF</th>\n",
       "      <th>Review\\nDate</th>\n",
       "      <th>Cocoa\\nPercent</th>\n",
       "      <th>Company\\nLocation</th>\n",
       "      <th>Rating</th>\n",
       "      <th>Bean\\nType</th>\n",
       "      <th>Broad Bean\\nOrigin</th>\n",
       "    </tr>\n",
       "  </thead>\n",
       "  <tbody>\n",
       "    <tr>\n",
       "      <th>0</th>\n",
       "      <td>A. Morin</td>\n",
       "      <td>Agua Grande</td>\n",
       "      <td>1876</td>\n",
       "      <td>2016</td>\n",
       "      <td>63%</td>\n",
       "      <td>France</td>\n",
       "      <td>3.75</td>\n",
       "      <td></td>\n",
       "      <td>Sao Tome</td>\n",
       "    </tr>\n",
       "    <tr>\n",
       "      <th>1</th>\n",
       "      <td>A. Morin</td>\n",
       "      <td>Kpime</td>\n",
       "      <td>1676</td>\n",
       "      <td>2015</td>\n",
       "      <td>70%</td>\n",
       "      <td>France</td>\n",
       "      <td>2.75</td>\n",
       "      <td></td>\n",
       "      <td>Togo</td>\n",
       "    </tr>\n",
       "    <tr>\n",
       "      <th>2</th>\n",
       "      <td>A. Morin</td>\n",
       "      <td>Atsane</td>\n",
       "      <td>1676</td>\n",
       "      <td>2015</td>\n",
       "      <td>70%</td>\n",
       "      <td>France</td>\n",
       "      <td>3.00</td>\n",
       "      <td></td>\n",
       "      <td>Togo</td>\n",
       "    </tr>\n",
       "    <tr>\n",
       "      <th>3</th>\n",
       "      <td>A. Morin</td>\n",
       "      <td>Akata</td>\n",
       "      <td>1680</td>\n",
       "      <td>2015</td>\n",
       "      <td>70%</td>\n",
       "      <td>France</td>\n",
       "      <td>3.50</td>\n",
       "      <td></td>\n",
       "      <td>Togo</td>\n",
       "    </tr>\n",
       "    <tr>\n",
       "      <th>4</th>\n",
       "      <td>A. Morin</td>\n",
       "      <td>Quilla</td>\n",
       "      <td>1704</td>\n",
       "      <td>2015</td>\n",
       "      <td>70%</td>\n",
       "      <td>France</td>\n",
       "      <td>3.50</td>\n",
       "      <td></td>\n",
       "      <td>Peru</td>\n",
       "    </tr>\n",
       "    <tr>\n",
       "      <th>...</th>\n",
       "      <td>...</td>\n",
       "      <td>...</td>\n",
       "      <td>...</td>\n",
       "      <td>...</td>\n",
       "      <td>...</td>\n",
       "      <td>...</td>\n",
       "      <td>...</td>\n",
       "      <td>...</td>\n",
       "      <td>...</td>\n",
       "    </tr>\n",
       "    <tr>\n",
       "      <th>1790</th>\n",
       "      <td>Zotter</td>\n",
       "      <td>Peru</td>\n",
       "      <td>647</td>\n",
       "      <td>2011</td>\n",
       "      <td>70%</td>\n",
       "      <td>Austria</td>\n",
       "      <td>3.75</td>\n",
       "      <td></td>\n",
       "      <td>Peru</td>\n",
       "    </tr>\n",
       "    <tr>\n",
       "      <th>1791</th>\n",
       "      <td>Zotter</td>\n",
       "      <td>Congo</td>\n",
       "      <td>749</td>\n",
       "      <td>2011</td>\n",
       "      <td>65%</td>\n",
       "      <td>Austria</td>\n",
       "      <td>3.00</td>\n",
       "      <td>Forastero</td>\n",
       "      <td>Congo</td>\n",
       "    </tr>\n",
       "    <tr>\n",
       "      <th>1792</th>\n",
       "      <td>Zotter</td>\n",
       "      <td>Kerala State</td>\n",
       "      <td>749</td>\n",
       "      <td>2011</td>\n",
       "      <td>65%</td>\n",
       "      <td>Austria</td>\n",
       "      <td>3.50</td>\n",
       "      <td>Forastero</td>\n",
       "      <td>India</td>\n",
       "    </tr>\n",
       "    <tr>\n",
       "      <th>1793</th>\n",
       "      <td>Zotter</td>\n",
       "      <td>Kerala State</td>\n",
       "      <td>781</td>\n",
       "      <td>2011</td>\n",
       "      <td>62%</td>\n",
       "      <td>Austria</td>\n",
       "      <td>3.25</td>\n",
       "      <td></td>\n",
       "      <td>India</td>\n",
       "    </tr>\n",
       "    <tr>\n",
       "      <th>1794</th>\n",
       "      <td>Zotter</td>\n",
       "      <td>Brazil, Mitzi Blue</td>\n",
       "      <td>486</td>\n",
       "      <td>2010</td>\n",
       "      <td>65%</td>\n",
       "      <td>Austria</td>\n",
       "      <td>3.00</td>\n",
       "      <td></td>\n",
       "      <td>Brazil</td>\n",
       "    </tr>\n",
       "  </tbody>\n",
       "</table>\n",
       "<p>1795 rows × 9 columns</p>\n",
       "</div>"
      ],
      "text/plain": [
       "     Company \\n(Maker-if known) Specific Bean Origin\\nor Bar Name   REF  \\\n",
       "0                      A. Morin                       Agua Grande  1876   \n",
       "1                      A. Morin                             Kpime  1676   \n",
       "2                      A. Morin                            Atsane  1676   \n",
       "3                      A. Morin                             Akata  1680   \n",
       "4                      A. Morin                            Quilla  1704   \n",
       "...                         ...                               ...   ...   \n",
       "1790                     Zotter                              Peru   647   \n",
       "1791                     Zotter                             Congo   749   \n",
       "1792                     Zotter                      Kerala State   749   \n",
       "1793                     Zotter                      Kerala State   781   \n",
       "1794                     Zotter                Brazil, Mitzi Blue   486   \n",
       "\n",
       "      Review\\nDate Cocoa\\nPercent Company\\nLocation  Rating Bean\\nType  \\\n",
       "0             2016            63%            France    3.75              \n",
       "1             2015            70%            France    2.75              \n",
       "2             2015            70%            France    3.00              \n",
       "3             2015            70%            France    3.50              \n",
       "4             2015            70%            France    3.50              \n",
       "...            ...            ...               ...     ...        ...   \n",
       "1790          2011            70%           Austria    3.75              \n",
       "1791          2011            65%           Austria    3.00  Forastero   \n",
       "1792          2011            65%           Austria    3.50  Forastero   \n",
       "1793          2011            62%           Austria    3.25              \n",
       "1794          2010            65%           Austria    3.00              \n",
       "\n",
       "     Broad Bean\\nOrigin  \n",
       "0              Sao Tome  \n",
       "1                  Togo  \n",
       "2                  Togo  \n",
       "3                  Togo  \n",
       "4                  Peru  \n",
       "...                 ...  \n",
       "1790               Peru  \n",
       "1791              Congo  \n",
       "1792              India  \n",
       "1793              India  \n",
       "1794             Brazil  \n",
       "\n",
       "[1795 rows x 9 columns]"
      ]
     },
     "execution_count": 27,
     "metadata": {},
     "output_type": "execute_result"
    }
   ],
   "source": [
    "df"
   ]
  },
  {
   "cell_type": "code",
   "execution_count": 28,
   "metadata": {},
   "outputs": [
    {
     "data": {
      "text/plain": [
       "1795"
      ]
     },
     "execution_count": 28,
     "metadata": {},
     "output_type": "execute_result"
    }
   ],
   "source": [
    "len(df) #How many tuples are in the dataset"
   ]
  },
  {
   "cell_type": "code",
   "execution_count": 29,
   "metadata": {},
   "outputs": [
    {
     "data": {
      "text/plain": [
       "Index(['Company \\n(Maker-if known)', 'Specific Bean Origin\\nor Bar Name',\n",
       "       'REF', 'Review\\nDate', 'Cocoa\\nPercent', 'Company\\nLocation', 'Rating',\n",
       "       'Bean\\nType', 'Broad Bean\\nOrigin'],\n",
       "      dtype='object')"
      ]
     },
     "execution_count": 29,
     "metadata": {},
     "output_type": "execute_result"
    }
   ],
   "source": [
    "df.columns"
   ]
  },
  {
   "cell_type": "code",
   "execution_count": 30,
   "metadata": {},
   "outputs": [
    {
     "data": {
      "text/plain": [
       "416"
      ]
     },
     "execution_count": 30,
     "metadata": {},
     "output_type": "execute_result"
    }
   ],
   "source": [
    "#How many unique company names are there in the dataset?\n",
    "len(df[\"Company \\n(Maker-if known)\"].unique())"
   ]
  },
  {
   "cell_type": "code",
   "execution_count": 31,
   "metadata": {},
   "outputs": [
    {
     "data": {
      "text/plain": [
       "array([2016, 2015, 2014, 2013, 2012, 2011, 2009, 2010, 2017, 2008, 2007,\n",
       "       2006])"
      ]
     },
     "execution_count": 31,
     "metadata": {},
     "output_type": "execute_result"
    }
   ],
   "source": [
    "df[\"Review\\nDate\"].unique()"
   ]
  },
  {
   "cell_type": "code",
   "execution_count": 32,
   "metadata": {},
   "outputs": [
    {
     "data": {
      "text/plain": [
       "184"
      ]
     },
     "execution_count": 32,
     "metadata": {},
     "output_type": "execute_result"
    }
   ],
   "source": [
    "#How many review were made in 2013?\n",
    "len(df[df[\"Review\\nDate\"] == 2013])"
   ]
  },
  {
   "cell_type": "code",
   "execution_count": 33,
   "metadata": {},
   "outputs": [
    {
     "data": {
      "text/plain": [
       "Company \\n(Maker-if known)           0\n",
       "Specific Bean Origin\\nor Bar Name    0\n",
       "REF                                  0\n",
       "Review\\nDate                         0\n",
       "Cocoa\\nPercent                       0\n",
       "Company\\nLocation                    0\n",
       "Rating                               0\n",
       "Bean\\nType                           1\n",
       "Broad Bean\\nOrigin                   1\n",
       "dtype: int64"
      ]
     },
     "execution_count": 33,
     "metadata": {},
     "output_type": "execute_result"
    }
   ],
   "source": [
    "#How many missing values are in the Bean Type column?\n",
    "df.isna().sum()\n",
    "\n"
   ]
  },
  {
   "cell_type": "code",
   "execution_count": 34,
   "metadata": {},
   "outputs": [
    {
     "data": {
      "text/plain": [
       "(array([  4.,  13.,  32., 141., 259., 644., 602.,  98.,   0.,   2.]),\n",
       " array([1. , 1.4, 1.8, 2.2, 2.6, 3. , 3.4, 3.8, 4.2, 4.6, 5. ]),\n",
       " <BarContainer object of 10 artists>)"
      ]
     },
     "execution_count": 34,
     "metadata": {},
     "output_type": "execute_result"
    },
    {
     "data": {
      "image/png": "[encoded data removed]",
      "text/plain": [
       "<Figure size 640x480 with 1 Axes>"
      ]
     },
     "metadata": {},
     "output_type": "display_data"
    }
   ],
   "source": [
    "#An output plot of the histogram of the values in the column named Ratings\n",
    "\n",
    "plt.title(\"Histogram of Ratings \")\n",
    "plt.hist(df[\"Rating\"], bins = 10)\n",
    "\n"
   ]
  },
  {
   "cell_type": "code",
   "execution_count": 35,
   "metadata": {},
   "outputs": [],
   "source": [
    "# Convert to float (whole percentage)\n",
    "df[\"Cocoa\\nPercent\"] = df[\"Cocoa\\nPercent\"].str.rstrip('%').astype('float')"
   ]
  },
  {
   "cell_type": "code",
   "execution_count": 36,
   "metadata": {},
   "outputs": [
    {
     "data": {
      "text/plain": [
       "0       63.0\n",
       "1       70.0\n",
       "2       70.0\n",
       "3       70.0\n",
       "4       70.0\n",
       "        ... \n",
       "1790    70.0\n",
       "1791    65.0\n",
       "1792    65.0\n",
       "1793    62.0\n",
       "1794    65.0\n",
       "Name: Cocoa\\nPercent, Length: 1795, dtype: float64"
      ]
     },
     "execution_count": 36,
     "metadata": {},
     "output_type": "execute_result"
    }
   ],
   "source": [
    "df[\"Cocoa\\nPercent\"]"
   ]
  },
  {
   "cell_type": "code",
   "execution_count": 43,
   "metadata": {},
   "outputs": [
    {
     "data": {
      "text/plain": [
       "Text(0.5, 1.0, 'Cocoa Percent vs Rating')"
      ]
     },
     "execution_count": 43,
     "metadata": {},
     "output_type": "execute_result"
    },
    {
     "data": {
      "image/png": "[encoded data removed]",
      "text/plain": [
       "<Figure size 640x480 with 1 Axes>"
      ]
     },
     "metadata": {},
     "output_type": "display_data"
    }
   ],
   "source": [
    "\n",
    "plt.title(\"cocoa percent vs rating\")\n",
    "\n",
    "plt.scatter(df[\"Cocoa\\nPercent\"], df[\"Rating\"], alpha = 0.5)\n",
    "\n",
    "plt.xlabel('Cocoa Percent (%)')\n",
    "plt.ylabel('Rating')\n",
    "plt.title('Cocoa Percent vs Rating')\n",
    "\n"
   ]
  },
  {
   "cell_type": "code",
   "execution_count": 48,
   "metadata": {},
   "outputs": [
    {
     "data": {
      "application/vnd.microsoft.datawrangler.viewer.v0+json": {
       "columns": [
        {
         "name": "index",
         "rawType": "int64",
         "type": "integer"
        },
        {
         "name": "Rating",
         "rawType": "float64",
         "type": "float"
        },
        {
         "name": "Normalized_Rating",
         "rawType": "float64",
         "type": "float"
        }
       ],
       "conversionMethod": "pd.DataFrame",
       "ref": "3278e7d5-f412-4ab8-b3f0-9778eff95649",
       "rows": [
        [
         "0",
         "3.75",
         "0.6875"
        ],
        [
         "1",
         "2.75",
         "0.4375"
        ],
        [
         "2",
         "3.0",
         "0.5"
        ],
        [
         "3",
         "3.5",
         "0.625"
        ],
        [
         "4",
         "3.5",
         "0.625"
        ],
        [
         "5",
         "2.75",
         "0.4375"
        ],
        [
         "6",
         "3.5",
         "0.625"
        ],
        [
         "7",
         "3.5",
         "0.625"
        ],
        [
         "8",
         "3.75",
         "0.6875"
        ],
        [
         "9",
         "4.0",
         "0.75"
        ],
        [
         "10",
         "2.75",
         "0.4375"
        ],
        [
         "11",
         "3.0",
         "0.5"
        ],
        [
         "12",
         "3.25",
         "0.5625"
        ],
        [
         "13",
         "3.75",
         "0.6875"
        ],
        [
         "14",
         "2.75",
         "0.4375"
        ],
        [
         "15",
         "3.0",
         "0.5"
        ],
        [
         "16",
         "3.25",
         "0.5625"
        ],
        [
         "17",
         "4.0",
         "0.75"
        ],
        [
         "18",
         "3.25",
         "0.5625"
        ],
        [
         "19",
         "3.5",
         "0.625"
        ],
        [
         "20",
         "4.0",
         "0.75"
        ],
        [
         "21",
         "3.5",
         "0.625"
        ],
        [
         "22",
         "3.75",
         "0.6875"
        ],
        [
         "23",
         "3.75",
         "0.6875"
        ],
        [
         "24",
         "3.75",
         "0.6875"
        ],
        [
         "25",
         "2.75",
         "0.4375"
        ],
        [
         "26",
         "3.25",
         "0.5625"
        ],
        [
         "27",
         "3.5",
         "0.625"
        ],
        [
         "28",
         "3.5",
         "0.625"
        ],
        [
         "29",
         "2.75",
         "0.4375"
        ],
        [
         "30",
         "3.0",
         "0.5"
        ],
        [
         "31",
         "3.0",
         "0.5"
        ],
        [
         "32",
         "3.75",
         "0.6875"
        ],
        [
         "33",
         "2.75",
         "0.4375"
        ],
        [
         "34",
         "2.75",
         "0.4375"
        ],
        [
         "35",
         "2.75",
         "0.4375"
        ],
        [
         "36",
         "2.75",
         "0.4375"
        ],
        [
         "37",
         "3.0",
         "0.5"
        ],
        [
         "38",
         "2.5",
         "0.375"
        ],
        [
         "39",
         "2.5",
         "0.375"
        ],
        [
         "40",
         "3.5",
         "0.625"
        ],
        [
         "41",
         "3.5",
         "0.625"
        ],
        [
         "42",
         "3.5",
         "0.625"
        ],
        [
         "43",
         "3.5",
         "0.625"
        ],
        [
         "44",
         "2.75",
         "0.4375"
        ],
        [
         "45",
         "3.0",
         "0.5"
        ],
        [
         "46",
         "2.5",
         "0.375"
        ],
        [
         "47",
         "2.5",
         "0.375"
        ],
        [
         "48",
         "2.75",
         "0.4375"
        ],
        [
         "49",
         "2.5",
         "0.375"
        ]
       ],
       "shape": {
        "columns": 2,
        "rows": 1795
       }
      },
      "text/html": [
       "<div>\n",
       "<style scoped>\n",
       "    .dataframe tbody tr th:only-of-type {\n",
       "        vertical-align: middle;\n",
       "    }\n",
       "\n",
       "    .dataframe tbody tr th {\n",
       "        vertical-align: top;\n",
       "    }\n",
       "\n",
       "    .dataframe thead th {\n",
       "        text-align: right;\n",
       "    }\n",
       "</style>\n",
       "<table border=\"1\" class=\"dataframe\">\n",
       "  <thead>\n",
       "    <tr style=\"text-align: right;\">\n",
       "      <th></th>\n",
       "      <th>Rating</th>\n",
       "      <th>Normalized_Rating</th>\n",
       "    </tr>\n",
       "  </thead>\n",
       "  <tbody>\n",
       "    <tr>\n",
       "      <th>0</th>\n",
       "      <td>3.75</td>\n",
       "      <td>0.6875</td>\n",
       "    </tr>\n",
       "    <tr>\n",
       "      <th>1</th>\n",
       "      <td>2.75</td>\n",
       "      <td>0.4375</td>\n",
       "    </tr>\n",
       "    <tr>\n",
       "      <th>2</th>\n",
       "      <td>3.00</td>\n",
       "      <td>0.5000</td>\n",
       "    </tr>\n",
       "    <tr>\n",
       "      <th>3</th>\n",
       "      <td>3.50</td>\n",
       "      <td>0.6250</td>\n",
       "    </tr>\n",
       "    <tr>\n",
       "      <th>4</th>\n",
       "      <td>3.50</td>\n",
       "      <td>0.6250</td>\n",
       "    </tr>\n",
       "    <tr>\n",
       "      <th>...</th>\n",
       "      <td>...</td>\n",
       "      <td>...</td>\n",
       "    </tr>\n",
       "    <tr>\n",
       "      <th>1790</th>\n",
       "      <td>3.75</td>\n",
       "      <td>0.6875</td>\n",
       "    </tr>\n",
       "    <tr>\n",
       "      <th>1791</th>\n",
       "      <td>3.00</td>\n",
       "      <td>0.5000</td>\n",
       "    </tr>\n",
       "    <tr>\n",
       "      <th>1792</th>\n",
       "      <td>3.50</td>\n",
       "      <td>0.6250</td>\n",
       "    </tr>\n",
       "    <tr>\n",
       "      <th>1793</th>\n",
       "      <td>3.25</td>\n",
       "      <td>0.5625</td>\n",
       "    </tr>\n",
       "    <tr>\n",
       "      <th>1794</th>\n",
       "      <td>3.00</td>\n",
       "      <td>0.5000</td>\n",
       "    </tr>\n",
       "  </tbody>\n",
       "</table>\n",
       "<p>1795 rows × 2 columns</p>\n",
       "</div>"
      ],
      "text/plain": [
       "      Rating  Normalized_Rating\n",
       "0       3.75             0.6875\n",
       "1       2.75             0.4375\n",
       "2       3.00             0.5000\n",
       "3       3.50             0.6250\n",
       "4       3.50             0.6250\n",
       "...      ...                ...\n",
       "1790    3.75             0.6875\n",
       "1791    3.00             0.5000\n",
       "1792    3.50             0.6250\n",
       "1793    3.25             0.5625\n",
       "1794    3.00             0.5000\n",
       "\n",
       "[1795 rows x 2 columns]"
      ]
     },
     "execution_count": 48,
     "metadata": {},
     "output_type": "execute_result"
    }
   ],
   "source": [
    "#Normalize data\n",
    "from sklearn.preprocessing import MinMaxScaler\n",
    "scaler = MinMaxScaler()\n",
    "df[\"Normalized_Rating\"] = scaler.fit_transform(df[[\"Rating\"]])\n",
    "\n",
    "\n",
    "df[[\"Rating\", \"Normalized_Rating\"]]\n"
   ]
  },
  {
   "cell_type": "code",
   "execution_count": 52,
   "metadata": {},
   "outputs": [
    {
     "data": {
      "text/plain": [
       "Company \\n(Maker-if known)\n",
       "Tobago Estate (Pralus)                  0.750000\n",
       "Ocelot                                  0.718750\n",
       "Heirloom Cacao Preservation (Zokoko)    0.718750\n",
       "Amedei                                  0.711538\n",
       "Matale                                  0.703125\n",
       "                                          ...   \n",
       "Love Bar                                0.250000\n",
       "Majani                                  0.250000\n",
       "Machu Picchu Trading Co.                0.218750\n",
       "Callebaut                               0.218750\n",
       "Cote d' Or (Kraft)                      0.000000\n",
       "Name: Normalized_Rating, Length: 416, dtype: float64"
      ]
     },
     "execution_count": 52,
     "metadata": {},
     "output_type": "execute_result"
    }
   ],
   "source": [
    "#List the companies ordered by their average score (averaged over each company’s reviews).\n",
    "\n",
    "company_average_score = df.groupby(\"Company \\n(Maker-if known)\")[\"Normalized_Rating\"].mean()\n",
    "company_average_score = company_average_score.sort_values(ascending=False)\n",
    "\n",
    "company_average_score \n"
   ]
  }
 ],
 "metadata": {
  "kernelspec": {
   "display_name": "Python 3",
   "language": "python",
   "name": "python3"
  },
  "language_info": {
   "codemirror_mode": {
    "name": "ipython",
    "version": 3
   },
   "file_extension": ".py",
   "mimetype": "text/x-python",
   "name": "python",
   "nbconvert_exporter": "python",
   "pygments_lexer": "ipython3",
   "version": "3.13.1"
  }
 },
 "nbformat": 4,
 "nbformat_minor": 2
}
