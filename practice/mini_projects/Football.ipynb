{
 "cells": [
  {
   "cell_type": "code",
   "execution_count": null,
   "metadata": {},
   "outputs": [],
   "source": [
    "import pandas as pd\n",
    "import seaborn as sn\n",
    "import matplotlib.pyplot as plt\n",
    "\n",
    "filename = \"xxxxxxxxxxxxxxx\"\n",
    "\n",
    "df =pd.read_csv(filename)\n"
   ]
  },
  {
   "cell_type": "code",
   "execution_count": null,
   "metadata": {},
   "outputs": [],
   "source": [
    "#The count of the tuples in the given dataset.\n",
    "print(len(df)) #number of rows"
   ]
  },
  {
   "cell_type": "code",
   "execution_count": null,
   "metadata": {},
   "outputs": [],
   "source": [
    "#The count of the names of unique tournament names from the attributes.\n",
    "print(\"unique tournaments:\", len(df[\"tournament\"].unique())) #values that are not repeated"
   ]
  },
  {
   "cell_type": "code",
   "execution_count": null,
   "metadata": {},
   "outputs": [],
   "source": [
    "#The count of matches in 2018 from the attributes.\n",
    "df[\"date\"] = pd.to_datetime(df[\"date\"])\n",
    "print(df[\"date\"])\n",
    "print(\"matches played in 2018:\", len(df[df[\"date\"].dt.year == 2018]))"
   ]
  },
  {
   "cell_type": "code",
   "execution_count": null,
   "metadata": {},
   "outputs": [],
   "source": [
    "#The count of wins, losses or draws given in the data columns.\n",
    "result_counts = df['neutral'].value_counts()\n",
    "print(result_counts)"
   ]
  },
  {
   "cell_type": "code",
   "execution_count": null,
   "metadata": {},
   "outputs": [],
   "source": [
    "#An output plot of the pie chart of the wins, losses or draws.\n",
    "result_counts.plot(kind='pie', autopct='%1.1f%%')\n",
    "plt.title('Distribution of Wins, Losses, and Draws')\n",
    "plt.ylabel('')\n",
    "plt.show()"
   ]
  }
 ],
 "metadata": {
  "language_info": {
   "name": "python"
  }
 },
 "nbformat": 4,
 "nbformat_minor": 2
}
